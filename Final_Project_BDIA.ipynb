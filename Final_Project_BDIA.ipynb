{
 "cells": [
  {
   "cell_type": "code",
   "execution_count": 114,
   "metadata": {},
   "outputs": [],
   "source": [
    "from __future__ import print_function\n",
    "%matplotlib inline\n",
    "import pandas as pd\n",
    "import matplotlib.pyplot as plt\n",
    "import numpy as np\n",
    "from scipy import stats\n",
    "import seaborn as sns\n",
    "import statsmodels.api as sm\n",
    "from sklearn import linear_model\n",
    "from statsmodels.formula.api import ols\n",
    "from sklearn.linear_model import LinearRegression\n",
    "from sklearn.preprocessing import PolynomialFeatures\n",
    "from sklearn.pipeline import make_pipeline\n",
    "from sklearn import metrics, cross_validation\n",
    "from sklearn.cross_validation import cross_val_score\n",
    "from sklearn.model_selection import KFold"
   ]
  },
  {
   "cell_type": "code",
   "execution_count": 115,
   "metadata": {},
   "outputs": [
    {
     "data": {
      "text/plain": [
       "('2015.csv', <http.client.HTTPMessage at 0x22915dc4d30>)"
      ]
     },
     "execution_count": 115,
     "metadata": {},
     "output_type": "execute_result"
    }
   ],
   "source": [
    "import os\n",
    "import urllib.request\n",
    "url = \"https://s3-us-west-2.amazonaws.com/bdafinalproject/2017.csv\"\n",
    "url1 = \"https://s3-us-west-2.amazonaws.com/bdafinalproject/2016.csv\"\n",
    "url2 = \"https://s3-us-west-2.amazonaws.com/bdafinalproject/2015.csv\"\n",
    "urllib.request.urlretrieve(url,'2017.csv')\n",
    "urllib.request.urlretrieve(url1,'2016.csv')\n",
    "urllib.request.urlretrieve(url2,'2015.csv')"
   ]
  },
  {
   "cell_type": "code",
   "execution_count": 116,
   "metadata": {},
   "outputs": [],
   "source": [
    "data1 = pd.read_csv('2017.csv')"
   ]
  },
  {
   "cell_type": "code",
   "execution_count": 117,
   "metadata": {},
   "outputs": [
    {
     "data": {
      "text/html": [
       "<div>\n",
       "<style scoped>\n",
       "    .dataframe tbody tr th:only-of-type {\n",
       "        vertical-align: middle;\n",
       "    }\n",
       "\n",
       "    .dataframe tbody tr th {\n",
       "        vertical-align: top;\n",
       "    }\n",
       "\n",
       "    .dataframe thead th {\n",
       "        text-align: right;\n",
       "    }\n",
       "</style>\n",
       "<table border=\"1\" class=\"dataframe\">\n",
       "  <thead>\n",
       "    <tr style=\"text-align: right;\">\n",
       "      <th></th>\n",
       "      <th>Country</th>\n",
       "      <th>Happiness.Rank</th>\n",
       "      <th>Happiness.Score</th>\n",
       "      <th>Whisker.high</th>\n",
       "      <th>Whisker.low</th>\n",
       "      <th>Economy..GDP.per.Capita.</th>\n",
       "      <th>Family</th>\n",
       "      <th>Health..Life.Expectancy.</th>\n",
       "      <th>Freedom</th>\n",
       "      <th>Generosity</th>\n",
       "      <th>Trust..Government.Corruption.</th>\n",
       "      <th>Dystopia.Residual</th>\n",
       "    </tr>\n",
       "  </thead>\n",
       "  <tbody>\n",
       "    <tr>\n",
       "      <th>0</th>\n",
       "      <td>Norway</td>\n",
       "      <td>1</td>\n",
       "      <td>7.537</td>\n",
       "      <td>7.594445</td>\n",
       "      <td>7.479556</td>\n",
       "      <td>1.616463</td>\n",
       "      <td>1.533524</td>\n",
       "      <td>0.796667</td>\n",
       "      <td>0.635423</td>\n",
       "      <td>0.362012</td>\n",
       "      <td>0.315964</td>\n",
       "      <td>2.277027</td>\n",
       "    </tr>\n",
       "    <tr>\n",
       "      <th>1</th>\n",
       "      <td>Denmark</td>\n",
       "      <td>2</td>\n",
       "      <td>7.522</td>\n",
       "      <td>7.581728</td>\n",
       "      <td>7.462272</td>\n",
       "      <td>1.482383</td>\n",
       "      <td>1.551122</td>\n",
       "      <td>0.792566</td>\n",
       "      <td>0.626007</td>\n",
       "      <td>0.355280</td>\n",
       "      <td>0.400770</td>\n",
       "      <td>2.313707</td>\n",
       "    </tr>\n",
       "    <tr>\n",
       "      <th>2</th>\n",
       "      <td>Iceland</td>\n",
       "      <td>3</td>\n",
       "      <td>7.504</td>\n",
       "      <td>7.622030</td>\n",
       "      <td>7.385970</td>\n",
       "      <td>1.480633</td>\n",
       "      <td>1.610574</td>\n",
       "      <td>0.833552</td>\n",
       "      <td>0.627163</td>\n",
       "      <td>0.475540</td>\n",
       "      <td>0.153527</td>\n",
       "      <td>2.322715</td>\n",
       "    </tr>\n",
       "    <tr>\n",
       "      <th>3</th>\n",
       "      <td>Switzerland</td>\n",
       "      <td>4</td>\n",
       "      <td>7.494</td>\n",
       "      <td>7.561772</td>\n",
       "      <td>7.426227</td>\n",
       "      <td>1.564980</td>\n",
       "      <td>1.516912</td>\n",
       "      <td>0.858131</td>\n",
       "      <td>0.620071</td>\n",
       "      <td>0.290549</td>\n",
       "      <td>0.367007</td>\n",
       "      <td>2.276716</td>\n",
       "    </tr>\n",
       "    <tr>\n",
       "      <th>4</th>\n",
       "      <td>Finland</td>\n",
       "      <td>5</td>\n",
       "      <td>7.469</td>\n",
       "      <td>7.527542</td>\n",
       "      <td>7.410458</td>\n",
       "      <td>1.443572</td>\n",
       "      <td>1.540247</td>\n",
       "      <td>0.809158</td>\n",
       "      <td>0.617951</td>\n",
       "      <td>0.245483</td>\n",
       "      <td>0.382612</td>\n",
       "      <td>2.430182</td>\n",
       "    </tr>\n",
       "  </tbody>\n",
       "</table>\n",
       "</div>"
      ],
      "text/plain": [
       "       Country  Happiness.Rank  Happiness.Score  Whisker.high  Whisker.low  \\\n",
       "0       Norway               1            7.537      7.594445     7.479556   \n",
       "1      Denmark               2            7.522      7.581728     7.462272   \n",
       "2      Iceland               3            7.504      7.622030     7.385970   \n",
       "3  Switzerland               4            7.494      7.561772     7.426227   \n",
       "4      Finland               5            7.469      7.527542     7.410458   \n",
       "\n",
       "   Economy..GDP.per.Capita.    Family  Health..Life.Expectancy.   Freedom  \\\n",
       "0                  1.616463  1.533524                  0.796667  0.635423   \n",
       "1                  1.482383  1.551122                  0.792566  0.626007   \n",
       "2                  1.480633  1.610574                  0.833552  0.627163   \n",
       "3                  1.564980  1.516912                  0.858131  0.620071   \n",
       "4                  1.443572  1.540247                  0.809158  0.617951   \n",
       "\n",
       "   Generosity  Trust..Government.Corruption.  Dystopia.Residual  \n",
       "0    0.362012                       0.315964           2.277027  \n",
       "1    0.355280                       0.400770           2.313707  \n",
       "2    0.475540                       0.153527           2.322715  \n",
       "3    0.290549                       0.367007           2.276716  \n",
       "4    0.245483                       0.382612           2.430182  "
      ]
     },
     "execution_count": 117,
     "metadata": {},
     "output_type": "execute_result"
    }
   ],
   "source": [
    "data1.head()"
   ]
  },
  {
   "cell_type": "markdown",
   "metadata": {},
   "source": [
    "Data Loading"
   ]
  },
  {
   "cell_type": "code",
   "execution_count": 118,
   "metadata": {},
   "outputs": [
    {
     "data": {
      "text/plain": [
       "Index(['Country', 'Happiness.Rank', 'Happiness.Score', 'Whisker.high',\n",
       "       'Whisker.low', 'Economy..GDP.per.Capita.', 'Family',\n",
       "       'Health..Life.Expectancy.', 'Freedom', 'Generosity',\n",
       "       'Trust..Government.Corruption.', 'Dystopia.Residual'],\n",
       "      dtype='object')"
      ]
     },
     "execution_count": 118,
     "metadata": {},
     "output_type": "execute_result"
    }
   ],
   "source": [
    "data1.columns"
   ]
  },
  {
   "cell_type": "code",
   "execution_count": 119,
   "metadata": {},
   "outputs": [],
   "source": [
    "data1.rename(columns={'Country':'Country', 'Happiness.Rank':'Happiness_Rank','Happiness.Score':'Happiness_Score',\n",
    " 'Economy..GDP.per.Capita.':'Economy', 'Family':'Family',\n",
    "       'Health..Life.Expectancy.':'Health', 'Freedom':'Freedom', 'Generosity':'Generosity',\n",
    "       'Trust..Government.Corruption.':'Trust','Dystopia.Residual':'Dystopia_Residual'},inplace=True)"
   ]
  },
  {
   "cell_type": "code",
   "execution_count": 219,
   "metadata": {},
   "outputs": [],
   "source": [
    "data1['Year'] = int(\"2017\")"
   ]
  },
  {
   "cell_type": "code",
   "execution_count": 122,
   "metadata": {},
   "outputs": [
    {
     "data": {
      "text/html": [
       "<div>\n",
       "<style scoped>\n",
       "    .dataframe tbody tr th:only-of-type {\n",
       "        vertical-align: middle;\n",
       "    }\n",
       "\n",
       "    .dataframe tbody tr th {\n",
       "        vertical-align: top;\n",
       "    }\n",
       "\n",
       "    .dataframe thead th {\n",
       "        text-align: right;\n",
       "    }\n",
       "</style>\n",
       "<table border=\"1\" class=\"dataframe\">\n",
       "  <thead>\n",
       "    <tr style=\"text-align: right;\">\n",
       "      <th></th>\n",
       "      <th>Country</th>\n",
       "      <th>Happiness_Rank</th>\n",
       "      <th>Happiness_Score</th>\n",
       "      <th>Whisker.high</th>\n",
       "      <th>Economy</th>\n",
       "      <th>Family</th>\n",
       "      <th>Health</th>\n",
       "      <th>Freedom</th>\n",
       "      <th>Generosity</th>\n",
       "      <th>Trust</th>\n",
       "      <th>Dystopia_Residual</th>\n",
       "      <th>Year</th>\n",
       "    </tr>\n",
       "  </thead>\n",
       "  <tbody>\n",
       "    <tr>\n",
       "      <th>0</th>\n",
       "      <td>Norway</td>\n",
       "      <td>1</td>\n",
       "      <td>7.537</td>\n",
       "      <td>7.594445</td>\n",
       "      <td>1.616463</td>\n",
       "      <td>1.533524</td>\n",
       "      <td>0.796667</td>\n",
       "      <td>0.635423</td>\n",
       "      <td>0.362012</td>\n",
       "      <td>0.315964</td>\n",
       "      <td>2.277027</td>\n",
       "      <td>2017</td>\n",
       "    </tr>\n",
       "    <tr>\n",
       "      <th>1</th>\n",
       "      <td>Denmark</td>\n",
       "      <td>2</td>\n",
       "      <td>7.522</td>\n",
       "      <td>7.581728</td>\n",
       "      <td>1.482383</td>\n",
       "      <td>1.551122</td>\n",
       "      <td>0.792566</td>\n",
       "      <td>0.626007</td>\n",
       "      <td>0.355280</td>\n",
       "      <td>0.400770</td>\n",
       "      <td>2.313707</td>\n",
       "      <td>2017</td>\n",
       "    </tr>\n",
       "    <tr>\n",
       "      <th>2</th>\n",
       "      <td>Iceland</td>\n",
       "      <td>3</td>\n",
       "      <td>7.504</td>\n",
       "      <td>7.622030</td>\n",
       "      <td>1.480633</td>\n",
       "      <td>1.610574</td>\n",
       "      <td>0.833552</td>\n",
       "      <td>0.627163</td>\n",
       "      <td>0.475540</td>\n",
       "      <td>0.153527</td>\n",
       "      <td>2.322715</td>\n",
       "      <td>2017</td>\n",
       "    </tr>\n",
       "    <tr>\n",
       "      <th>3</th>\n",
       "      <td>Switzerland</td>\n",
       "      <td>4</td>\n",
       "      <td>7.494</td>\n",
       "      <td>7.561772</td>\n",
       "      <td>1.564980</td>\n",
       "      <td>1.516912</td>\n",
       "      <td>0.858131</td>\n",
       "      <td>0.620071</td>\n",
       "      <td>0.290549</td>\n",
       "      <td>0.367007</td>\n",
       "      <td>2.276716</td>\n",
       "      <td>2017</td>\n",
       "    </tr>\n",
       "    <tr>\n",
       "      <th>4</th>\n",
       "      <td>Finland</td>\n",
       "      <td>5</td>\n",
       "      <td>7.469</td>\n",
       "      <td>7.527542</td>\n",
       "      <td>1.443572</td>\n",
       "      <td>1.540247</td>\n",
       "      <td>0.809158</td>\n",
       "      <td>0.617951</td>\n",
       "      <td>0.245483</td>\n",
       "      <td>0.382612</td>\n",
       "      <td>2.430182</td>\n",
       "      <td>2017</td>\n",
       "    </tr>\n",
       "  </tbody>\n",
       "</table>\n",
       "</div>"
      ],
      "text/plain": [
       "       Country  Happiness_Rank  Happiness_Score  Whisker.high   Economy  \\\n",
       "0       Norway               1            7.537      7.594445  1.616463   \n",
       "1      Denmark               2            7.522      7.581728  1.482383   \n",
       "2      Iceland               3            7.504      7.622030  1.480633   \n",
       "3  Switzerland               4            7.494      7.561772  1.564980   \n",
       "4      Finland               5            7.469      7.527542  1.443572   \n",
       "\n",
       "     Family    Health   Freedom  Generosity     Trust  Dystopia_Residual  Year  \n",
       "0  1.533524  0.796667  0.635423    0.362012  0.315964           2.277027  2017  \n",
       "1  1.551122  0.792566  0.626007    0.355280  0.400770           2.313707  2017  \n",
       "2  1.610574  0.833552  0.627163    0.475540  0.153527           2.322715  2017  \n",
       "3  1.516912  0.858131  0.620071    0.290549  0.367007           2.276716  2017  \n",
       "4  1.540247  0.809158  0.617951    0.245483  0.382612           2.430182  2017  "
      ]
     },
     "execution_count": 122,
     "metadata": {},
     "output_type": "execute_result"
    }
   ],
   "source": [
    "data1.head()"
   ]
  },
  {
   "cell_type": "code",
   "execution_count": 123,
   "metadata": {},
   "outputs": [],
   "source": [
    "data2 = pd.read_csv('2016.csv')"
   ]
  },
  {
   "cell_type": "code",
   "execution_count": 124,
   "metadata": {},
   "outputs": [],
   "source": [
    "data2.rename(columns={'Country':'Country', 'Happiness Rank':'Happiness_Rank','Happiness Score':'Happiness_Score',\n",
    " 'Economy (GDP per Capita)':'Economy', 'Family':'Family',\n",
    "       'Health (Life Expectancy)':'Health', 'Freedom':'Freedom', 'Generosity':'Generosity',\n",
    "       'Trust (Government Corruption)':'Trust','Dystopia Residual':'Dystopia_Residual'},inplace=True)"
   ]
  },
  {
   "cell_type": "code",
   "execution_count": 125,
   "metadata": {},
   "outputs": [
    {
     "data": {
      "text/html": [
       "<div>\n",
       "<style scoped>\n",
       "    .dataframe tbody tr th:only-of-type {\n",
       "        vertical-align: middle;\n",
       "    }\n",
       "\n",
       "    .dataframe tbody tr th {\n",
       "        vertical-align: top;\n",
       "    }\n",
       "\n",
       "    .dataframe thead th {\n",
       "        text-align: right;\n",
       "    }\n",
       "</style>\n",
       "<table border=\"1\" class=\"dataframe\">\n",
       "  <thead>\n",
       "    <tr style=\"text-align: right;\">\n",
       "      <th></th>\n",
       "      <th>Country</th>\n",
       "      <th>Region</th>\n",
       "      <th>Happiness_Rank</th>\n",
       "      <th>Happiness_Score</th>\n",
       "      <th>Lower Confidence Interval</th>\n",
       "      <th>Upper Confidence Interval</th>\n",
       "      <th>Economy</th>\n",
       "      <th>Family</th>\n",
       "      <th>Health</th>\n",
       "      <th>Freedom</th>\n",
       "      <th>Trust</th>\n",
       "      <th>Generosity</th>\n",
       "      <th>Dystopia_Residual</th>\n",
       "    </tr>\n",
       "  </thead>\n",
       "  <tbody>\n",
       "    <tr>\n",
       "      <th>0</th>\n",
       "      <td>Denmark</td>\n",
       "      <td>Western Europe</td>\n",
       "      <td>1</td>\n",
       "      <td>7.526</td>\n",
       "      <td>7.460</td>\n",
       "      <td>7.592</td>\n",
       "      <td>1.44178</td>\n",
       "      <td>1.16374</td>\n",
       "      <td>0.79504</td>\n",
       "      <td>0.57941</td>\n",
       "      <td>0.44453</td>\n",
       "      <td>0.36171</td>\n",
       "      <td>2.73939</td>\n",
       "    </tr>\n",
       "    <tr>\n",
       "      <th>1</th>\n",
       "      <td>Switzerland</td>\n",
       "      <td>Western Europe</td>\n",
       "      <td>2</td>\n",
       "      <td>7.509</td>\n",
       "      <td>7.428</td>\n",
       "      <td>7.590</td>\n",
       "      <td>1.52733</td>\n",
       "      <td>1.14524</td>\n",
       "      <td>0.86303</td>\n",
       "      <td>0.58557</td>\n",
       "      <td>0.41203</td>\n",
       "      <td>0.28083</td>\n",
       "      <td>2.69463</td>\n",
       "    </tr>\n",
       "    <tr>\n",
       "      <th>2</th>\n",
       "      <td>Iceland</td>\n",
       "      <td>Western Europe</td>\n",
       "      <td>3</td>\n",
       "      <td>7.501</td>\n",
       "      <td>7.333</td>\n",
       "      <td>7.669</td>\n",
       "      <td>1.42666</td>\n",
       "      <td>1.18326</td>\n",
       "      <td>0.86733</td>\n",
       "      <td>0.56624</td>\n",
       "      <td>0.14975</td>\n",
       "      <td>0.47678</td>\n",
       "      <td>2.83137</td>\n",
       "    </tr>\n",
       "    <tr>\n",
       "      <th>3</th>\n",
       "      <td>Norway</td>\n",
       "      <td>Western Europe</td>\n",
       "      <td>4</td>\n",
       "      <td>7.498</td>\n",
       "      <td>7.421</td>\n",
       "      <td>7.575</td>\n",
       "      <td>1.57744</td>\n",
       "      <td>1.12690</td>\n",
       "      <td>0.79579</td>\n",
       "      <td>0.59609</td>\n",
       "      <td>0.35776</td>\n",
       "      <td>0.37895</td>\n",
       "      <td>2.66465</td>\n",
       "    </tr>\n",
       "    <tr>\n",
       "      <th>4</th>\n",
       "      <td>Finland</td>\n",
       "      <td>Western Europe</td>\n",
       "      <td>5</td>\n",
       "      <td>7.413</td>\n",
       "      <td>7.351</td>\n",
       "      <td>7.475</td>\n",
       "      <td>1.40598</td>\n",
       "      <td>1.13464</td>\n",
       "      <td>0.81091</td>\n",
       "      <td>0.57104</td>\n",
       "      <td>0.41004</td>\n",
       "      <td>0.25492</td>\n",
       "      <td>2.82596</td>\n",
       "    </tr>\n",
       "  </tbody>\n",
       "</table>\n",
       "</div>"
      ],
      "text/plain": [
       "       Country          Region  Happiness_Rank  Happiness_Score  \\\n",
       "0      Denmark  Western Europe               1            7.526   \n",
       "1  Switzerland  Western Europe               2            7.509   \n",
       "2      Iceland  Western Europe               3            7.501   \n",
       "3       Norway  Western Europe               4            7.498   \n",
       "4      Finland  Western Europe               5            7.413   \n",
       "\n",
       "   Lower Confidence Interval  Upper Confidence Interval  Economy   Family  \\\n",
       "0                      7.460                      7.592  1.44178  1.16374   \n",
       "1                      7.428                      7.590  1.52733  1.14524   \n",
       "2                      7.333                      7.669  1.42666  1.18326   \n",
       "3                      7.421                      7.575  1.57744  1.12690   \n",
       "4                      7.351                      7.475  1.40598  1.13464   \n",
       "\n",
       "    Health  Freedom    Trust  Generosity  Dystopia_Residual  \n",
       "0  0.79504  0.57941  0.44453     0.36171            2.73939  \n",
       "1  0.86303  0.58557  0.41203     0.28083            2.69463  \n",
       "2  0.86733  0.56624  0.14975     0.47678            2.83137  \n",
       "3  0.79579  0.59609  0.35776     0.37895            2.66465  \n",
       "4  0.81091  0.57104  0.41004     0.25492            2.82596  "
      ]
     },
     "execution_count": 125,
     "metadata": {},
     "output_type": "execute_result"
    }
   ],
   "source": [
    "data2.head()"
   ]
  },
  {
   "cell_type": "code",
   "execution_count": 126,
   "metadata": {},
   "outputs": [],
   "source": [
    "data2.drop(columns = {'Region'},axis = 1, inplace = True)"
   ]
  },
  {
   "cell_type": "code",
   "execution_count": 127,
   "metadata": {},
   "outputs": [
    {
     "data": {
      "text/plain": [
       "Index(['Country', 'Happiness_Rank', 'Happiness_Score',\n",
       "       'Lower Confidence Interval', 'Upper Confidence Interval', 'Economy',\n",
       "       'Family', 'Health', 'Freedom', 'Trust', 'Generosity',\n",
       "       'Dystopia_Residual'],\n",
       "      dtype='object')"
      ]
     },
     "execution_count": 127,
     "metadata": {},
     "output_type": "execute_result"
    }
   ],
   "source": [
    "data2.columns"
   ]
  },
  {
   "cell_type": "code",
   "execution_count": 220,
   "metadata": {},
   "outputs": [],
   "source": [
    "data2['Year'] = int(\"2016\") "
   ]
  },
  {
   "cell_type": "code",
   "execution_count": 129,
   "metadata": {},
   "outputs": [
    {
     "data": {
      "text/html": [
       "<div>\n",
       "<style scoped>\n",
       "    .dataframe tbody tr th:only-of-type {\n",
       "        vertical-align: middle;\n",
       "    }\n",
       "\n",
       "    .dataframe tbody tr th {\n",
       "        vertical-align: top;\n",
       "    }\n",
       "\n",
       "    .dataframe thead th {\n",
       "        text-align: right;\n",
       "    }\n",
       "</style>\n",
       "<table border=\"1\" class=\"dataframe\">\n",
       "  <thead>\n",
       "    <tr style=\"text-align: right;\">\n",
       "      <th></th>\n",
       "      <th>Country</th>\n",
       "      <th>Happiness_Rank</th>\n",
       "      <th>Happiness_Score</th>\n",
       "      <th>Lower Confidence Interval</th>\n",
       "      <th>Upper Confidence Interval</th>\n",
       "      <th>Economy</th>\n",
       "      <th>Family</th>\n",
       "      <th>Health</th>\n",
       "      <th>Freedom</th>\n",
       "      <th>Trust</th>\n",
       "      <th>Generosity</th>\n",
       "      <th>Dystopia_Residual</th>\n",
       "      <th>Year</th>\n",
       "    </tr>\n",
       "  </thead>\n",
       "  <tbody>\n",
       "    <tr>\n",
       "      <th>0</th>\n",
       "      <td>Denmark</td>\n",
       "      <td>1</td>\n",
       "      <td>7.526</td>\n",
       "      <td>7.460</td>\n",
       "      <td>7.592</td>\n",
       "      <td>1.44178</td>\n",
       "      <td>1.16374</td>\n",
       "      <td>0.79504</td>\n",
       "      <td>0.57941</td>\n",
       "      <td>0.44453</td>\n",
       "      <td>0.36171</td>\n",
       "      <td>2.73939</td>\n",
       "      <td>2016</td>\n",
       "    </tr>\n",
       "    <tr>\n",
       "      <th>1</th>\n",
       "      <td>Switzerland</td>\n",
       "      <td>2</td>\n",
       "      <td>7.509</td>\n",
       "      <td>7.428</td>\n",
       "      <td>7.590</td>\n",
       "      <td>1.52733</td>\n",
       "      <td>1.14524</td>\n",
       "      <td>0.86303</td>\n",
       "      <td>0.58557</td>\n",
       "      <td>0.41203</td>\n",
       "      <td>0.28083</td>\n",
       "      <td>2.69463</td>\n",
       "      <td>2016</td>\n",
       "    </tr>\n",
       "    <tr>\n",
       "      <th>2</th>\n",
       "      <td>Iceland</td>\n",
       "      <td>3</td>\n",
       "      <td>7.501</td>\n",
       "      <td>7.333</td>\n",
       "      <td>7.669</td>\n",
       "      <td>1.42666</td>\n",
       "      <td>1.18326</td>\n",
       "      <td>0.86733</td>\n",
       "      <td>0.56624</td>\n",
       "      <td>0.14975</td>\n",
       "      <td>0.47678</td>\n",
       "      <td>2.83137</td>\n",
       "      <td>2016</td>\n",
       "    </tr>\n",
       "    <tr>\n",
       "      <th>3</th>\n",
       "      <td>Norway</td>\n",
       "      <td>4</td>\n",
       "      <td>7.498</td>\n",
       "      <td>7.421</td>\n",
       "      <td>7.575</td>\n",
       "      <td>1.57744</td>\n",
       "      <td>1.12690</td>\n",
       "      <td>0.79579</td>\n",
       "      <td>0.59609</td>\n",
       "      <td>0.35776</td>\n",
       "      <td>0.37895</td>\n",
       "      <td>2.66465</td>\n",
       "      <td>2016</td>\n",
       "    </tr>\n",
       "    <tr>\n",
       "      <th>4</th>\n",
       "      <td>Finland</td>\n",
       "      <td>5</td>\n",
       "      <td>7.413</td>\n",
       "      <td>7.351</td>\n",
       "      <td>7.475</td>\n",
       "      <td>1.40598</td>\n",
       "      <td>1.13464</td>\n",
       "      <td>0.81091</td>\n",
       "      <td>0.57104</td>\n",
       "      <td>0.41004</td>\n",
       "      <td>0.25492</td>\n",
       "      <td>2.82596</td>\n",
       "      <td>2016</td>\n",
       "    </tr>\n",
       "  </tbody>\n",
       "</table>\n",
       "</div>"
      ],
      "text/plain": [
       "       Country  Happiness_Rank  Happiness_Score  Lower Confidence Interval  \\\n",
       "0      Denmark               1            7.526                      7.460   \n",
       "1  Switzerland               2            7.509                      7.428   \n",
       "2      Iceland               3            7.501                      7.333   \n",
       "3       Norway               4            7.498                      7.421   \n",
       "4      Finland               5            7.413                      7.351   \n",
       "\n",
       "   Upper Confidence Interval  Economy   Family   Health  Freedom    Trust  \\\n",
       "0                      7.592  1.44178  1.16374  0.79504  0.57941  0.44453   \n",
       "1                      7.590  1.52733  1.14524  0.86303  0.58557  0.41203   \n",
       "2                      7.669  1.42666  1.18326  0.86733  0.56624  0.14975   \n",
       "3                      7.575  1.57744  1.12690  0.79579  0.59609  0.35776   \n",
       "4                      7.475  1.40598  1.13464  0.81091  0.57104  0.41004   \n",
       "\n",
       "   Generosity  Dystopia_Residual  Year  \n",
       "0     0.36171            2.73939  2016  \n",
       "1     0.28083            2.69463  2016  \n",
       "2     0.47678            2.83137  2016  \n",
       "3     0.37895            2.66465  2016  \n",
       "4     0.25492            2.82596  2016  "
      ]
     },
     "execution_count": 129,
     "metadata": {},
     "output_type": "execute_result"
    }
   ],
   "source": [
    "data2.head()"
   ]
  },
  {
   "cell_type": "code",
   "execution_count": 130,
   "metadata": {},
   "outputs": [],
   "source": [
    "data3 = pd.read_csv('2015.csv')"
   ]
  },
  {
   "cell_type": "code",
   "execution_count": 131,
   "metadata": {},
   "outputs": [],
   "source": [
    "data3.rename(columns={'Country':'Country', 'Happiness Rank':'Happiness_Rank','Happiness Score':'Happiness_Score',\n",
    " 'Economy (GDP per Capita)':'Economy', 'Family':'Family',\n",
    "       'Health (Life Expectancy)':'Health', 'Freedom':'Freedom', 'Generosity':'Generosity',\n",
    "       'Trust (Government Corruption)':'Trust','Dystopia Residual':'Dystopia_Residual'},inplace=True)"
   ]
  },
  {
   "cell_type": "code",
   "execution_count": 132,
   "metadata": {},
   "outputs": [],
   "source": [
    "data3.drop(columns = {'Region','Standard Error'},axis = 1, inplace = True)"
   ]
  },
  {
   "cell_type": "code",
   "execution_count": 222,
   "metadata": {},
   "outputs": [],
   "source": [
    "data3[\"Year\"] = int(\"2015\")"
   ]
  },
  {
   "cell_type": "code",
   "execution_count": 223,
   "metadata": {},
   "outputs": [],
   "source": [
    "frames =[data1,data2,data3]\n",
    "data = pd.concat(frames)"
   ]
  },
  {
   "cell_type": "code",
   "execution_count": 224,
   "metadata": {},
   "outputs": [
    {
     "data": {
      "text/html": [
       "<div>\n",
       "<style scoped>\n",
       "    .dataframe tbody tr th:only-of-type {\n",
       "        vertical-align: middle;\n",
       "    }\n",
       "\n",
       "    .dataframe tbody tr th {\n",
       "        vertical-align: top;\n",
       "    }\n",
       "\n",
       "    .dataframe thead th {\n",
       "        text-align: right;\n",
       "    }\n",
       "</style>\n",
       "<table border=\"1\" class=\"dataframe\">\n",
       "  <thead>\n",
       "    <tr style=\"text-align: right;\">\n",
       "      <th></th>\n",
       "      <th>Country</th>\n",
       "      <th>Dystopia_Residual</th>\n",
       "      <th>Economy</th>\n",
       "      <th>Family</th>\n",
       "      <th>Freedom</th>\n",
       "      <th>Generosity</th>\n",
       "      <th>Happiness_Rank</th>\n",
       "      <th>Happiness_Score</th>\n",
       "      <th>Health</th>\n",
       "      <th>Lower Confidence Interval</th>\n",
       "      <th>Trust</th>\n",
       "      <th>Upper Confidence Interval</th>\n",
       "      <th>Whisker.high</th>\n",
       "      <th>Year</th>\n",
       "    </tr>\n",
       "  </thead>\n",
       "  <tbody>\n",
       "    <tr>\n",
       "      <th>0</th>\n",
       "      <td>Norway</td>\n",
       "      <td>2.277027</td>\n",
       "      <td>1.616463</td>\n",
       "      <td>1.533524</td>\n",
       "      <td>0.635423</td>\n",
       "      <td>0.362012</td>\n",
       "      <td>1</td>\n",
       "      <td>7.537</td>\n",
       "      <td>0.796667</td>\n",
       "      <td>NaN</td>\n",
       "      <td>0.315964</td>\n",
       "      <td>NaN</td>\n",
       "      <td>7.594445</td>\n",
       "      <td>2017</td>\n",
       "    </tr>\n",
       "    <tr>\n",
       "      <th>1</th>\n",
       "      <td>Denmark</td>\n",
       "      <td>2.313707</td>\n",
       "      <td>1.482383</td>\n",
       "      <td>1.551122</td>\n",
       "      <td>0.626007</td>\n",
       "      <td>0.355280</td>\n",
       "      <td>2</td>\n",
       "      <td>7.522</td>\n",
       "      <td>0.792566</td>\n",
       "      <td>NaN</td>\n",
       "      <td>0.400770</td>\n",
       "      <td>NaN</td>\n",
       "      <td>7.581728</td>\n",
       "      <td>2017</td>\n",
       "    </tr>\n",
       "    <tr>\n",
       "      <th>2</th>\n",
       "      <td>Iceland</td>\n",
       "      <td>2.322715</td>\n",
       "      <td>1.480633</td>\n",
       "      <td>1.610574</td>\n",
       "      <td>0.627163</td>\n",
       "      <td>0.475540</td>\n",
       "      <td>3</td>\n",
       "      <td>7.504</td>\n",
       "      <td>0.833552</td>\n",
       "      <td>NaN</td>\n",
       "      <td>0.153527</td>\n",
       "      <td>NaN</td>\n",
       "      <td>7.622030</td>\n",
       "      <td>2017</td>\n",
       "    </tr>\n",
       "    <tr>\n",
       "      <th>3</th>\n",
       "      <td>Switzerland</td>\n",
       "      <td>2.276716</td>\n",
       "      <td>1.564980</td>\n",
       "      <td>1.516912</td>\n",
       "      <td>0.620071</td>\n",
       "      <td>0.290549</td>\n",
       "      <td>4</td>\n",
       "      <td>7.494</td>\n",
       "      <td>0.858131</td>\n",
       "      <td>NaN</td>\n",
       "      <td>0.367007</td>\n",
       "      <td>NaN</td>\n",
       "      <td>7.561772</td>\n",
       "      <td>2017</td>\n",
       "    </tr>\n",
       "    <tr>\n",
       "      <th>4</th>\n",
       "      <td>Finland</td>\n",
       "      <td>2.430182</td>\n",
       "      <td>1.443572</td>\n",
       "      <td>1.540247</td>\n",
       "      <td>0.617951</td>\n",
       "      <td>0.245483</td>\n",
       "      <td>5</td>\n",
       "      <td>7.469</td>\n",
       "      <td>0.809158</td>\n",
       "      <td>NaN</td>\n",
       "      <td>0.382612</td>\n",
       "      <td>NaN</td>\n",
       "      <td>7.527542</td>\n",
       "      <td>2017</td>\n",
       "    </tr>\n",
       "  </tbody>\n",
       "</table>\n",
       "</div>"
      ],
      "text/plain": [
       "       Country  Dystopia_Residual   Economy    Family   Freedom  Generosity  \\\n",
       "0       Norway           2.277027  1.616463  1.533524  0.635423    0.362012   \n",
       "1      Denmark           2.313707  1.482383  1.551122  0.626007    0.355280   \n",
       "2      Iceland           2.322715  1.480633  1.610574  0.627163    0.475540   \n",
       "3  Switzerland           2.276716  1.564980  1.516912  0.620071    0.290549   \n",
       "4      Finland           2.430182  1.443572  1.540247  0.617951    0.245483   \n",
       "\n",
       "   Happiness_Rank  Happiness_Score    Health  Lower Confidence Interval  \\\n",
       "0               1            7.537  0.796667                        NaN   \n",
       "1               2            7.522  0.792566                        NaN   \n",
       "2               3            7.504  0.833552                        NaN   \n",
       "3               4            7.494  0.858131                        NaN   \n",
       "4               5            7.469  0.809158                        NaN   \n",
       "\n",
       "      Trust  Upper Confidence Interval  Whisker.high  Year  \n",
       "0  0.315964                        NaN      7.594445  2017  \n",
       "1  0.400770                        NaN      7.581728  2017  \n",
       "2  0.153527                        NaN      7.622030  2017  \n",
       "3  0.367007                        NaN      7.561772  2017  \n",
       "4  0.382612                        NaN      7.527542  2017  "
      ]
     },
     "execution_count": 224,
     "metadata": {},
     "output_type": "execute_result"
    }
   ],
   "source": [
    "data.head()"
   ]
  },
  {
   "cell_type": "markdown",
   "metadata": {},
   "source": [
    "Data description"
   ]
  },
  {
   "cell_type": "code",
   "execution_count": 225,
   "metadata": {},
   "outputs": [
    {
     "data": {
      "text/html": [
       "<div>\n",
       "<style scoped>\n",
       "    .dataframe tbody tr th:only-of-type {\n",
       "        vertical-align: middle;\n",
       "    }\n",
       "\n",
       "    .dataframe tbody tr th {\n",
       "        vertical-align: top;\n",
       "    }\n",
       "\n",
       "    .dataframe thead th {\n",
       "        text-align: right;\n",
       "    }\n",
       "</style>\n",
       "<table border=\"1\" class=\"dataframe\">\n",
       "  <thead>\n",
       "    <tr style=\"text-align: right;\">\n",
       "      <th></th>\n",
       "      <th>Dystopia_Residual</th>\n",
       "      <th>Economy</th>\n",
       "      <th>Family</th>\n",
       "      <th>Freedom</th>\n",
       "      <th>Generosity</th>\n",
       "      <th>Happiness_Rank</th>\n",
       "      <th>Happiness_Score</th>\n",
       "      <th>Health</th>\n",
       "      <th>Lower Confidence Interval</th>\n",
       "      <th>Trust</th>\n",
       "      <th>Upper Confidence Interval</th>\n",
       "      <th>Whisker.high</th>\n",
       "      <th>Year</th>\n",
       "    </tr>\n",
       "  </thead>\n",
       "  <tbody>\n",
       "    <tr>\n",
       "      <th>count</th>\n",
       "      <td>470.000000</td>\n",
       "      <td>470.000000</td>\n",
       "      <td>470.000000</td>\n",
       "      <td>470.000000</td>\n",
       "      <td>470.000000</td>\n",
       "      <td>470.000000</td>\n",
       "      <td>470.000000</td>\n",
       "      <td>470.000000</td>\n",
       "      <td>157.000000</td>\n",
       "      <td>470.000000</td>\n",
       "      <td>157.000000</td>\n",
       "      <td>155.000000</td>\n",
       "      <td>470.000000</td>\n",
       "    </tr>\n",
       "    <tr>\n",
       "      <th>mean</th>\n",
       "      <td>2.092717</td>\n",
       "      <td>0.927830</td>\n",
       "      <td>0.990347</td>\n",
       "      <td>0.402828</td>\n",
       "      <td>0.242241</td>\n",
       "      <td>78.829787</td>\n",
       "      <td>5.370728</td>\n",
       "      <td>0.579968</td>\n",
       "      <td>5.282395</td>\n",
       "      <td>0.134790</td>\n",
       "      <td>5.481975</td>\n",
       "      <td>5.452326</td>\n",
       "      <td>2015.993617</td>\n",
       "    </tr>\n",
       "    <tr>\n",
       "      <th>std</th>\n",
       "      <td>0.565772</td>\n",
       "      <td>0.415584</td>\n",
       "      <td>0.318707</td>\n",
       "      <td>0.150356</td>\n",
       "      <td>0.131543</td>\n",
       "      <td>45.281408</td>\n",
       "      <td>1.136998</td>\n",
       "      <td>0.240161</td>\n",
       "      <td>1.148043</td>\n",
       "      <td>0.111313</td>\n",
       "      <td>1.136493</td>\n",
       "      <td>1.118542</td>\n",
       "      <td>0.816907</td>\n",
       "    </tr>\n",
       "    <tr>\n",
       "      <th>min</th>\n",
       "      <td>0.328580</td>\n",
       "      <td>0.000000</td>\n",
       "      <td>0.000000</td>\n",
       "      <td>0.000000</td>\n",
       "      <td>0.000000</td>\n",
       "      <td>1.000000</td>\n",
       "      <td>2.693000</td>\n",
       "      <td>0.000000</td>\n",
       "      <td>2.732000</td>\n",
       "      <td>0.000000</td>\n",
       "      <td>3.078000</td>\n",
       "      <td>2.864884</td>\n",
       "      <td>2015.000000</td>\n",
       "    </tr>\n",
       "    <tr>\n",
       "      <th>25%</th>\n",
       "      <td>1.737975</td>\n",
       "      <td>0.605292</td>\n",
       "      <td>0.793000</td>\n",
       "      <td>0.297615</td>\n",
       "      <td>0.152831</td>\n",
       "      <td>40.000000</td>\n",
       "      <td>4.509000</td>\n",
       "      <td>0.402301</td>\n",
       "      <td>4.327000</td>\n",
       "      <td>0.059777</td>\n",
       "      <td>4.465000</td>\n",
       "      <td>4.608172</td>\n",
       "      <td>2015.000000</td>\n",
       "    </tr>\n",
       "    <tr>\n",
       "      <th>50%</th>\n",
       "      <td>2.094640</td>\n",
       "      <td>0.995439</td>\n",
       "      <td>1.025665</td>\n",
       "      <td>0.418347</td>\n",
       "      <td>0.223140</td>\n",
       "      <td>79.000000</td>\n",
       "      <td>5.282500</td>\n",
       "      <td>0.630053</td>\n",
       "      <td>5.237000</td>\n",
       "      <td>0.099502</td>\n",
       "      <td>5.419000</td>\n",
       "      <td>5.370032</td>\n",
       "      <td>2016.000000</td>\n",
       "    </tr>\n",
       "    <tr>\n",
       "      <th>75%</th>\n",
       "      <td>2.455575</td>\n",
       "      <td>1.252443</td>\n",
       "      <td>1.228745</td>\n",
       "      <td>0.516850</td>\n",
       "      <td>0.315824</td>\n",
       "      <td>118.000000</td>\n",
       "      <td>6.233750</td>\n",
       "      <td>0.768298</td>\n",
       "      <td>6.154000</td>\n",
       "      <td>0.173161</td>\n",
       "      <td>6.434000</td>\n",
       "      <td>6.194600</td>\n",
       "      <td>2017.000000</td>\n",
       "    </tr>\n",
       "    <tr>\n",
       "      <th>max</th>\n",
       "      <td>3.837720</td>\n",
       "      <td>1.870766</td>\n",
       "      <td>1.610574</td>\n",
       "      <td>0.669730</td>\n",
       "      <td>0.838075</td>\n",
       "      <td>158.000000</td>\n",
       "      <td>7.587000</td>\n",
       "      <td>1.025250</td>\n",
       "      <td>7.460000</td>\n",
       "      <td>0.551910</td>\n",
       "      <td>7.669000</td>\n",
       "      <td>7.622030</td>\n",
       "      <td>2017.000000</td>\n",
       "    </tr>\n",
       "  </tbody>\n",
       "</table>\n",
       "</div>"
      ],
      "text/plain": [
       "       Dystopia_Residual     Economy      Family     Freedom  Generosity  \\\n",
       "count         470.000000  470.000000  470.000000  470.000000  470.000000   \n",
       "mean            2.092717    0.927830    0.990347    0.402828    0.242241   \n",
       "std             0.565772    0.415584    0.318707    0.150356    0.131543   \n",
       "min             0.328580    0.000000    0.000000    0.000000    0.000000   \n",
       "25%             1.737975    0.605292    0.793000    0.297615    0.152831   \n",
       "50%             2.094640    0.995439    1.025665    0.418347    0.223140   \n",
       "75%             2.455575    1.252443    1.228745    0.516850    0.315824   \n",
       "max             3.837720    1.870766    1.610574    0.669730    0.838075   \n",
       "\n",
       "       Happiness_Rank  Happiness_Score      Health  Lower Confidence Interval  \\\n",
       "count      470.000000       470.000000  470.000000                 157.000000   \n",
       "mean        78.829787         5.370728    0.579968                   5.282395   \n",
       "std         45.281408         1.136998    0.240161                   1.148043   \n",
       "min          1.000000         2.693000    0.000000                   2.732000   \n",
       "25%         40.000000         4.509000    0.402301                   4.327000   \n",
       "50%         79.000000         5.282500    0.630053                   5.237000   \n",
       "75%        118.000000         6.233750    0.768298                   6.154000   \n",
       "max        158.000000         7.587000    1.025250                   7.460000   \n",
       "\n",
       "            Trust  Upper Confidence Interval  Whisker.high         Year  \n",
       "count  470.000000                 157.000000    155.000000   470.000000  \n",
       "mean     0.134790                   5.481975      5.452326  2015.993617  \n",
       "std      0.111313                   1.136493      1.118542     0.816907  \n",
       "min      0.000000                   3.078000      2.864884  2015.000000  \n",
       "25%      0.059777                   4.465000      4.608172  2015.000000  \n",
       "50%      0.099502                   5.419000      5.370032  2016.000000  \n",
       "75%      0.173161                   6.434000      6.194600  2017.000000  \n",
       "max      0.551910                   7.669000      7.622030  2017.000000  "
      ]
     },
     "execution_count": 225,
     "metadata": {},
     "output_type": "execute_result"
    }
   ],
   "source": [
    "data.describe()"
   ]
  },
  {
   "cell_type": "code",
   "execution_count": 226,
   "metadata": {},
   "outputs": [
    {
     "name": "stdout",
     "output_type": "stream",
     "text": [
      "<class 'pandas.core.frame.DataFrame'>\n",
      "Int64Index: 470 entries, 0 to 157\n",
      "Data columns (total 14 columns):\n",
      "Country                      470 non-null object\n",
      "Dystopia_Residual            470 non-null float64\n",
      "Economy                      470 non-null float64\n",
      "Family                       470 non-null float64\n",
      "Freedom                      470 non-null float64\n",
      "Generosity                   470 non-null float64\n",
      "Happiness_Rank               470 non-null int64\n",
      "Happiness_Score              470 non-null float64\n",
      "Health                       470 non-null float64\n",
      "Lower Confidence Interval    157 non-null float64\n",
      "Trust                        470 non-null float64\n",
      "Upper Confidence Interval    157 non-null float64\n",
      "Whisker.high                 155 non-null float64\n",
      "Year                         470 non-null int64\n",
      "dtypes: float64(11), int64(2), object(1)\n",
      "memory usage: 55.1+ KB\n"
     ]
    }
   ],
   "source": [
    "data.info()"
   ]
  },
  {
   "cell_type": "code",
   "execution_count": 227,
   "metadata": {},
   "outputs": [
    {
     "data": {
      "text/html": [
       "<div>\n",
       "<style scoped>\n",
       "    .dataframe tbody tr th:only-of-type {\n",
       "        vertical-align: middle;\n",
       "    }\n",
       "\n",
       "    .dataframe tbody tr th {\n",
       "        vertical-align: top;\n",
       "    }\n",
       "\n",
       "    .dataframe thead th {\n",
       "        text-align: right;\n",
       "    }\n",
       "</style>\n",
       "<table border=\"1\" class=\"dataframe\">\n",
       "  <thead>\n",
       "    <tr style=\"text-align: right;\">\n",
       "      <th></th>\n",
       "      <th>Country</th>\n",
       "      <th>Dystopia_Residual</th>\n",
       "      <th>Economy</th>\n",
       "      <th>Family</th>\n",
       "      <th>Freedom</th>\n",
       "      <th>Generosity</th>\n",
       "      <th>Happiness_Rank</th>\n",
       "      <th>Happiness_Score</th>\n",
       "      <th>Health</th>\n",
       "      <th>Lower Confidence Interval</th>\n",
       "      <th>Trust</th>\n",
       "      <th>Upper Confidence Interval</th>\n",
       "      <th>Whisker.high</th>\n",
       "      <th>Year</th>\n",
       "    </tr>\n",
       "  </thead>\n",
       "  <tbody>\n",
       "    <tr>\n",
       "      <th>0</th>\n",
       "      <td>Norway</td>\n",
       "      <td>2.277027</td>\n",
       "      <td>1.616463</td>\n",
       "      <td>1.533524</td>\n",
       "      <td>0.635423</td>\n",
       "      <td>0.362012</td>\n",
       "      <td>1</td>\n",
       "      <td>7.537</td>\n",
       "      <td>0.796667</td>\n",
       "      <td>NaN</td>\n",
       "      <td>0.315964</td>\n",
       "      <td>NaN</td>\n",
       "      <td>7.594445</td>\n",
       "      <td>2017</td>\n",
       "    </tr>\n",
       "    <tr>\n",
       "      <th>1</th>\n",
       "      <td>Denmark</td>\n",
       "      <td>2.313707</td>\n",
       "      <td>1.482383</td>\n",
       "      <td>1.551122</td>\n",
       "      <td>0.626007</td>\n",
       "      <td>0.355280</td>\n",
       "      <td>2</td>\n",
       "      <td>7.522</td>\n",
       "      <td>0.792566</td>\n",
       "      <td>NaN</td>\n",
       "      <td>0.400770</td>\n",
       "      <td>NaN</td>\n",
       "      <td>7.581728</td>\n",
       "      <td>2017</td>\n",
       "    </tr>\n",
       "    <tr>\n",
       "      <th>2</th>\n",
       "      <td>Iceland</td>\n",
       "      <td>2.322715</td>\n",
       "      <td>1.480633</td>\n",
       "      <td>1.610574</td>\n",
       "      <td>0.627163</td>\n",
       "      <td>0.475540</td>\n",
       "      <td>3</td>\n",
       "      <td>7.504</td>\n",
       "      <td>0.833552</td>\n",
       "      <td>NaN</td>\n",
       "      <td>0.153527</td>\n",
       "      <td>NaN</td>\n",
       "      <td>7.622030</td>\n",
       "      <td>2017</td>\n",
       "    </tr>\n",
       "    <tr>\n",
       "      <th>3</th>\n",
       "      <td>Switzerland</td>\n",
       "      <td>2.276716</td>\n",
       "      <td>1.564980</td>\n",
       "      <td>1.516912</td>\n",
       "      <td>0.620071</td>\n",
       "      <td>0.290549</td>\n",
       "      <td>4</td>\n",
       "      <td>7.494</td>\n",
       "      <td>0.858131</td>\n",
       "      <td>NaN</td>\n",
       "      <td>0.367007</td>\n",
       "      <td>NaN</td>\n",
       "      <td>7.561772</td>\n",
       "      <td>2017</td>\n",
       "    </tr>\n",
       "    <tr>\n",
       "      <th>4</th>\n",
       "      <td>Finland</td>\n",
       "      <td>2.430182</td>\n",
       "      <td>1.443572</td>\n",
       "      <td>1.540247</td>\n",
       "      <td>0.617951</td>\n",
       "      <td>0.245483</td>\n",
       "      <td>5</td>\n",
       "      <td>7.469</td>\n",
       "      <td>0.809158</td>\n",
       "      <td>NaN</td>\n",
       "      <td>0.382612</td>\n",
       "      <td>NaN</td>\n",
       "      <td>7.527542</td>\n",
       "      <td>2017</td>\n",
       "    </tr>\n",
       "  </tbody>\n",
       "</table>\n",
       "</div>"
      ],
      "text/plain": [
       "       Country  Dystopia_Residual   Economy    Family   Freedom  Generosity  \\\n",
       "0       Norway           2.277027  1.616463  1.533524  0.635423    0.362012   \n",
       "1      Denmark           2.313707  1.482383  1.551122  0.626007    0.355280   \n",
       "2      Iceland           2.322715  1.480633  1.610574  0.627163    0.475540   \n",
       "3  Switzerland           2.276716  1.564980  1.516912  0.620071    0.290549   \n",
       "4      Finland           2.430182  1.443572  1.540247  0.617951    0.245483   \n",
       "\n",
       "   Happiness_Rank  Happiness_Score    Health  Lower Confidence Interval  \\\n",
       "0               1            7.537  0.796667                        NaN   \n",
       "1               2            7.522  0.792566                        NaN   \n",
       "2               3            7.504  0.833552                        NaN   \n",
       "3               4            7.494  0.858131                        NaN   \n",
       "4               5            7.469  0.809158                        NaN   \n",
       "\n",
       "      Trust  Upper Confidence Interval  Whisker.high  Year  \n",
       "0  0.315964                        NaN      7.594445  2017  \n",
       "1  0.400770                        NaN      7.581728  2017  \n",
       "2  0.153527                        NaN      7.622030  2017  \n",
       "3  0.367007                        NaN      7.561772  2017  \n",
       "4  0.382612                        NaN      7.527542  2017  "
      ]
     },
     "execution_count": 227,
     "metadata": {},
     "output_type": "execute_result"
    }
   ],
   "source": [
    "data.head()"
   ]
  },
  {
   "cell_type": "code",
   "execution_count": 228,
   "metadata": {},
   "outputs": [
    {
     "data": {
      "text/plain": [
       "Country                        0\n",
       "Dystopia_Residual              0\n",
       "Economy                        0\n",
       "Family                         0\n",
       "Freedom                        0\n",
       "Generosity                     0\n",
       "Happiness_Rank                 0\n",
       "Happiness_Score                0\n",
       "Health                         0\n",
       "Lower Confidence Interval    313\n",
       "Trust                          0\n",
       "Upper Confidence Interval    313\n",
       "Whisker.high                 315\n",
       "Year                           0\n",
       "dtype: int64"
      ]
     },
     "execution_count": 228,
     "metadata": {},
     "output_type": "execute_result"
    }
   ],
   "source": [
    "data.apply(lambda x: sum(x.isnull()),axis=0)"
   ]
  },
  {
   "cell_type": "markdown",
   "metadata": {},
   "source": [
    "Data is clean as there are no missing values."
   ]
  },
  {
   "cell_type": "code",
   "execution_count": 229,
   "metadata": {},
   "outputs": [
    {
     "data": {
      "text/plain": [
       "(470, 14)"
      ]
     },
     "execution_count": 229,
     "metadata": {},
     "output_type": "execute_result"
    }
   ],
   "source": [
    "data.shape"
   ]
  },
  {
   "cell_type": "code",
   "execution_count": 231,
   "metadata": {},
   "outputs": [],
   "source": [
    "data.drop(columns = 'Whisker.low',axis = 1, inplace = True)\n",
    "data.drop(columns = 'Whisker.high',axis = 1, inplace = True)\n",
    "data.drop(columns = 'Lower Confidence Interval',axis = 1, inplace = True)\n",
    "data.drop(columns = 'Upper Confidence Interval',axis = 1, inplace = True)"
   ]
  },
  {
   "cell_type": "code",
   "execution_count": 232,
   "metadata": {},
   "outputs": [
    {
     "data": {
      "text/plain": [
       "Country              0\n",
       "Dystopia_Residual    0\n",
       "Economy              0\n",
       "Family               0\n",
       "Freedom              0\n",
       "Generosity           0\n",
       "Happiness_Rank       0\n",
       "Happiness_Score      0\n",
       "Health               0\n",
       "Trust                0\n",
       "Year                 0\n",
       "dtype: int64"
      ]
     },
     "execution_count": 232,
     "metadata": {},
     "output_type": "execute_result"
    }
   ],
   "source": [
    "data.apply(lambda x: sum(x.isnull()),axis=0)"
   ]
  },
  {
   "cell_type": "markdown",
   "metadata": {},
   "source": [
    "## Multivariate linear model"
   ]
  },
  {
   "cell_type": "markdown",
   "metadata": {},
   "source": [
    "#### The need of multiple regression  : Regress 'Family' and 'Health Life Expectancy' on 'Happiness Score'"
   ]
  },
  {
   "cell_type": "code",
   "execution_count": 163,
   "metadata": {
    "scrolled": true
   },
   "outputs": [
    {
     "data": {
      "text/html": [
       "<div>\n",
       "<style scoped>\n",
       "    .dataframe tbody tr th:only-of-type {\n",
       "        vertical-align: middle;\n",
       "    }\n",
       "\n",
       "    .dataframe tbody tr th {\n",
       "        vertical-align: top;\n",
       "    }\n",
       "\n",
       "    .dataframe thead th {\n",
       "        text-align: right;\n",
       "    }\n",
       "</style>\n",
       "<table border=\"1\" class=\"dataframe\">\n",
       "  <thead>\n",
       "    <tr style=\"text-align: right;\">\n",
       "      <th></th>\n",
       "      <th>Dystopia_Residual</th>\n",
       "      <th>Economy</th>\n",
       "      <th>Family</th>\n",
       "      <th>Freedom</th>\n",
       "      <th>Generosity</th>\n",
       "      <th>Happiness_Rank</th>\n",
       "      <th>Happiness_Score</th>\n",
       "      <th>Health</th>\n",
       "      <th>Lower Confidence Interval</th>\n",
       "      <th>Trust</th>\n",
       "      <th>Upper Confidence Interval</th>\n",
       "      <th>Whisker.high</th>\n",
       "    </tr>\n",
       "  </thead>\n",
       "  <tbody>\n",
       "    <tr>\n",
       "      <th>Dystopia_Residual</th>\n",
       "      <td>1.000000</td>\n",
       "      <td>0.030087</td>\n",
       "      <td>-0.081537</td>\n",
       "      <td>0.038422</td>\n",
       "      <td>-0.114468</td>\n",
       "      <td>-0.482706</td>\n",
       "      <td>0.489747</td>\n",
       "      <td>0.057674</td>\n",
       "      <td>0.538793</td>\n",
       "      <td>0.000001</td>\n",
       "      <td>0.548164</td>\n",
       "      <td>0.478824</td>\n",
       "    </tr>\n",
       "    <tr>\n",
       "      <th>Economy</th>\n",
       "      <td>0.030087</td>\n",
       "      <td>1.000000</td>\n",
       "      <td>0.585449</td>\n",
       "      <td>0.344962</td>\n",
       "      <td>-0.014173</td>\n",
       "      <td>-0.790551</td>\n",
       "      <td>0.785450</td>\n",
       "      <td>0.792224</td>\n",
       "      <td>0.790673</td>\n",
       "      <td>0.301935</td>\n",
       "      <td>0.789140</td>\n",
       "      <td>0.811868</td>\n",
       "    </tr>\n",
       "    <tr>\n",
       "      <th>Family</th>\n",
       "      <td>-0.081537</td>\n",
       "      <td>0.585449</td>\n",
       "      <td>1.000000</td>\n",
       "      <td>0.425377</td>\n",
       "      <td>0.071775</td>\n",
       "      <td>-0.637627</td>\n",
       "      <td>0.636532</td>\n",
       "      <td>0.486383</td>\n",
       "      <td>0.741523</td>\n",
       "      <td>0.158605</td>\n",
       "      <td>0.736184</td>\n",
       "      <td>0.750934</td>\n",
       "    </tr>\n",
       "    <tr>\n",
       "      <th>Freedom</th>\n",
       "      <td>0.038422</td>\n",
       "      <td>0.344962</td>\n",
       "      <td>0.425377</td>\n",
       "      <td>1.000000</td>\n",
       "      <td>0.343389</td>\n",
       "      <td>-0.547627</td>\n",
       "      <td>0.560353</td>\n",
       "      <td>0.359566</td>\n",
       "      <td>0.566857</td>\n",
       "      <td>0.490405</td>\n",
       "      <td>0.566203</td>\n",
       "      <td>0.569907</td>\n",
       "    </tr>\n",
       "    <tr>\n",
       "      <th>Generosity</th>\n",
       "      <td>-0.114468</td>\n",
       "      <td>-0.014173</td>\n",
       "      <td>0.071775</td>\n",
       "      <td>0.343389</td>\n",
       "      <td>1.000000</td>\n",
       "      <td>-0.146162</td>\n",
       "      <td>0.163562</td>\n",
       "      <td>0.077326</td>\n",
       "      <td>0.158025</td>\n",
       "      <td>0.287414</td>\n",
       "      <td>0.155495</td>\n",
       "      <td>0.155462</td>\n",
       "    </tr>\n",
       "    <tr>\n",
       "      <th>Happiness_Rank</th>\n",
       "      <td>-0.482706</td>\n",
       "      <td>-0.790551</td>\n",
       "      <td>-0.637627</td>\n",
       "      <td>-0.547627</td>\n",
       "      <td>-0.146162</td>\n",
       "      <td>1.000000</td>\n",
       "      <td>-0.993268</td>\n",
       "      <td>-0.750146</td>\n",
       "      <td>-0.994928</td>\n",
       "      <td>-0.384371</td>\n",
       "      <td>-0.995525</td>\n",
       "      <td>-0.993058</td>\n",
       "    </tr>\n",
       "    <tr>\n",
       "      <th>Happiness_Score</th>\n",
       "      <td>0.489747</td>\n",
       "      <td>0.785450</td>\n",
       "      <td>0.636532</td>\n",
       "      <td>0.560353</td>\n",
       "      <td>0.163562</td>\n",
       "      <td>-0.993268</td>\n",
       "      <td>1.000000</td>\n",
       "      <td>0.748040</td>\n",
       "      <td>0.999485</td>\n",
       "      <td>0.406340</td>\n",
       "      <td>0.999474</td>\n",
       "      <td>0.999497</td>\n",
       "    </tr>\n",
       "    <tr>\n",
       "      <th>Health</th>\n",
       "      <td>0.057674</td>\n",
       "      <td>0.792224</td>\n",
       "      <td>0.486383</td>\n",
       "      <td>0.359566</td>\n",
       "      <td>0.077326</td>\n",
       "      <td>-0.750146</td>\n",
       "      <td>0.748040</td>\n",
       "      <td>1.000000</td>\n",
       "      <td>0.769177</td>\n",
       "      <td>0.262932</td>\n",
       "      <td>0.760752</td>\n",
       "      <td>0.776634</td>\n",
       "    </tr>\n",
       "    <tr>\n",
       "      <th>Lower Confidence Interval</th>\n",
       "      <td>0.538793</td>\n",
       "      <td>0.790673</td>\n",
       "      <td>0.741523</td>\n",
       "      <td>0.566857</td>\n",
       "      <td>0.158025</td>\n",
       "      <td>-0.994928</td>\n",
       "      <td>0.999485</td>\n",
       "      <td>0.769177</td>\n",
       "      <td>1.000000</td>\n",
       "      <td>0.404840</td>\n",
       "      <td>0.997919</td>\n",
       "      <td>NaN</td>\n",
       "    </tr>\n",
       "    <tr>\n",
       "      <th>Trust</th>\n",
       "      <td>0.000001</td>\n",
       "      <td>0.301935</td>\n",
       "      <td>0.158605</td>\n",
       "      <td>0.490405</td>\n",
       "      <td>0.287414</td>\n",
       "      <td>-0.384371</td>\n",
       "      <td>0.406340</td>\n",
       "      <td>0.262932</td>\n",
       "      <td>0.404840</td>\n",
       "      <td>1.000000</td>\n",
       "      <td>0.398775</td>\n",
       "      <td>0.426459</td>\n",
       "    </tr>\n",
       "    <tr>\n",
       "      <th>Upper Confidence Interval</th>\n",
       "      <td>0.548164</td>\n",
       "      <td>0.789140</td>\n",
       "      <td>0.736184</td>\n",
       "      <td>0.566203</td>\n",
       "      <td>0.155495</td>\n",
       "      <td>-0.995525</td>\n",
       "      <td>0.999474</td>\n",
       "      <td>0.760752</td>\n",
       "      <td>0.997919</td>\n",
       "      <td>0.398775</td>\n",
       "      <td>1.000000</td>\n",
       "      <td>NaN</td>\n",
       "    </tr>\n",
       "    <tr>\n",
       "      <th>Whisker.high</th>\n",
       "      <td>0.478824</td>\n",
       "      <td>0.811868</td>\n",
       "      <td>0.750934</td>\n",
       "      <td>0.569907</td>\n",
       "      <td>0.155462</td>\n",
       "      <td>-0.993058</td>\n",
       "      <td>0.999497</td>\n",
       "      <td>0.776634</td>\n",
       "      <td>NaN</td>\n",
       "      <td>0.426459</td>\n",
       "      <td>NaN</td>\n",
       "      <td>1.000000</td>\n",
       "    </tr>\n",
       "  </tbody>\n",
       "</table>\n",
       "</div>"
      ],
      "text/plain": [
       "                           Dystopia_Residual   Economy    Family   Freedom  \\\n",
       "Dystopia_Residual                   1.000000  0.030087 -0.081537  0.038422   \n",
       "Economy                             0.030087  1.000000  0.585449  0.344962   \n",
       "Family                             -0.081537  0.585449  1.000000  0.425377   \n",
       "Freedom                             0.038422  0.344962  0.425377  1.000000   \n",
       "Generosity                         -0.114468 -0.014173  0.071775  0.343389   \n",
       "Happiness_Rank                     -0.482706 -0.790551 -0.637627 -0.547627   \n",
       "Happiness_Score                     0.489747  0.785450  0.636532  0.560353   \n",
       "Health                              0.057674  0.792224  0.486383  0.359566   \n",
       "Lower Confidence Interval           0.538793  0.790673  0.741523  0.566857   \n",
       "Trust                               0.000001  0.301935  0.158605  0.490405   \n",
       "Upper Confidence Interval           0.548164  0.789140  0.736184  0.566203   \n",
       "Whisker.high                        0.478824  0.811868  0.750934  0.569907   \n",
       "\n",
       "                           Generosity  Happiness_Rank  Happiness_Score  \\\n",
       "Dystopia_Residual           -0.114468       -0.482706         0.489747   \n",
       "Economy                     -0.014173       -0.790551         0.785450   \n",
       "Family                       0.071775       -0.637627         0.636532   \n",
       "Freedom                      0.343389       -0.547627         0.560353   \n",
       "Generosity                   1.000000       -0.146162         0.163562   \n",
       "Happiness_Rank              -0.146162        1.000000        -0.993268   \n",
       "Happiness_Score              0.163562       -0.993268         1.000000   \n",
       "Health                       0.077326       -0.750146         0.748040   \n",
       "Lower Confidence Interval    0.158025       -0.994928         0.999485   \n",
       "Trust                        0.287414       -0.384371         0.406340   \n",
       "Upper Confidence Interval    0.155495       -0.995525         0.999474   \n",
       "Whisker.high                 0.155462       -0.993058         0.999497   \n",
       "\n",
       "                             Health  Lower Confidence Interval     Trust  \\\n",
       "Dystopia_Residual          0.057674                   0.538793  0.000001   \n",
       "Economy                    0.792224                   0.790673  0.301935   \n",
       "Family                     0.486383                   0.741523  0.158605   \n",
       "Freedom                    0.359566                   0.566857  0.490405   \n",
       "Generosity                 0.077326                   0.158025  0.287414   \n",
       "Happiness_Rank            -0.750146                  -0.994928 -0.384371   \n",
       "Happiness_Score            0.748040                   0.999485  0.406340   \n",
       "Health                     1.000000                   0.769177  0.262932   \n",
       "Lower Confidence Interval  0.769177                   1.000000  0.404840   \n",
       "Trust                      0.262932                   0.404840  1.000000   \n",
       "Upper Confidence Interval  0.760752                   0.997919  0.398775   \n",
       "Whisker.high               0.776634                        NaN  0.426459   \n",
       "\n",
       "                           Upper Confidence Interval  Whisker.high  \n",
       "Dystopia_Residual                           0.548164      0.478824  \n",
       "Economy                                     0.789140      0.811868  \n",
       "Family                                      0.736184      0.750934  \n",
       "Freedom                                     0.566203      0.569907  \n",
       "Generosity                                  0.155495      0.155462  \n",
       "Happiness_Rank                             -0.995525     -0.993058  \n",
       "Happiness_Score                             0.999474      0.999497  \n",
       "Health                                      0.760752      0.776634  \n",
       "Lower Confidence Interval                   0.997919           NaN  \n",
       "Trust                                       0.398775      0.426459  \n",
       "Upper Confidence Interval                   1.000000           NaN  \n",
       "Whisker.high                                     NaN      1.000000  "
      ]
     },
     "execution_count": 163,
     "metadata": {},
     "output_type": "execute_result"
    }
   ],
   "source": [
    "corr=data.corr()\n",
    "corr"
   ]
  },
  {
   "cell_type": "markdown",
   "metadata": {},
   "source": [
    "### Finding correlation between various columns"
   ]
  },
  {
   "cell_type": "code",
   "execution_count": 164,
   "metadata": {},
   "outputs": [
    {
     "data": {
      "image/png": "[encoded data removed]",
      "text/plain": [
       "<matplotlib.figure.Figure at 0x2291a155630>"
      ]
     },
     "metadata": {},
     "output_type": "display_data"
    }
   ],
   "source": [
    "plt.figure(figsize=(15,7))\n",
    "sns.heatmap(corr, cbar = True, square = True, annot=True, linewidths = 2, fmt='.2f',annot_kws={'size':7}) \n",
    "#sns.plt.title('Heatmap of Correlation Matrix')\n",
    "plt.show()"
   ]
  },
  {
   "cell_type": "code",
   "execution_count": 165,
   "metadata": {},
   "outputs": [
    {
     "ename": "KeyError",
     "evalue": "'Region'",
     "output_type": "error",
     "traceback": [
      "\u001b[1;31m---------------------------------------------------------------------------\u001b[0m",
      "\u001b[1;31mKeyError\u001b[0m                                  Traceback (most recent call last)",
      "\u001b[1;32m~\\Anaconda3\\lib\\site-packages\\pandas\\core\\indexes\\base.py\u001b[0m in \u001b[0;36mget_loc\u001b[1;34m(self, key, method, tolerance)\u001b[0m\n\u001b[0;32m   2524\u001b[0m             \u001b[1;32mtry\u001b[0m\u001b[1;33m:\u001b[0m\u001b[1;33m\u001b[0m\u001b[0m\n\u001b[1;32m-> 2525\u001b[1;33m                 \u001b[1;32mreturn\u001b[0m \u001b[0mself\u001b[0m\u001b[1;33m.\u001b[0m\u001b[0m_engine\u001b[0m\u001b[1;33m.\u001b[0m\u001b[0mget_loc\u001b[0m\u001b[1;33m(\u001b[0m\u001b[0mkey\u001b[0m\u001b[1;33m)\u001b[0m\u001b[1;33m\u001b[0m\u001b[0m\n\u001b[0m\u001b[0;32m   2526\u001b[0m             \u001b[1;32mexcept\u001b[0m \u001b[0mKeyError\u001b[0m\u001b[1;33m:\u001b[0m\u001b[1;33m\u001b[0m\u001b[0m\n",
      "\u001b[1;32mpandas/_libs/index.pyx\u001b[0m in \u001b[0;36mpandas._libs.index.IndexEngine.get_loc\u001b[1;34m()\u001b[0m\n",
      "\u001b[1;32mpandas/_libs/index.pyx\u001b[0m in \u001b[0;36mpandas._libs.index.IndexEngine.get_loc\u001b[1;34m()\u001b[0m\n",
      "\u001b[1;32mpandas/_libs/hashtable_class_helper.pxi\u001b[0m in \u001b[0;36mpandas._libs.hashtable.PyObjectHashTable.get_item\u001b[1;34m()\u001b[0m\n",
      "\u001b[1;32mpandas/_libs/hashtable_class_helper.pxi\u001b[0m in \u001b[0;36mpandas._libs.hashtable.PyObjectHashTable.get_item\u001b[1;34m()\u001b[0m\n",
      "\u001b[1;31mKeyError\u001b[0m: 'Region'",
      "\nDuring handling of the above exception, another exception occurred:\n",
      "\u001b[1;31mKeyError\u001b[0m                                  Traceback (most recent call last)",
      "\u001b[1;32m<ipython-input-165-90ccfadb7288>\u001b[0m in \u001b[0;36m<module>\u001b[1;34m()\u001b[0m\n\u001b[1;32m----> 1\u001b[1;33m \u001b[0msns\u001b[0m\u001b[1;33m.\u001b[0m\u001b[0mpairplot\u001b[0m\u001b[1;33m(\u001b[0m\u001b[0mdata\u001b[0m\u001b[1;33m,\u001b[0m \u001b[0mhue\u001b[0m\u001b[1;33m=\u001b[0m\u001b[1;34m\"Region\"\u001b[0m\u001b[1;33m)\u001b[0m\u001b[1;33m\u001b[0m\u001b[0m\n\u001b[0m\u001b[0;32m      2\u001b[0m \u001b[1;31m#plt.show()\u001b[0m\u001b[1;33m\u001b[0m\u001b[1;33m\u001b[0m\u001b[0m\n",
      "\u001b[1;32m~\\Anaconda3\\lib\\site-packages\\seaborn\\axisgrid.py\u001b[0m in \u001b[0;36mpairplot\u001b[1;34m(data, hue, hue_order, palette, vars, x_vars, y_vars, kind, diag_kind, markers, size, aspect, dropna, plot_kws, diag_kws, grid_kws)\u001b[0m\n\u001b[0;32m   2039\u001b[0m                     \u001b[0mhue_order\u001b[0m\u001b[1;33m=\u001b[0m\u001b[0mhue_order\u001b[0m\u001b[1;33m,\u001b[0m \u001b[0mpalette\u001b[0m\u001b[1;33m=\u001b[0m\u001b[0mpalette\u001b[0m\u001b[1;33m,\u001b[0m\u001b[1;33m\u001b[0m\u001b[0m\n\u001b[0;32m   2040\u001b[0m                     \u001b[0mdiag_sharey\u001b[0m\u001b[1;33m=\u001b[0m\u001b[0mdiag_sharey\u001b[0m\u001b[1;33m,\u001b[0m\u001b[1;33m\u001b[0m\u001b[0m\n\u001b[1;32m-> 2041\u001b[1;33m                     size=size, aspect=aspect, dropna=dropna, **grid_kws)\n\u001b[0m\u001b[0;32m   2042\u001b[0m \u001b[1;33m\u001b[0m\u001b[0m\n\u001b[0;32m   2043\u001b[0m     \u001b[1;31m# Add the markers here as PairGrid has figured out how many levels of the\u001b[0m\u001b[1;33m\u001b[0m\u001b[1;33m\u001b[0m\u001b[0m\n",
      "\u001b[1;32m~\\Anaconda3\\lib\\site-packages\\seaborn\\axisgrid.py\u001b[0m in \u001b[0;36m__init__\u001b[1;34m(self, data, hue, hue_order, palette, hue_kws, vars, x_vars, y_vars, diag_sharey, size, aspect, despine, dropna)\u001b[0m\n\u001b[0;32m   1252\u001b[0m                                       index=data.index)\n\u001b[0;32m   1253\u001b[0m         \u001b[1;32melse\u001b[0m\u001b[1;33m:\u001b[0m\u001b[1;33m\u001b[0m\u001b[0m\n\u001b[1;32m-> 1254\u001b[1;33m             \u001b[0mhue_names\u001b[0m \u001b[1;33m=\u001b[0m \u001b[0mutils\u001b[0m\u001b[1;33m.\u001b[0m\u001b[0mcategorical_order\u001b[0m\u001b[1;33m(\u001b[0m\u001b[0mdata\u001b[0m\u001b[1;33m[\u001b[0m\u001b[0mhue\u001b[0m\u001b[1;33m]\u001b[0m\u001b[1;33m,\u001b[0m \u001b[0mhue_order\u001b[0m\u001b[1;33m)\u001b[0m\u001b[1;33m\u001b[0m\u001b[0m\n\u001b[0m\u001b[0;32m   1255\u001b[0m             \u001b[1;32mif\u001b[0m \u001b[0mdropna\u001b[0m\u001b[1;33m:\u001b[0m\u001b[1;33m\u001b[0m\u001b[0m\n\u001b[0;32m   1256\u001b[0m                 \u001b[1;31m# Filter NA from the list of unique hue names\u001b[0m\u001b[1;33m\u001b[0m\u001b[1;33m\u001b[0m\u001b[0m\n",
      "\u001b[1;32m~\\Anaconda3\\lib\\site-packages\\pandas\\core\\frame.py\u001b[0m in \u001b[0;36m__getitem__\u001b[1;34m(self, key)\u001b[0m\n\u001b[0;32m   2137\u001b[0m             \u001b[1;32mreturn\u001b[0m \u001b[0mself\u001b[0m\u001b[1;33m.\u001b[0m\u001b[0m_getitem_multilevel\u001b[0m\u001b[1;33m(\u001b[0m\u001b[0mkey\u001b[0m\u001b[1;33m)\u001b[0m\u001b[1;33m\u001b[0m\u001b[0m\n\u001b[0;32m   2138\u001b[0m         \u001b[1;32melse\u001b[0m\u001b[1;33m:\u001b[0m\u001b[1;33m\u001b[0m\u001b[0m\n\u001b[1;32m-> 2139\u001b[1;33m             \u001b[1;32mreturn\u001b[0m \u001b[0mself\u001b[0m\u001b[1;33m.\u001b[0m\u001b[0m_getitem_column\u001b[0m\u001b[1;33m(\u001b[0m\u001b[0mkey\u001b[0m\u001b[1;33m)\u001b[0m\u001b[1;33m\u001b[0m\u001b[0m\n\u001b[0m\u001b[0;32m   2140\u001b[0m \u001b[1;33m\u001b[0m\u001b[0m\n\u001b[0;32m   2141\u001b[0m     \u001b[1;32mdef\u001b[0m \u001b[0m_getitem_column\u001b[0m\u001b[1;33m(\u001b[0m\u001b[0mself\u001b[0m\u001b[1;33m,\u001b[0m \u001b[0mkey\u001b[0m\u001b[1;33m)\u001b[0m\u001b[1;33m:\u001b[0m\u001b[1;33m\u001b[0m\u001b[0m\n",
      "\u001b[1;32m~\\Anaconda3\\lib\\site-packages\\pandas\\core\\frame.py\u001b[0m in \u001b[0;36m_getitem_column\u001b[1;34m(self, key)\u001b[0m\n\u001b[0;32m   2144\u001b[0m         \u001b[1;31m# get column\u001b[0m\u001b[1;33m\u001b[0m\u001b[1;33m\u001b[0m\u001b[0m\n\u001b[0;32m   2145\u001b[0m         \u001b[1;32mif\u001b[0m \u001b[0mself\u001b[0m\u001b[1;33m.\u001b[0m\u001b[0mcolumns\u001b[0m\u001b[1;33m.\u001b[0m\u001b[0mis_unique\u001b[0m\u001b[1;33m:\u001b[0m\u001b[1;33m\u001b[0m\u001b[0m\n\u001b[1;32m-> 2146\u001b[1;33m             \u001b[1;32mreturn\u001b[0m \u001b[0mself\u001b[0m\u001b[1;33m.\u001b[0m\u001b[0m_get_item_cache\u001b[0m\u001b[1;33m(\u001b[0m\u001b[0mkey\u001b[0m\u001b[1;33m)\u001b[0m\u001b[1;33m\u001b[0m\u001b[0m\n\u001b[0m\u001b[0;32m   2147\u001b[0m \u001b[1;33m\u001b[0m\u001b[0m\n\u001b[0;32m   2148\u001b[0m         \u001b[1;31m# duplicate columns & possible reduce dimensionality\u001b[0m\u001b[1;33m\u001b[0m\u001b[1;33m\u001b[0m\u001b[0m\n",
      "\u001b[1;32m~\\Anaconda3\\lib\\site-packages\\pandas\\core\\generic.py\u001b[0m in \u001b[0;36m_get_item_cache\u001b[1;34m(self, item)\u001b[0m\n\u001b[0;32m   1840\u001b[0m         \u001b[0mres\u001b[0m \u001b[1;33m=\u001b[0m \u001b[0mcache\u001b[0m\u001b[1;33m.\u001b[0m\u001b[0mget\u001b[0m\u001b[1;33m(\u001b[0m\u001b[0mitem\u001b[0m\u001b[1;33m)\u001b[0m\u001b[1;33m\u001b[0m\u001b[0m\n\u001b[0;32m   1841\u001b[0m         \u001b[1;32mif\u001b[0m \u001b[0mres\u001b[0m \u001b[1;32mis\u001b[0m \u001b[1;32mNone\u001b[0m\u001b[1;33m:\u001b[0m\u001b[1;33m\u001b[0m\u001b[0m\n\u001b[1;32m-> 1842\u001b[1;33m             \u001b[0mvalues\u001b[0m \u001b[1;33m=\u001b[0m \u001b[0mself\u001b[0m\u001b[1;33m.\u001b[0m\u001b[0m_data\u001b[0m\u001b[1;33m.\u001b[0m\u001b[0mget\u001b[0m\u001b[1;33m(\u001b[0m\u001b[0mitem\u001b[0m\u001b[1;33m)\u001b[0m\u001b[1;33m\u001b[0m\u001b[0m\n\u001b[0m\u001b[0;32m   1843\u001b[0m             \u001b[0mres\u001b[0m \u001b[1;33m=\u001b[0m \u001b[0mself\u001b[0m\u001b[1;33m.\u001b[0m\u001b[0m_box_item_values\u001b[0m\u001b[1;33m(\u001b[0m\u001b[0mitem\u001b[0m\u001b[1;33m,\u001b[0m \u001b[0mvalues\u001b[0m\u001b[1;33m)\u001b[0m\u001b[1;33m\u001b[0m\u001b[0m\n\u001b[0;32m   1844\u001b[0m             \u001b[0mcache\u001b[0m\u001b[1;33m[\u001b[0m\u001b[0mitem\u001b[0m\u001b[1;33m]\u001b[0m \u001b[1;33m=\u001b[0m \u001b[0mres\u001b[0m\u001b[1;33m\u001b[0m\u001b[0m\n",
      "\u001b[1;32m~\\Anaconda3\\lib\\site-packages\\pandas\\core\\internals.py\u001b[0m in \u001b[0;36mget\u001b[1;34m(self, item, fastpath)\u001b[0m\n\u001b[0;32m   3841\u001b[0m \u001b[1;33m\u001b[0m\u001b[0m\n\u001b[0;32m   3842\u001b[0m             \u001b[1;32mif\u001b[0m \u001b[1;32mnot\u001b[0m \u001b[0misna\u001b[0m\u001b[1;33m(\u001b[0m\u001b[0mitem\u001b[0m\u001b[1;33m)\u001b[0m\u001b[1;33m:\u001b[0m\u001b[1;33m\u001b[0m\u001b[0m\n\u001b[1;32m-> 3843\u001b[1;33m                 \u001b[0mloc\u001b[0m \u001b[1;33m=\u001b[0m \u001b[0mself\u001b[0m\u001b[1;33m.\u001b[0m\u001b[0mitems\u001b[0m\u001b[1;33m.\u001b[0m\u001b[0mget_loc\u001b[0m\u001b[1;33m(\u001b[0m\u001b[0mitem\u001b[0m\u001b[1;33m)\u001b[0m\u001b[1;33m\u001b[0m\u001b[0m\n\u001b[0m\u001b[0;32m   3844\u001b[0m             \u001b[1;32melse\u001b[0m\u001b[1;33m:\u001b[0m\u001b[1;33m\u001b[0m\u001b[0m\n\u001b[0;32m   3845\u001b[0m                 \u001b[0mindexer\u001b[0m \u001b[1;33m=\u001b[0m \u001b[0mnp\u001b[0m\u001b[1;33m.\u001b[0m\u001b[0marange\u001b[0m\u001b[1;33m(\u001b[0m\u001b[0mlen\u001b[0m\u001b[1;33m(\u001b[0m\u001b[0mself\u001b[0m\u001b[1;33m.\u001b[0m\u001b[0mitems\u001b[0m\u001b[1;33m)\u001b[0m\u001b[1;33m)\u001b[0m\u001b[1;33m[\u001b[0m\u001b[0misna\u001b[0m\u001b[1;33m(\u001b[0m\u001b[0mself\u001b[0m\u001b[1;33m.\u001b[0m\u001b[0mitems\u001b[0m\u001b[1;33m)\u001b[0m\u001b[1;33m]\u001b[0m\u001b[1;33m\u001b[0m\u001b[0m\n",
      "\u001b[1;32m~\\Anaconda3\\lib\\site-packages\\pandas\\core\\indexes\\base.py\u001b[0m in \u001b[0;36mget_loc\u001b[1;34m(self, key, method, tolerance)\u001b[0m\n\u001b[0;32m   2525\u001b[0m                 \u001b[1;32mreturn\u001b[0m \u001b[0mself\u001b[0m\u001b[1;33m.\u001b[0m\u001b[0m_engine\u001b[0m\u001b[1;33m.\u001b[0m\u001b[0mget_loc\u001b[0m\u001b[1;33m(\u001b[0m\u001b[0mkey\u001b[0m\u001b[1;33m)\u001b[0m\u001b[1;33m\u001b[0m\u001b[0m\n\u001b[0;32m   2526\u001b[0m             \u001b[1;32mexcept\u001b[0m \u001b[0mKeyError\u001b[0m\u001b[1;33m:\u001b[0m\u001b[1;33m\u001b[0m\u001b[0m\n\u001b[1;32m-> 2527\u001b[1;33m                 \u001b[1;32mreturn\u001b[0m \u001b[0mself\u001b[0m\u001b[1;33m.\u001b[0m\u001b[0m_engine\u001b[0m\u001b[1;33m.\u001b[0m\u001b[0mget_loc\u001b[0m\u001b[1;33m(\u001b[0m\u001b[0mself\u001b[0m\u001b[1;33m.\u001b[0m\u001b[0m_maybe_cast_indexer\u001b[0m\u001b[1;33m(\u001b[0m\u001b[0mkey\u001b[0m\u001b[1;33m)\u001b[0m\u001b[1;33m)\u001b[0m\u001b[1;33m\u001b[0m\u001b[0m\n\u001b[0m\u001b[0;32m   2528\u001b[0m \u001b[1;33m\u001b[0m\u001b[0m\n\u001b[0;32m   2529\u001b[0m         \u001b[0mindexer\u001b[0m \u001b[1;33m=\u001b[0m \u001b[0mself\u001b[0m\u001b[1;33m.\u001b[0m\u001b[0mget_indexer\u001b[0m\u001b[1;33m(\u001b[0m\u001b[1;33m[\u001b[0m\u001b[0mkey\u001b[0m\u001b[1;33m]\u001b[0m\u001b[1;33m,\u001b[0m \u001b[0mmethod\u001b[0m\u001b[1;33m=\u001b[0m\u001b[0mmethod\u001b[0m\u001b[1;33m,\u001b[0m \u001b[0mtolerance\u001b[0m\u001b[1;33m=\u001b[0m\u001b[0mtolerance\u001b[0m\u001b[1;33m)\u001b[0m\u001b[1;33m\u001b[0m\u001b[0m\n",
      "\u001b[1;32mpandas/_libs/index.pyx\u001b[0m in \u001b[0;36mpandas._libs.index.IndexEngine.get_loc\u001b[1;34m()\u001b[0m\n",
      "\u001b[1;32mpandas/_libs/index.pyx\u001b[0m in \u001b[0;36mpandas._libs.index.IndexEngine.get_loc\u001b[1;34m()\u001b[0m\n",
      "\u001b[1;32mpandas/_libs/hashtable_class_helper.pxi\u001b[0m in \u001b[0;36mpandas._libs.hashtable.PyObjectHashTable.get_item\u001b[1;34m()\u001b[0m\n",
      "\u001b[1;32mpandas/_libs/hashtable_class_helper.pxi\u001b[0m in \u001b[0;36mpandas._libs.hashtable.PyObjectHashTable.get_item\u001b[1;34m()\u001b[0m\n",
      "\u001b[1;31mKeyError\u001b[0m: 'Region'"
     ]
    },
    {
     "data": {
      "image/png": "[encoded data removed]",
      "text/plain": [
       "<matplotlib.figure.Figure at 0x2291a155128>"
      ]
     },
     "metadata": {},
     "output_type": "display_data"
    }
   ],
   "source": [
    "sns.pairplot(data, hue=\"Region\")\n",
    "#plt.show()"
   ]
  },
  {
   "cell_type": "markdown",
   "metadata": {},
   "source": [
    "### Verifying the assumptions "
   ]
  },
  {
   "cell_type": "code",
   "execution_count": 166,
   "metadata": {
    "scrolled": true
   },
   "outputs": [
    {
     "data": {
      "text/plain": [
       "<seaborn.axisgrid.FacetGrid at 0x2291a01b7f0>"
      ]
     },
     "execution_count": 166,
     "metadata": {},
     "output_type": "execute_result"
    },
    {
     "data": {
      "image/png": "[encoded data removed]",
      "text/plain": [
       "<matplotlib.figure.Figure at 0x2291dcd4710>"
      ]
     },
     "metadata": {},
     "output_type": "display_data"
    }
   ],
   "source": [
    "sns.lmplot(y=\"Happiness_Score\", x=\"Family\", data=data)\n",
    "#3sns.plt.show()"
   ]
  },
  {
   "cell_type": "markdown",
   "metadata": {},
   "source": [
    "##### As family is the dependant variable, family is correlated to Happiness Score and not violating the assumptions"
   ]
  },
  {
   "cell_type": "code",
   "execution_count": 167,
   "metadata": {},
   "outputs": [
    {
     "data": {
      "text/plain": [
       "<seaborn.axisgrid.FacetGrid at 0x229227e73c8>"
      ]
     },
     "execution_count": 167,
     "metadata": {},
     "output_type": "execute_result"
    },
    {
     "data": {
      "image/png": "[encoded data removed]",
      "text/plain": [
       "<matplotlib.figure.Figure at 0x22922d058d0>"
      ]
     },
     "metadata": {},
     "output_type": "display_data"
    }
   ],
   "source": [
    "sns.lmplot(y=\"Happiness_Score\", x=\"Health\", data=data)\n",
    "#sns.plt.show()"
   ]
  },
  {
   "cell_type": "markdown",
   "metadata": {},
   "source": [
    "##### As Health Life Expectancy is the dependant variable, Health Life Expectancy is correlated to Happiness Score and not violating the assumptions"
   ]
  },
  {
   "cell_type": "code",
   "execution_count": 168,
   "metadata": {
    "scrolled": true
   },
   "outputs": [
    {
     "data": {
      "text/plain": [
       "<seaborn.axisgrid.FacetGrid at 0x229228e9780>"
      ]
     },
     "execution_count": 168,
     "metadata": {},
     "output_type": "execute_result"
    },
    {
     "data": {
      "image/png": "[encoded data removed]",
      "text/plain": [
       "<matplotlib.figure.Figure at 0x2291de9f7b8>"
      ]
     },
     "metadata": {},
     "output_type": "display_data"
    }
   ],
   "source": [
    "sns.lmplot(y=\"Happiness_Score\", x=\"Economy\", data=data)\n",
    "#sns.plt.show()"
   ]
  },
  {
   "cell_type": "markdown",
   "metadata": {},
   "source": [
    "##### As Economy GDP per Capita. is the dependant variable, Economy GDP per Capita. is correlated to Happiness Score and not violating the assumptions"
   ]
  },
  {
   "cell_type": "code",
   "execution_count": 169,
   "metadata": {},
   "outputs": [
    {
     "data": {
      "text/plain": [
       "<seaborn.axisgrid.FacetGrid at 0x22923b28e48>"
      ]
     },
     "execution_count": 169,
     "metadata": {},
     "output_type": "execute_result"
    },
    {
     "data": {
      "image/png": "[encoded data removed]",
      "text/plain": [
       "<matplotlib.figure.Figure at 0x22923b28278>"
      ]
     },
     "metadata": {},
     "output_type": "display_data"
    }
   ],
   "source": [
    "sns.lmplot(y=\"Happiness_Score\", x=\"Dystopia_Residual\", data=data)"
   ]
  },
  {
   "cell_type": "markdown",
   "metadata": {},
   "source": [
    "##### As Dystopia Residual is the dependant variable, Dystopia Residual is correlated to Happiness Score and not violating the assumptions"
   ]
  },
  {
   "cell_type": "markdown",
   "metadata": {},
   "source": [
    "### Checking if predictor variables are independent"
   ]
  },
  {
   "cell_type": "code",
   "execution_count": 170,
   "metadata": {
    "scrolled": false
   },
   "outputs": [
    {
     "data": {
      "text/plain": [
       "<seaborn.axisgrid.FacetGrid at 0x22921e16c88>"
      ]
     },
     "execution_count": 170,
     "metadata": {},
     "output_type": "execute_result"
    },
    {
     "data": {
      "image/png": "[encoded data removed]",
      "text/plain": [
       "<matplotlib.figure.Figure at 0x22922d62eb8>"
      ]
     },
     "metadata": {},
     "output_type": "display_data"
    }
   ],
   "source": [
    "sns.lmplot(y=\"Family\", x=\"Health\", data=data)\n",
    "#sns.plt.show()"
   ]
  },
  {
   "cell_type": "markdown",
   "metadata": {},
   "source": [
    "##### Seems like family and Health Life Expectancy are correlated  to each other. So we can take either family or Health Life Expectancy"
   ]
  },
  {
   "cell_type": "code",
   "execution_count": 171,
   "metadata": {},
   "outputs": [
    {
     "data": {
      "text/plain": [
       "<seaborn.axisgrid.FacetGrid at 0x22921e65cc0>"
      ]
     },
     "execution_count": 171,
     "metadata": {},
     "output_type": "execute_result"
    },
    {
     "data": {
      "image/png": "[encoded data removed]",
      "text/plain": [
       "<matplotlib.figure.Figure at 0x22921e65e10>"
      ]
     },
     "metadata": {},
     "output_type": "display_data"
    }
   ],
   "source": [
    "sns.lmplot(y=\"Family\", x=\"Economy\", data=data)\n",
    "#sns.plt.show()"
   ]
  },
  {
   "cell_type": "markdown",
   "metadata": {},
   "source": [
    "#### Seems like family and Economy GDP per Capita  are correlated to each other. So we can take either family or Economy GDP per Capita"
   ]
  },
  {
   "cell_type": "code",
   "execution_count": 172,
   "metadata": {},
   "outputs": [
    {
     "data": {
      "text/plain": [
       "<seaborn.axisgrid.FacetGrid at 0x22921edc438>"
      ]
     },
     "execution_count": 172,
     "metadata": {},
     "output_type": "execute_result"
    },
    {
     "data": {
      "image/png": "[encoded data removed]",
      "text/plain": [
       "<matplotlib.figure.Figure at 0x22921edc5c0>"
      ]
     },
     "metadata": {},
     "output_type": "display_data"
    }
   ],
   "source": [
    "sns.lmplot(y=\"Health\", x=\"Economy\", data=data)\n",
    "#sns.plt.show()"
   ]
  },
  {
   "cell_type": "markdown",
   "metadata": {},
   "source": [
    "#### Seems like Health Life Expectancy and Economy GDP per Capita  are correlated to each other. So we can take either Health Life Expectancy or Economy GDP per Capita"
   ]
  },
  {
   "cell_type": "code",
   "execution_count": 173,
   "metadata": {},
   "outputs": [
    {
     "data": {
      "text/plain": [
       "<seaborn.axisgrid.FacetGrid at 0x22921f71898>"
      ]
     },
     "execution_count": 173,
     "metadata": {},
     "output_type": "execute_result"
    },
    {
     "data": {
      "image/png": "[encoded data removed]",
      "text/plain": [
       "<matplotlib.figure.Figure at 0x22921f711d0>"
      ]
     },
     "metadata": {},
     "output_type": "display_data"
    }
   ],
   "source": [
    "sns.lmplot(y=\"Family\", x=\"Dystopia_Residual\", data=data)"
   ]
  },
  {
   "cell_type": "code",
   "execution_count": 177,
   "metadata": {},
   "outputs": [
    {
     "data": {
      "text/plain": [
       "Index(['Country', 'Dystopia_Residual', 'Economy', 'Family', 'Freedom',\n",
       "       'Generosity', 'Happiness_Rank', 'Happiness_Score', 'Health', 'Trust',\n",
       "       'Year'],\n",
       "      dtype='object')"
      ]
     },
     "execution_count": 177,
     "metadata": {},
     "output_type": "execute_result"
    }
   ],
   "source": [
    "data.columns"
   ]
  },
  {
   "cell_type": "markdown",
   "metadata": {},
   "source": [
    "##### Seems like Family and Dystopia Residual are not correlated to each other. So we can take both Family and Dystopia Residual."
   ]
  },
  {
   "cell_type": "code",
   "execution_count": 233,
   "metadata": {},
   "outputs": [],
   "source": [
    "X = data[['Dystopia_Residual', 'Economy', 'Family', 'Freedom',\n",
    "       'Generosity', 'Happiness_Rank', 'Health', 'Trust',\n",
    "       'Year']]\n",
    "y = data['Happiness_Score']"
   ]
  },
  {
   "cell_type": "code",
   "execution_count": 199,
   "metadata": {},
   "outputs": [
    {
     "data": {
      "text/plain": [
       "pandas.core.frame.DataFrame"
      ]
     },
     "execution_count": 199,
     "metadata": {},
     "output_type": "execute_result"
    }
   ],
   "source": [
    "type(y)"
   ]
  },
  {
   "cell_type": "markdown",
   "metadata": {},
   "source": [
    "### Feature Selection"
   ]
  },
  {
   "cell_type": "code",
   "execution_count": 234,
   "metadata": {},
   "outputs": [
    {
     "name": "stderr",
     "output_type": "stream",
     "text": [
      "C:\\Users\\mehta\\Anaconda3\\lib\\site-packages\\ipykernel_launcher.py:19: FutureWarning: 'argmin' is deprecated. Use 'idxmin' instead. The behavior of 'argmin' will be corrected to return the positional minimum in the future. Use 'series.values.argmin' to get the position of the minimum now.\n"
     ]
    },
    {
     "name": "stdout",
     "output_type": "stream",
     "text": [
      "Add  Happiness_Rank                 with p-value 0.0\n",
      "Add  Trust                          with p-value 4.98738e-07\n",
      "Add  Year                           with p-value 0.000267933\n",
      "Add  Dystopia_Residual              with p-value 0.00549651\n",
      "Add  Family                         with p-value 2.54709e-08\n",
      "Add  Economy                        with p-value 3.66289e-13\n",
      "Add  Generosity                     with p-value 3.27681e-30\n",
      "Add  Health                         with p-value 5.06438e-36\n",
      "Add  Freedom                        with p-value 0.0\n"
     ]
    },
    {
     "name": "stderr",
     "output_type": "stream",
     "text": [
      "C:\\Users\\mehta\\Anaconda3\\lib\\site-packages\\ipykernel_launcher.py:32: FutureWarning: 'argmax' is deprecated. Use 'idxmax' instead. The behavior of 'argmax' will be corrected to return the positional maximum in the future. Use 'series.values.argmax' to get the position of the maximum now.\n"
     ]
    },
    {
     "name": "stdout",
     "output_type": "stream",
     "text": [
      "Drop Year                           with p-value 0.606171\n",
      "Drop Happiness_Rank                 with p-value 0.291477\n",
      "resulting features:\n",
      "['Trust', 'Dystopia_Residual', 'Family', 'Economy', 'Generosity', 'Health', 'Freedom']\n"
     ]
    }
   ],
   "source": [
    "import statsmodels.api as sm\n",
    "\n",
    "def stepwise_selection(X1, y1,\n",
    "                      initial_list=[],\n",
    "                      threshold_in=0.01,\n",
    "                      threshold_out = 0.05,\n",
    "                      verbose=True):\n",
    "    included = list(initial_list)\n",
    "    while True:\n",
    "        changed=False\n",
    "        # forward step\n",
    "        excluded = list(set(X1.columns)-set(included))\n",
    "        new_pval = pd.Series(index=excluded)\n",
    "        for new_column in excluded:\n",
    "            model = sm.OLS(y1, sm.add_constant(pd.DataFrame(X1[included+[new_column]]))).fit()\n",
    "            new_pval[new_column] = model.pvalues[new_column]\n",
    "        best_pval = new_pval.min()\n",
    "        if best_pval < threshold_in:\n",
    "            best_feature = new_pval.argmin()\n",
    "            included.append(best_feature)\n",
    "            changed=True\n",
    "            if verbose:\n",
    "                print('Add  {:30} with p-value {:.6}'.format(best_feature, best_pval))\n",
    "\n",
    "       # backward step\n",
    "        model = sm.OLS(y1, sm.add_constant(pd.DataFrame(X1[included]))).fit()\n",
    "       # use all coefs except intercept\n",
    "        pvalues = model.pvalues.iloc[1:]\n",
    "        worst_pval = pvalues.max() # null if pvalues is empty\n",
    "        if worst_pval > threshold_out:\n",
    "            changed=True\n",
    "            worst_feature = pvalues.argmax()\n",
    "            included.remove(worst_feature)\n",
    "            if verbose:\n",
    "                print('Drop {:30} with p-value {:.6}'.format(worst_feature, worst_pval))\n",
    "        if not changed:\n",
    "            break\n",
    "    return included\n",
    "\n",
    "result = stepwise_selection(X, y)\n",
    "\n",
    "print('resulting features:')\n",
    "print(result)"
   ]
  },
  {
   "cell_type": "code",
   "execution_count": 235,
   "metadata": {},
   "outputs": [
    {
     "name": "stdout",
     "output_type": "stream",
     "text": [
      "[False  True False  True  True False  True False False]\n",
      "[2 1 3 1 1 6 1 4 5]\n"
     ]
    }
   ],
   "source": [
    "#RFE\n",
    "\n",
    "from sklearn import datasets\n",
    "from sklearn.feature_selection import RFE\n",
    "from sklearn.linear_model import LinearRegression\n",
    "\n",
    "model = LinearRegression()\n",
    "# create the RFE model and select 3 attributes\n",
    "rfe = RFE(model)\n",
    "rfe = rfe.fit(X, y)\n",
    "# summarize the selection of the attributes\n",
    "print(rfe.support_)\n",
    "print(rfe.ranking_)"
   ]
  },
  {
   "cell_type": "code",
   "execution_count": 236,
   "metadata": {},
   "outputs": [
    {
     "name": "stdout",
     "output_type": "stream",
     "text": [
      "Iteration: \t1 / 100\n",
      "Confirmed: \t0\n",
      "Tentative: \t9\n",
      "Rejected: \t0\n",
      "Iteration: \t2 / 100\n",
      "Confirmed: \t0\n",
      "Tentative: \t9\n",
      "Rejected: \t0\n",
      "Iteration: \t3 / 100\n",
      "Confirmed: \t0\n",
      "Tentative: \t9\n",
      "Rejected: \t0\n",
      "Iteration: \t4 / 100\n",
      "Confirmed: \t0\n",
      "Tentative: \t9\n",
      "Rejected: \t0\n",
      "Iteration: \t5 / 100\n",
      "Confirmed: \t0\n",
      "Tentative: \t9\n",
      "Rejected: \t0\n",
      "Iteration: \t6 / 100\n",
      "Confirmed: \t0\n",
      "Tentative: \t9\n",
      "Rejected: \t0\n",
      "Iteration: \t7 / 100\n",
      "Confirmed: \t0\n",
      "Tentative: \t9\n",
      "Rejected: \t0\n",
      "Iteration: \t8 / 100\n",
      "Confirmed: \t1\n",
      "Tentative: \t7\n",
      "Rejected: \t1\n"
     ]
    },
    {
     "name": "stderr",
     "output_type": "stream",
     "text": [
      "C:\\Users\\mehta\\Anaconda3\\lib\\site-packages\\boruta\\boruta_py.py:418: RuntimeWarning: invalid value encountered in greater\n",
      "  hits = np.where(cur_imp[0] > imp_sha_max)[0]\n"
     ]
    },
    {
     "name": "stdout",
     "output_type": "stream",
     "text": [
      "Iteration: \t9 / 100\n",
      "Confirmed: \t1\n",
      "Tentative: \t7\n",
      "Rejected: \t1\n"
     ]
    },
    {
     "name": "stderr",
     "output_type": "stream",
     "text": [
      "C:\\Users\\mehta\\Anaconda3\\lib\\site-packages\\boruta\\boruta_py.py:418: RuntimeWarning: invalid value encountered in greater\n",
      "  hits = np.where(cur_imp[0] > imp_sha_max)[0]\n"
     ]
    },
    {
     "name": "stdout",
     "output_type": "stream",
     "text": [
      "Iteration: \t10 / 100\n",
      "Confirmed: \t1\n",
      "Tentative: \t7\n",
      "Rejected: \t1\n"
     ]
    },
    {
     "name": "stderr",
     "output_type": "stream",
     "text": [
      "C:\\Users\\mehta\\Anaconda3\\lib\\site-packages\\boruta\\boruta_py.py:418: RuntimeWarning: invalid value encountered in greater\n",
      "  hits = np.where(cur_imp[0] > imp_sha_max)[0]\n"
     ]
    },
    {
     "name": "stdout",
     "output_type": "stream",
     "text": [
      "Iteration: \t11 / 100\n",
      "Confirmed: \t1\n",
      "Tentative: \t7\n",
      "Rejected: \t1\n"
     ]
    },
    {
     "name": "stderr",
     "output_type": "stream",
     "text": [
      "C:\\Users\\mehta\\Anaconda3\\lib\\site-packages\\boruta\\boruta_py.py:418: RuntimeWarning: invalid value encountered in greater\n",
      "  hits = np.where(cur_imp[0] > imp_sha_max)[0]\n"
     ]
    },
    {
     "name": "stdout",
     "output_type": "stream",
     "text": [
      "Iteration: \t12 / 100\n",
      "Confirmed: \t2\n",
      "Tentative: \t5\n",
      "Rejected: \t2\n"
     ]
    },
    {
     "name": "stderr",
     "output_type": "stream",
     "text": [
      "C:\\Users\\mehta\\Anaconda3\\lib\\site-packages\\boruta\\boruta_py.py:418: RuntimeWarning: invalid value encountered in greater\n",
      "  hits = np.where(cur_imp[0] > imp_sha_max)[0]\n"
     ]
    },
    {
     "name": "stdout",
     "output_type": "stream",
     "text": [
      "Iteration: \t13 / 100\n",
      "Confirmed: \t2\n",
      "Tentative: \t5\n",
      "Rejected: \t2\n"
     ]
    },
    {
     "name": "stderr",
     "output_type": "stream",
     "text": [
      "C:\\Users\\mehta\\Anaconda3\\lib\\site-packages\\boruta\\boruta_py.py:418: RuntimeWarning: invalid value encountered in greater\n",
      "  hits = np.where(cur_imp[0] > imp_sha_max)[0]\n"
     ]
    },
    {
     "name": "stdout",
     "output_type": "stream",
     "text": [
      "Iteration: \t14 / 100\n",
      "Confirmed: \t2\n",
      "Tentative: \t5\n",
      "Rejected: \t2\n"
     ]
    },
    {
     "name": "stderr",
     "output_type": "stream",
     "text": [
      "C:\\Users\\mehta\\Anaconda3\\lib\\site-packages\\boruta\\boruta_py.py:418: RuntimeWarning: invalid value encountered in greater\n",
      "  hits = np.where(cur_imp[0] > imp_sha_max)[0]\n"
     ]
    },
    {
     "name": "stdout",
     "output_type": "stream",
     "text": [
      "Iteration: \t15 / 100\n",
      "Confirmed: \t2\n",
      "Tentative: \t5\n",
      "Rejected: \t2\n"
     ]
    },
    {
     "name": "stderr",
     "output_type": "stream",
     "text": [
      "C:\\Users\\mehta\\Anaconda3\\lib\\site-packages\\boruta\\boruta_py.py:418: RuntimeWarning: invalid value encountered in greater\n",
      "  hits = np.where(cur_imp[0] > imp_sha_max)[0]\n"
     ]
    },
    {
     "name": "stdout",
     "output_type": "stream",
     "text": [
      "Iteration: \t16 / 100\n",
      "Confirmed: \t2\n",
      "Tentative: \t5\n",
      "Rejected: \t2\n"
     ]
    },
    {
     "name": "stderr",
     "output_type": "stream",
     "text": [
      "C:\\Users\\mehta\\Anaconda3\\lib\\site-packages\\boruta\\boruta_py.py:418: RuntimeWarning: invalid value encountered in greater\n",
      "  hits = np.where(cur_imp[0] > imp_sha_max)[0]\n"
     ]
    },
    {
     "name": "stdout",
     "output_type": "stream",
     "text": [
      "Iteration: \t17 / 100\n",
      "Confirmed: \t2\n",
      "Tentative: \t5\n",
      "Rejected: \t2\n"
     ]
    },
    {
     "name": "stderr",
     "output_type": "stream",
     "text": [
      "C:\\Users\\mehta\\Anaconda3\\lib\\site-packages\\boruta\\boruta_py.py:418: RuntimeWarning: invalid value encountered in greater\n",
      "  hits = np.where(cur_imp[0] > imp_sha_max)[0]\n"
     ]
    },
    {
     "name": "stdout",
     "output_type": "stream",
     "text": [
      "Iteration: \t18 / 100\n",
      "Confirmed: \t2\n",
      "Tentative: \t5\n",
      "Rejected: \t2\n"
     ]
    },
    {
     "name": "stderr",
     "output_type": "stream",
     "text": [
      "C:\\Users\\mehta\\Anaconda3\\lib\\site-packages\\boruta\\boruta_py.py:418: RuntimeWarning: invalid value encountered in greater\n",
      "  hits = np.where(cur_imp[0] > imp_sha_max)[0]\n"
     ]
    },
    {
     "name": "stdout",
     "output_type": "stream",
     "text": [
      "Iteration: \t19 / 100\n",
      "Confirmed: \t2\n",
      "Tentative: \t4\n",
      "Rejected: \t3\n"
     ]
    },
    {
     "name": "stderr",
     "output_type": "stream",
     "text": [
      "C:\\Users\\mehta\\Anaconda3\\lib\\site-packages\\boruta\\boruta_py.py:418: RuntimeWarning: invalid value encountered in greater\n",
      "  hits = np.where(cur_imp[0] > imp_sha_max)[0]\n"
     ]
    },
    {
     "name": "stdout",
     "output_type": "stream",
     "text": [
      "Iteration: \t20 / 100\n",
      "Confirmed: \t2\n",
      "Tentative: \t4\n",
      "Rejected: \t3\n"
     ]
    },
    {
     "name": "stderr",
     "output_type": "stream",
     "text": [
      "C:\\Users\\mehta\\Anaconda3\\lib\\site-packages\\boruta\\boruta_py.py:418: RuntimeWarning: invalid value encountered in greater\n",
      "  hits = np.where(cur_imp[0] > imp_sha_max)[0]\n"
     ]
    },
    {
     "name": "stdout",
     "output_type": "stream",
     "text": [
      "Iteration: \t21 / 100\n",
      "Confirmed: \t2\n",
      "Tentative: \t4\n",
      "Rejected: \t3\n"
     ]
    },
    {
     "name": "stderr",
     "output_type": "stream",
     "text": [
      "C:\\Users\\mehta\\Anaconda3\\lib\\site-packages\\boruta\\boruta_py.py:418: RuntimeWarning: invalid value encountered in greater\n",
      "  hits = np.where(cur_imp[0] > imp_sha_max)[0]\n"
     ]
    },
    {
     "name": "stdout",
     "output_type": "stream",
     "text": [
      "Iteration: \t22 / 100\n",
      "Confirmed: \t3\n",
      "Tentative: \t3\n",
      "Rejected: \t3\n"
     ]
    },
    {
     "name": "stderr",
     "output_type": "stream",
     "text": [
      "C:\\Users\\mehta\\Anaconda3\\lib\\site-packages\\boruta\\boruta_py.py:418: RuntimeWarning: invalid value encountered in greater\n",
      "  hits = np.where(cur_imp[0] > imp_sha_max)[0]\n"
     ]
    },
    {
     "name": "stdout",
     "output_type": "stream",
     "text": [
      "Iteration: \t23 / 100\n",
      "Confirmed: \t3\n",
      "Tentative: \t3\n",
      "Rejected: \t3\n"
     ]
    },
    {
     "name": "stderr",
     "output_type": "stream",
     "text": [
      "C:\\Users\\mehta\\Anaconda3\\lib\\site-packages\\boruta\\boruta_py.py:418: RuntimeWarning: invalid value encountered in greater\n",
      "  hits = np.where(cur_imp[0] > imp_sha_max)[0]\n"
     ]
    },
    {
     "name": "stdout",
     "output_type": "stream",
     "text": [
      "Iteration: \t24 / 100\n",
      "Confirmed: \t3\n",
      "Tentative: \t3\n",
      "Rejected: \t3\n"
     ]
    },
    {
     "name": "stderr",
     "output_type": "stream",
     "text": [
      "C:\\Users\\mehta\\Anaconda3\\lib\\site-packages\\boruta\\boruta_py.py:418: RuntimeWarning: invalid value encountered in greater\n",
      "  hits = np.where(cur_imp[0] > imp_sha_max)[0]\n"
     ]
    },
    {
     "name": "stdout",
     "output_type": "stream",
     "text": [
      "Iteration: \t25 / 100\n",
      "Confirmed: \t3\n",
      "Tentative: \t3\n",
      "Rejected: \t3\n"
     ]
    },
    {
     "name": "stderr",
     "output_type": "stream",
     "text": [
      "C:\\Users\\mehta\\Anaconda3\\lib\\site-packages\\boruta\\boruta_py.py:418: RuntimeWarning: invalid value encountered in greater\n",
      "  hits = np.where(cur_imp[0] > imp_sha_max)[0]\n"
     ]
    },
    {
     "name": "stdout",
     "output_type": "stream",
     "text": [
      "Iteration: \t26 / 100\n",
      "Confirmed: \t3\n",
      "Tentative: \t3\n",
      "Rejected: \t3\n"
     ]
    },
    {
     "name": "stderr",
     "output_type": "stream",
     "text": [
      "C:\\Users\\mehta\\Anaconda3\\lib\\site-packages\\boruta\\boruta_py.py:418: RuntimeWarning: invalid value encountered in greater\n",
      "  hits = np.where(cur_imp[0] > imp_sha_max)[0]\n"
     ]
    },
    {
     "name": "stdout",
     "output_type": "stream",
     "text": [
      "Iteration: \t27 / 100\n",
      "Confirmed: \t3\n",
      "Tentative: \t3\n",
      "Rejected: \t3\n"
     ]
    },
    {
     "name": "stderr",
     "output_type": "stream",
     "text": [
      "C:\\Users\\mehta\\Anaconda3\\lib\\site-packages\\boruta\\boruta_py.py:418: RuntimeWarning: invalid value encountered in greater\n",
      "  hits = np.where(cur_imp[0] > imp_sha_max)[0]\n"
     ]
    },
    {
     "name": "stdout",
     "output_type": "stream",
     "text": [
      "Iteration: \t28 / 100\n",
      "Confirmed: \t3\n",
      "Tentative: \t3\n",
      "Rejected: \t3\n"
     ]
    },
    {
     "name": "stderr",
     "output_type": "stream",
     "text": [
      "C:\\Users\\mehta\\Anaconda3\\lib\\site-packages\\boruta\\boruta_py.py:418: RuntimeWarning: invalid value encountered in greater\n",
      "  hits = np.where(cur_imp[0] > imp_sha_max)[0]\n"
     ]
    },
    {
     "name": "stdout",
     "output_type": "stream",
     "text": [
      "Iteration: \t29 / 100\n",
      "Confirmed: \t4\n",
      "Tentative: \t2\n",
      "Rejected: \t3\n"
     ]
    },
    {
     "name": "stderr",
     "output_type": "stream",
     "text": [
      "C:\\Users\\mehta\\Anaconda3\\lib\\site-packages\\boruta\\boruta_py.py:418: RuntimeWarning: invalid value encountered in greater\n",
      "  hits = np.where(cur_imp[0] > imp_sha_max)[0]\n"
     ]
    },
    {
     "name": "stdout",
     "output_type": "stream",
     "text": [
      "Iteration: \t30 / 100\n",
      "Confirmed: \t4\n",
      "Tentative: \t2\n",
      "Rejected: \t3\n"
     ]
    },
    {
     "name": "stderr",
     "output_type": "stream",
     "text": [
      "C:\\Users\\mehta\\Anaconda3\\lib\\site-packages\\boruta\\boruta_py.py:418: RuntimeWarning: invalid value encountered in greater\n",
      "  hits = np.where(cur_imp[0] > imp_sha_max)[0]\n"
     ]
    },
    {
     "name": "stdout",
     "output_type": "stream",
     "text": [
      "Iteration: \t31 / 100\n",
      "Confirmed: \t4\n",
      "Tentative: \t2\n",
      "Rejected: \t3\n"
     ]
    },
    {
     "name": "stderr",
     "output_type": "stream",
     "text": [
      "C:\\Users\\mehta\\Anaconda3\\lib\\site-packages\\boruta\\boruta_py.py:418: RuntimeWarning: invalid value encountered in greater\n",
      "  hits = np.where(cur_imp[0] > imp_sha_max)[0]\n"
     ]
    },
    {
     "name": "stdout",
     "output_type": "stream",
     "text": [
      "Iteration: \t32 / 100\n",
      "Confirmed: \t4\n",
      "Tentative: \t2\n",
      "Rejected: \t3\n"
     ]
    },
    {
     "name": "stderr",
     "output_type": "stream",
     "text": [
      "C:\\Users\\mehta\\Anaconda3\\lib\\site-packages\\boruta\\boruta_py.py:418: RuntimeWarning: invalid value encountered in greater\n",
      "  hits = np.where(cur_imp[0] > imp_sha_max)[0]\n"
     ]
    },
    {
     "name": "stdout",
     "output_type": "stream",
     "text": [
      "Iteration: \t33 / 100\n",
      "Confirmed: \t4\n",
      "Tentative: \t2\n",
      "Rejected: \t3\n"
     ]
    },
    {
     "name": "stderr",
     "output_type": "stream",
     "text": [
      "C:\\Users\\mehta\\Anaconda3\\lib\\site-packages\\boruta\\boruta_py.py:418: RuntimeWarning: invalid value encountered in greater\n",
      "  hits = np.where(cur_imp[0] > imp_sha_max)[0]\n"
     ]
    },
    {
     "name": "stdout",
     "output_type": "stream",
     "text": [
      "Iteration: \t34 / 100\n",
      "Confirmed: \t5\n",
      "Tentative: \t1\n",
      "Rejected: \t3\n"
     ]
    },
    {
     "name": "stderr",
     "output_type": "stream",
     "text": [
      "C:\\Users\\mehta\\Anaconda3\\lib\\site-packages\\boruta\\boruta_py.py:418: RuntimeWarning: invalid value encountered in greater\n",
      "  hits = np.where(cur_imp[0] > imp_sha_max)[0]\n"
     ]
    },
    {
     "name": "stdout",
     "output_type": "stream",
     "text": [
      "Iteration: \t35 / 100\n",
      "Confirmed: \t5\n",
      "Tentative: \t1\n",
      "Rejected: \t3\n"
     ]
    },
    {
     "name": "stderr",
     "output_type": "stream",
     "text": [
      "C:\\Users\\mehta\\Anaconda3\\lib\\site-packages\\boruta\\boruta_py.py:418: RuntimeWarning: invalid value encountered in greater\n",
      "  hits = np.where(cur_imp[0] > imp_sha_max)[0]\n"
     ]
    },
    {
     "name": "stdout",
     "output_type": "stream",
     "text": [
      "Iteration: \t36 / 100\n",
      "Confirmed: \t5\n",
      "Tentative: \t1\n",
      "Rejected: \t3\n"
     ]
    },
    {
     "name": "stderr",
     "output_type": "stream",
     "text": [
      "C:\\Users\\mehta\\Anaconda3\\lib\\site-packages\\boruta\\boruta_py.py:418: RuntimeWarning: invalid value encountered in greater\n",
      "  hits = np.where(cur_imp[0] > imp_sha_max)[0]\n"
     ]
    },
    {
     "name": "stdout",
     "output_type": "stream",
     "text": [
      "Iteration: \t37 / 100\n",
      "Confirmed: \t5\n",
      "Tentative: \t1\n",
      "Rejected: \t3\n"
     ]
    },
    {
     "name": "stderr",
     "output_type": "stream",
     "text": [
      "C:\\Users\\mehta\\Anaconda3\\lib\\site-packages\\boruta\\boruta_py.py:418: RuntimeWarning: invalid value encountered in greater\n",
      "  hits = np.where(cur_imp[0] > imp_sha_max)[0]\n"
     ]
    },
    {
     "name": "stdout",
     "output_type": "stream",
     "text": [
      "Iteration: \t38 / 100\n",
      "Confirmed: \t5\n",
      "Tentative: \t1\n",
      "Rejected: \t3\n"
     ]
    },
    {
     "name": "stderr",
     "output_type": "stream",
     "text": [
      "C:\\Users\\mehta\\Anaconda3\\lib\\site-packages\\boruta\\boruta_py.py:418: RuntimeWarning: invalid value encountered in greater\n",
      "  hits = np.where(cur_imp[0] > imp_sha_max)[0]\n"
     ]
    },
    {
     "name": "stdout",
     "output_type": "stream",
     "text": [
      "Iteration: \t39 / 100\n",
      "Confirmed: \t5\n",
      "Tentative: \t1\n",
      "Rejected: \t3\n"
     ]
    },
    {
     "name": "stderr",
     "output_type": "stream",
     "text": [
      "C:\\Users\\mehta\\Anaconda3\\lib\\site-packages\\boruta\\boruta_py.py:418: RuntimeWarning: invalid value encountered in greater\n",
      "  hits = np.where(cur_imp[0] > imp_sha_max)[0]\n"
     ]
    },
    {
     "name": "stdout",
     "output_type": "stream",
     "text": [
      "Iteration: \t40 / 100\n",
      "Confirmed: \t5\n",
      "Tentative: \t1\n",
      "Rejected: \t3\n"
     ]
    },
    {
     "name": "stderr",
     "output_type": "stream",
     "text": [
      "C:\\Users\\mehta\\Anaconda3\\lib\\site-packages\\boruta\\boruta_py.py:418: RuntimeWarning: invalid value encountered in greater\n",
      "  hits = np.where(cur_imp[0] > imp_sha_max)[0]\n"
     ]
    },
    {
     "name": "stdout",
     "output_type": "stream",
     "text": [
      "Iteration: \t41 / 100\n",
      "Confirmed: \t5\n",
      "Tentative: \t1\n",
      "Rejected: \t3\n"
     ]
    },
    {
     "name": "stderr",
     "output_type": "stream",
     "text": [
      "C:\\Users\\mehta\\Anaconda3\\lib\\site-packages\\boruta\\boruta_py.py:418: RuntimeWarning: invalid value encountered in greater\n",
      "  hits = np.where(cur_imp[0] > imp_sha_max)[0]\n"
     ]
    },
    {
     "name": "stdout",
     "output_type": "stream",
     "text": [
      "Iteration: \t42 / 100\n",
      "Confirmed: \t5\n",
      "Tentative: \t1\n",
      "Rejected: \t3\n"
     ]
    },
    {
     "name": "stderr",
     "output_type": "stream",
     "text": [
      "C:\\Users\\mehta\\Anaconda3\\lib\\site-packages\\boruta\\boruta_py.py:418: RuntimeWarning: invalid value encountered in greater\n",
      "  hits = np.where(cur_imp[0] > imp_sha_max)[0]\n"
     ]
    },
    {
     "name": "stdout",
     "output_type": "stream",
     "text": [
      "Iteration: \t43 / 100\n",
      "Confirmed: \t5\n",
      "Tentative: \t1\n",
      "Rejected: \t3\n"
     ]
    },
    {
     "name": "stderr",
     "output_type": "stream",
     "text": [
      "C:\\Users\\mehta\\Anaconda3\\lib\\site-packages\\boruta\\boruta_py.py:418: RuntimeWarning: invalid value encountered in greater\n",
      "  hits = np.where(cur_imp[0] > imp_sha_max)[0]\n"
     ]
    },
    {
     "name": "stdout",
     "output_type": "stream",
     "text": [
      "Iteration: \t44 / 100\n",
      "Confirmed: \t5\n",
      "Tentative: \t1\n",
      "Rejected: \t3\n"
     ]
    },
    {
     "name": "stderr",
     "output_type": "stream",
     "text": [
      "C:\\Users\\mehta\\Anaconda3\\lib\\site-packages\\boruta\\boruta_py.py:418: RuntimeWarning: invalid value encountered in greater\n",
      "  hits = np.where(cur_imp[0] > imp_sha_max)[0]\n"
     ]
    },
    {
     "name": "stdout",
     "output_type": "stream",
     "text": [
      "Iteration: \t45 / 100\n",
      "Confirmed: \t5\n",
      "Tentative: \t1\n",
      "Rejected: \t3\n"
     ]
    },
    {
     "name": "stderr",
     "output_type": "stream",
     "text": [
      "C:\\Users\\mehta\\Anaconda3\\lib\\site-packages\\boruta\\boruta_py.py:418: RuntimeWarning: invalid value encountered in greater\n",
      "  hits = np.where(cur_imp[0] > imp_sha_max)[0]\n"
     ]
    },
    {
     "name": "stdout",
     "output_type": "stream",
     "text": [
      "Iteration: \t46 / 100\n",
      "Confirmed: \t5\n",
      "Tentative: \t1\n",
      "Rejected: \t3\n"
     ]
    },
    {
     "name": "stderr",
     "output_type": "stream",
     "text": [
      "C:\\Users\\mehta\\Anaconda3\\lib\\site-packages\\boruta\\boruta_py.py:418: RuntimeWarning: invalid value encountered in greater\n",
      "  hits = np.where(cur_imp[0] > imp_sha_max)[0]\n"
     ]
    },
    {
     "name": "stdout",
     "output_type": "stream",
     "text": [
      "Iteration: \t47 / 100\n",
      "Confirmed: \t5\n",
      "Tentative: \t1\n",
      "Rejected: \t3\n"
     ]
    },
    {
     "name": "stderr",
     "output_type": "stream",
     "text": [
      "C:\\Users\\mehta\\Anaconda3\\lib\\site-packages\\boruta\\boruta_py.py:418: RuntimeWarning: invalid value encountered in greater\n",
      "  hits = np.where(cur_imp[0] > imp_sha_max)[0]\n"
     ]
    },
    {
     "name": "stdout",
     "output_type": "stream",
     "text": [
      "Iteration: \t48 / 100\n",
      "Confirmed: \t5\n",
      "Tentative: \t1\n",
      "Rejected: \t3\n"
     ]
    },
    {
     "name": "stderr",
     "output_type": "stream",
     "text": [
      "C:\\Users\\mehta\\Anaconda3\\lib\\site-packages\\boruta\\boruta_py.py:418: RuntimeWarning: invalid value encountered in greater\n",
      "  hits = np.where(cur_imp[0] > imp_sha_max)[0]\n"
     ]
    },
    {
     "name": "stdout",
     "output_type": "stream",
     "text": [
      "Iteration: \t49 / 100\n",
      "Confirmed: \t5\n",
      "Tentative: \t1\n",
      "Rejected: \t3\n"
     ]
    },
    {
     "name": "stderr",
     "output_type": "stream",
     "text": [
      "C:\\Users\\mehta\\Anaconda3\\lib\\site-packages\\boruta\\boruta_py.py:418: RuntimeWarning: invalid value encountered in greater\n",
      "  hits = np.where(cur_imp[0] > imp_sha_max)[0]\n"
     ]
    },
    {
     "name": "stdout",
     "output_type": "stream",
     "text": [
      "Iteration: \t50 / 100\n",
      "Confirmed: \t5\n",
      "Tentative: \t1\n",
      "Rejected: \t3\n"
     ]
    },
    {
     "name": "stderr",
     "output_type": "stream",
     "text": [
      "C:\\Users\\mehta\\Anaconda3\\lib\\site-packages\\boruta\\boruta_py.py:418: RuntimeWarning: invalid value encountered in greater\n",
      "  hits = np.where(cur_imp[0] > imp_sha_max)[0]\n"
     ]
    },
    {
     "name": "stdout",
     "output_type": "stream",
     "text": [
      "Iteration: \t51 / 100\n",
      "Confirmed: \t5\n",
      "Tentative: \t1\n",
      "Rejected: \t3\n"
     ]
    },
    {
     "name": "stderr",
     "output_type": "stream",
     "text": [
      "C:\\Users\\mehta\\Anaconda3\\lib\\site-packages\\boruta\\boruta_py.py:418: RuntimeWarning: invalid value encountered in greater\n",
      "  hits = np.where(cur_imp[0] > imp_sha_max)[0]\n"
     ]
    },
    {
     "name": "stdout",
     "output_type": "stream",
     "text": [
      "Iteration: \t52 / 100\n",
      "Confirmed: \t5\n",
      "Tentative: \t1\n",
      "Rejected: \t3\n"
     ]
    },
    {
     "name": "stderr",
     "output_type": "stream",
     "text": [
      "C:\\Users\\mehta\\Anaconda3\\lib\\site-packages\\boruta\\boruta_py.py:418: RuntimeWarning: invalid value encountered in greater\n",
      "  hits = np.where(cur_imp[0] > imp_sha_max)[0]\n"
     ]
    },
    {
     "name": "stdout",
     "output_type": "stream",
     "text": [
      "Iteration: \t53 / 100\n",
      "Confirmed: \t5\n",
      "Tentative: \t1\n",
      "Rejected: \t3\n"
     ]
    },
    {
     "name": "stderr",
     "output_type": "stream",
     "text": [
      "C:\\Users\\mehta\\Anaconda3\\lib\\site-packages\\boruta\\boruta_py.py:418: RuntimeWarning: invalid value encountered in greater\n",
      "  hits = np.where(cur_imp[0] > imp_sha_max)[0]\n"
     ]
    },
    {
     "name": "stdout",
     "output_type": "stream",
     "text": [
      "Iteration: \t54 / 100\n",
      "Confirmed: \t5\n",
      "Tentative: \t1\n",
      "Rejected: \t3\n"
     ]
    },
    {
     "name": "stderr",
     "output_type": "stream",
     "text": [
      "C:\\Users\\mehta\\Anaconda3\\lib\\site-packages\\boruta\\boruta_py.py:418: RuntimeWarning: invalid value encountered in greater\n",
      "  hits = np.where(cur_imp[0] > imp_sha_max)[0]\n"
     ]
    },
    {
     "name": "stdout",
     "output_type": "stream",
     "text": [
      "Iteration: \t55 / 100\n",
      "Confirmed: \t5\n",
      "Tentative: \t1\n",
      "Rejected: \t3\n"
     ]
    },
    {
     "name": "stderr",
     "output_type": "stream",
     "text": [
      "C:\\Users\\mehta\\Anaconda3\\lib\\site-packages\\boruta\\boruta_py.py:418: RuntimeWarning: invalid value encountered in greater\n",
      "  hits = np.where(cur_imp[0] > imp_sha_max)[0]\n"
     ]
    },
    {
     "name": "stdout",
     "output_type": "stream",
     "text": [
      "Iteration: \t56 / 100\n",
      "Confirmed: \t5\n",
      "Tentative: \t1\n",
      "Rejected: \t3\n"
     ]
    },
    {
     "name": "stderr",
     "output_type": "stream",
     "text": [
      "C:\\Users\\mehta\\Anaconda3\\lib\\site-packages\\boruta\\boruta_py.py:418: RuntimeWarning: invalid value encountered in greater\n",
      "  hits = np.where(cur_imp[0] > imp_sha_max)[0]\n"
     ]
    },
    {
     "name": "stdout",
     "output_type": "stream",
     "text": [
      "Iteration: \t57 / 100\n",
      "Confirmed: \t5\n",
      "Tentative: \t1\n",
      "Rejected: \t3\n"
     ]
    },
    {
     "name": "stderr",
     "output_type": "stream",
     "text": [
      "C:\\Users\\mehta\\Anaconda3\\lib\\site-packages\\boruta\\boruta_py.py:418: RuntimeWarning: invalid value encountered in greater\n",
      "  hits = np.where(cur_imp[0] > imp_sha_max)[0]\n"
     ]
    },
    {
     "name": "stdout",
     "output_type": "stream",
     "text": [
      "Iteration: \t58 / 100\n",
      "Confirmed: \t5\n",
      "Tentative: \t1\n",
      "Rejected: \t3\n"
     ]
    },
    {
     "name": "stderr",
     "output_type": "stream",
     "text": [
      "C:\\Users\\mehta\\Anaconda3\\lib\\site-packages\\boruta\\boruta_py.py:418: RuntimeWarning: invalid value encountered in greater\n",
      "  hits = np.where(cur_imp[0] > imp_sha_max)[0]\n"
     ]
    },
    {
     "name": "stdout",
     "output_type": "stream",
     "text": [
      "Iteration: \t59 / 100\n",
      "Confirmed: \t5\n",
      "Tentative: \t1\n",
      "Rejected: \t3\n"
     ]
    },
    {
     "name": "stderr",
     "output_type": "stream",
     "text": [
      "C:\\Users\\mehta\\Anaconda3\\lib\\site-packages\\boruta\\boruta_py.py:418: RuntimeWarning: invalid value encountered in greater\n",
      "  hits = np.where(cur_imp[0] > imp_sha_max)[0]\n"
     ]
    },
    {
     "name": "stdout",
     "output_type": "stream",
     "text": [
      "Iteration: \t60 / 100\n",
      "Confirmed: \t5\n",
      "Tentative: \t1\n",
      "Rejected: \t3\n"
     ]
    },
    {
     "name": "stderr",
     "output_type": "stream",
     "text": [
      "C:\\Users\\mehta\\Anaconda3\\lib\\site-packages\\boruta\\boruta_py.py:418: RuntimeWarning: invalid value encountered in greater\n",
      "  hits = np.where(cur_imp[0] > imp_sha_max)[0]\n"
     ]
    },
    {
     "name": "stdout",
     "output_type": "stream",
     "text": [
      "Iteration: \t61 / 100\n",
      "Confirmed: \t5\n",
      "Tentative: \t1\n",
      "Rejected: \t3\n"
     ]
    },
    {
     "name": "stderr",
     "output_type": "stream",
     "text": [
      "C:\\Users\\mehta\\Anaconda3\\lib\\site-packages\\boruta\\boruta_py.py:418: RuntimeWarning: invalid value encountered in greater\n",
      "  hits = np.where(cur_imp[0] > imp_sha_max)[0]\n"
     ]
    },
    {
     "name": "stdout",
     "output_type": "stream",
     "text": [
      "Iteration: \t62 / 100\n",
      "Confirmed: \t5\n",
      "Tentative: \t1\n",
      "Rejected: \t3\n"
     ]
    },
    {
     "name": "stderr",
     "output_type": "stream",
     "text": [
      "C:\\Users\\mehta\\Anaconda3\\lib\\site-packages\\boruta\\boruta_py.py:418: RuntimeWarning: invalid value encountered in greater\n",
      "  hits = np.where(cur_imp[0] > imp_sha_max)[0]\n"
     ]
    },
    {
     "name": "stdout",
     "output_type": "stream",
     "text": [
      "Iteration: \t63 / 100\n",
      "Confirmed: \t5\n",
      "Tentative: \t1\n",
      "Rejected: \t3\n"
     ]
    },
    {
     "name": "stderr",
     "output_type": "stream",
     "text": [
      "C:\\Users\\mehta\\Anaconda3\\lib\\site-packages\\boruta\\boruta_py.py:418: RuntimeWarning: invalid value encountered in greater\n",
      "  hits = np.where(cur_imp[0] > imp_sha_max)[0]\n"
     ]
    },
    {
     "name": "stdout",
     "output_type": "stream",
     "text": [
      "Iteration: \t64 / 100\n",
      "Confirmed: \t5\n",
      "Tentative: \t1\n",
      "Rejected: \t3\n"
     ]
    },
    {
     "name": "stderr",
     "output_type": "stream",
     "text": [
      "C:\\Users\\mehta\\Anaconda3\\lib\\site-packages\\boruta\\boruta_py.py:418: RuntimeWarning: invalid value encountered in greater\n",
      "  hits = np.where(cur_imp[0] > imp_sha_max)[0]\n"
     ]
    },
    {
     "name": "stdout",
     "output_type": "stream",
     "text": [
      "Iteration: \t65 / 100\n",
      "Confirmed: \t5\n",
      "Tentative: \t0\n",
      "Rejected: \t4\n",
      "\n",
      "\n",
      "BorutaPy finished running.\n",
      "\n",
      "Iteration: \t66 / 100\n",
      "Confirmed: \t5\n",
      "Tentative: \t0\n",
      "Rejected: \t4\n"
     ]
    },
    {
     "data": {
      "text/plain": [
       "array([3, 1, 3, 1, 5, 1, 1, 2, 1])"
      ]
     },
     "execution_count": 236,
     "metadata": {},
     "output_type": "execute_result"
    }
   ],
   "source": [
    "# BORUTA\n",
    "import statsmodels.api as sm\n",
    "import pandas as pd\n",
    "from sklearn.ensemble import RandomForestRegressor\n",
    "from boruta import BorutaPy\n",
    "\n",
    "# load X and y\n",
    "# NOTE BorutaPy accepts numpy arrays only, hence the .values attribute\n",
    "X = X.values\n",
    "y = y.values\n",
    "\n",
    "# define random forest classifier, with utilising all cores and\n",
    "# sampling in proportion to y labels\n",
    "rf = RandomForestRegressor(n_estimators=100 , max_depth=5)\n",
    "\n",
    "# define Boruta feature selection method\n",
    "feat_selector = BorutaPy(rf, n_estimators='auto', verbose=2)\n",
    "\n",
    "# find all relevant features\n",
    "feat_selector.fit(X, y)\n",
    "\n",
    "# check selected features\n",
    "feat_selector.support_\n",
    "\n",
    "# check ranking of features\n",
    "feat_selector.ranking_"
   ]
  },
  {
   "cell_type": "code",
   "execution_count": 237,
   "metadata": {},
   "outputs": [
    {
     "name": "stdout",
     "output_type": "stream",
     "text": [
      "Warning: xgboost.XGBRegressor is not available and will not be used by TPOT.\n"
     ]
    },
    {
     "name": "stderr",
     "output_type": "stream",
     "text": [
      "                                                                                                                       \r"
     ]
    },
    {
     "name": "stdout",
     "output_type": "stream",
     "text": [
      "Generation 1 - Current best internal CV score: -8.228067484218558e-08\n"
     ]
    },
    {
     "name": "stderr",
     "output_type": "stream",
     "text": [
      "                                                                                                                       \r"
     ]
    },
    {
     "name": "stdout",
     "output_type": "stream",
     "text": [
      "Generation 2 - Current best internal CV score: -8.228067484218558e-08\n"
     ]
    },
    {
     "name": "stderr",
     "output_type": "stream",
     "text": [
      "                                                                                                                       \r"
     ]
    },
    {
     "name": "stdout",
     "output_type": "stream",
     "text": [
      "Generation 3 - Current best internal CV score: -8.228067484212908e-08\n"
     ]
    },
    {
     "name": "stderr",
     "output_type": "stream",
     "text": [
      "                                                                                                                       \r"
     ]
    },
    {
     "name": "stdout",
     "output_type": "stream",
     "text": [
      "Generation 4 - Current best internal CV score: -8.228067484212908e-08\n"
     ]
    },
    {
     "name": "stderr",
     "output_type": "stream",
     "text": [
      "                                                                                                                       \r"
     ]
    },
    {
     "name": "stdout",
     "output_type": "stream",
     "text": [
      "Generation 5 - Current best internal CV score: -8.215335392079574e-08\n"
     ]
    },
    {
     "name": "stderr",
     "output_type": "stream",
     "text": [
      "                                                                                                                       \r"
     ]
    },
    {
     "name": "stdout",
     "output_type": "stream",
     "text": [
      "\n",
      "Best pipeline: LassoLarsCV(SelectPercentile(input_matrix, percentile=99), normalize=True)\n"
     ]
    },
    {
     "data": {
      "text/plain": [
       "TPOTRegressor(config_dict={'sklearn.linear_model.ElasticNetCV': {'l1_ratio': array([0.  , 0.05, 0.1 , 0.15, 0.2 , 0.25, 0.3 , 0.35, 0.4 , 0.45, 0.5 ,\n",
       "       0.55, 0.6 , 0.65, 0.7 , 0.75, 0.8 , 0.85, 0.9 , 0.95, 1.  ]), 'tol': [1e-05, 0.0001, 0.001, 0.01, 0.1]}, 'sklearn.ensemble.ExtraTreesRegressor': {'n_estimato....3 , 0.35, 0.4 , 0.45, 0.5 , 0.55,\n",
       "       0.6 , 0.65, 0.7 , 0.75, 0.8 , 0.85, 0.9 , 0.95, 1.  ])}}}},\n",
       "       crossover_rate=0.1, cv=5, disable_update_check=False,\n",
       "       early_stop=None, generations=5, max_eval_time_mins=5,\n",
       "       max_time_mins=None, memory=None, mutation_rate=0.9, n_jobs=1,\n",
       "       offspring_size=20, periodic_checkpoint_folder=None,\n",
       "       population_size=20, random_state=None, scoring=None, subsample=1.0,\n",
       "       verbosity=2, warm_start=False)"
      ]
     },
     "execution_count": 237,
     "metadata": {},
     "output_type": "execute_result"
    }
   ],
   "source": [
    "# TPOT\n",
    "\n",
    "from sklearn.cross_validation import train_test_split  \n",
    "from tpot import TPOTRegressor  \n",
    "X = X \n",
    "y = y  \n",
    "X_train, X_test, y_train, y_test = train_test_split(X, y,  \n",
    "                                                   train_size=0.75,  \n",
    "                                                   test_size=0.25)  \n",
    "my_tpot = TPOTRegressor(generations=5, population_size = 20 , verbosity= 2)\n",
    "my_tpot.fit(X_train, y_train)  \n",
    "#print(my_tpot.score(X_test, y_test))"
   ]
  },
  {
   "cell_type": "markdown",
   "metadata": {},
   "source": [
    "### Regression models"
   ]
  },
  {
   "cell_type": "code",
   "execution_count": 294,
   "metadata": {},
   "outputs": [],
   "source": [
    "metrics_data = pd.DataFrame()"
   ]
  },
  {
   "cell_type": "code",
   "execution_count": 373,
   "metadata": {},
   "outputs": [
    {
     "name": "stdout",
     "output_type": "stream",
     "text": [
      "mean absolute error =  0.00024162511306329105\n",
      "Root Mean Square Error=  0.00028048407480818326\n",
      "Root Sqaure =  0.9999999374887778\n",
      "Mape =  0.004735513266185673\n",
      "0.9999999374887778\n",
      "Accuracy testing : 1.000\n"
     ]
    }
   ],
   "source": [
    "## Linear Regression_Part4\n",
    "## Training Dataset\n",
    "from sklearn.model_selection import train_test_split\n",
    "from sklearn.linear_model import LinearRegression\n",
    "from sklearn.metrics import mean_squared_error\n",
    "from sklearn.metrics import r2_score\n",
    "from sklearn.metrics import mean_absolute_error\n",
    "import statsmodels.api as sm\n",
    "X_train, X_test, y_train, y_test = train_test_split(X, y, test_size=0.2, random_state=101)\n",
    "lm = LinearRegression()\n",
    "lm.fit(X_train,y_train)\n",
    "y = list(y)\n",
    "prediction = lm.predict(X_train)\n",
    "r2_train = r2_score(y_train, prediction)\n",
    "mse = mean_squared_error(y_train, prediction)\n",
    "mae_train = mean_absolute_error(y_train, prediction)\n",
    "rmse_train = np.sqrt(mse)\n",
    "mape_train = np.mean ((np.abs((y_train - prediction) / y_train)) * 100)\n",
    "print(\"mean absolute error = \" , mae_train)\n",
    "#print(mse)\n",
    "print(\"Root Mean Square Error= \" , rmse_train)\n",
    "print(\"Root Sqaure = \" , r2_train)\n",
    "print(\"Mape = \" , mape_train)\n",
    "accuracy_train = lm.score(X_train, y_train)\n",
    "print(accuracy_train)\n",
    "model = sm.OLS(y_train,prediction)\n",
    "results = model.fit()\n",
    "results.summary()\n",
    "print('Accuracy testing : {:.3f}'.format(rf.score(X_train, y_train)))"
   ]
  },
  {
   "cell_type": "code",
   "execution_count": 374,
   "metadata": {},
   "outputs": [
    {
     "name": "stdout",
     "output_type": "stream",
     "text": [
      "mean absolute error =  0.00026047753762482655\n",
      "Root Mean Square Error=  0.00030812828246065704\n",
      "Root Sqaure =  0.9999999325410636\n",
      "Mape =  0.005083008741481732\n",
      "0.9999999325410636\n",
      "Accuracy testing : 0.993\n"
     ]
    }
   ],
   "source": [
    "## Linear Regression_Part4\n",
    "## Testing Dataset\n",
    "\n",
    "lm = LinearRegression()\n",
    "lm.fit(X_train,y_train)\n",
    "y = list(y)\n",
    "prediction = lm.predict(X_test)\n",
    "r2_test = r2_score(y_test, prediction)\n",
    "mse = mean_squared_error(y_test, prediction)\n",
    "mae_test = mean_absolute_error(y_test, prediction)\n",
    "rmse_test = np.sqrt(mse)\n",
    "mape_test = np.mean ((np.abs((y_test - prediction) / y_test)) * 100)\n",
    "print(\"mean absolute error = \" , mae_test)\n",
    "print(\"Root Mean Square Error= \" , rmse_test)\n",
    "print(\"Root Sqaure = \" ,  r2_test)\n",
    "print(\"Mape = \" , mape_test)\n",
    "accuracy_test = lm.score(X_test, y_test)\n",
    "print(accuracy_test)\n",
    "model = sm.OLS(y_test,prediction)\n",
    "results = model.fit()\n",
    "results.summary()\n",
    "print('Accuracy testing : {:.3f}'.format(rf.score(X_test, y_test)))"
   ]
  },
  {
   "cell_type": "code",
   "execution_count": 375,
   "metadata": {},
   "outputs": [],
   "source": [
    "linear_regression = accuracy_test ,rmse_test ,r2_test, accuracy_train ,rmse_train,r2_train"
   ]
  },
  {
   "cell_type": "code",
   "execution_count": 376,
   "metadata": {},
   "outputs": [],
   "source": [
    "linear_regression = list(linear_regression)"
   ]
  },
  {
   "cell_type": "code",
   "execution_count": 377,
   "metadata": {},
   "outputs": [],
   "source": [
    "metrics = pd.DataFrame(linear_regression,index =['accuracy_test' ,'rmse_test','r2_test','accuracy_train' ,'rmse_train','r2_train'],columns=['LinearRegression'])"
   ]
  },
  {
   "cell_type": "code",
   "execution_count": 378,
   "metadata": {},
   "outputs": [
    {
     "name": "stdout",
     "output_type": "stream",
     "text": [
      "mean absolute error =  0.059579568924819734\n",
      "Root Mean Square Error=  0.09736937595048731\n",
      "Root Sqaure =  0.9932637044008288\n",
      "Mape =  1.4036329655438118\n",
      "0.9932637044008287\n",
      "Accuracy testing : 0.993\n"
     ]
    }
   ],
   "source": [
    "## RandomForest Regression\n",
    "## Testing Dataset\n",
    "from sklearn.ensemble import RandomForestRegressor\n",
    "rf = RandomForestRegressor(n_estimators = 100, random_state = np.random)\n",
    "#rf = RandomForestRegressor(n_estimators=100, oob_score=True, random_state=123456)\n",
    "X_train, X_test, y_train, y_test = train_test_split(X, y, test_size=0.2, random_state=101)\n",
    "rf.fit(X_train, y_train)\n",
    "from sklearn.metrics import accuracy_score\n",
    "prediction = rf.predict(X_test)\n",
    "r2_test = r2_score(y_test, prediction)\n",
    "mse = mean_squared_error(y_test, prediction)\n",
    "mae_test = mean_absolute_error(y_test, prediction)\n",
    "rmse_test = np.sqrt(mse)\n",
    "mape_test = np.mean ((np.abs((y_test - prediction) / y_test)) * 100)\n",
    "print(\"mean absolute error = \" , mae_test)\n",
    "print(\"Root Mean Square Error= \" , rmse_test)\n",
    "print(\"Root Sqaure = \" ,  r2_test)\n",
    "print(\"Mape = \" , mape_test)\n",
    "accuracy_test = rf.score(X_test, y_test)\n",
    "print(accuracy_test)\n",
    "model = sm.OLS(y_test,prediction)\n",
    "\n",
    "# Calculate and display accuracy\n",
    "\n",
    "print('Accuracy testing : {:.3f}'.format(rf.score(X_test, y_test)))"
   ]
  },
  {
   "cell_type": "code",
   "execution_count": 379,
   "metadata": {},
   "outputs": [
    {
     "name": "stdout",
     "output_type": "stream",
     "text": [
      "mean absolute error =  0.017723777953410316\n",
      "Root Mean Square Error=  0.023979741692937314\n",
      "Root Sqaure =  0.9995430900923231\n",
      "Mape =  0.366757243570867\n",
      "0.9995430900923231\n",
      "Accuracy testing : 1.000\n"
     ]
    }
   ],
   "source": [
    "## RandomForest Regression\n",
    "## Training Dataset\n",
    "from sklearn.ensemble import RandomForestRegressor\n",
    "rf = RandomForestRegressor(n_estimators = 100, random_state = np.random)\n",
    "X_train, X_test, y_train, y_test = train_test_split(X, y, test_size=0.2, random_state=101)\n",
    "rf.fit(X_train, y_train)\n",
    "from sklearn.metrics import accuracy_score\n",
    "prediction = rf.predict(X_train)\n",
    "r2_train = r2_score(y_train, prediction)\n",
    "mse = mean_squared_error(y_train, prediction)\n",
    "mae_train = mean_absolute_error(y_train, prediction)\n",
    "rmse_train = np.sqrt(mse)\n",
    "mape_train = np.mean ((np.abs((y_train - prediction) / y_train)) * 100)\n",
    "print(\"mean absolute error = \" , mae_train)\n",
    "print(\"Root Mean Square Error= \" , rmse_train)\n",
    "print(\"Root Sqaure = \" , r2_train)\n",
    "print(\"Mape = \" , mape_train)\n",
    "accuracy_train = rf.score(X_train, y_train)\n",
    "print(accuracy_train)\n",
    "model = sm.OLS(y_train,prediction)\n",
    "results = model.fit()\n",
    "results.summary()\n",
    "\n",
    "# Calculate and display accuracy\n",
    "\n",
    "print('Accuracy testing : {:.3f}'.format(rf.score(X_train, y_train)))"
   ]
  },
  {
   "cell_type": "code",
   "execution_count": 380,
   "metadata": {},
   "outputs": [],
   "source": [
    "Random_forest = accuracy_test ,rmse_test ,r2_test, accuracy_train ,rmse_train,r2_train"
   ]
  },
  {
   "cell_type": "code",
   "execution_count": 381,
   "metadata": {},
   "outputs": [],
   "source": [
    "Random_forest = list(Random_forest)"
   ]
  },
  {
   "cell_type": "code",
   "execution_count": 382,
   "metadata": {},
   "outputs": [],
   "source": [
    "metrics1 = pd.DataFrame(Random_forest,index =['accuracy_test' ,'rmse_test' ,'r2_test','accuracy_train' ,'rmse_train' ,'r2_train'],columns=['RandomForestRegressor'])"
   ]
  },
  {
   "cell_type": "code",
   "execution_count": 383,
   "metadata": {},
   "outputs": [],
   "source": [
    "metrics_data = metrics.merge(metrics1, left_index=True, right_index=True, how='inner')"
   ]
  },
  {
   "cell_type": "code",
   "execution_count": 384,
   "metadata": {},
   "outputs": [
    {
     "data": {
      "text/html": [
       "<div>\n",
       "<style scoped>\n",
       "    .dataframe tbody tr th:only-of-type {\n",
       "        vertical-align: middle;\n",
       "    }\n",
       "\n",
       "    .dataframe tbody tr th {\n",
       "        vertical-align: top;\n",
       "    }\n",
       "\n",
       "    .dataframe thead th {\n",
       "        text-align: right;\n",
       "    }\n",
       "</style>\n",
       "<table border=\"1\" class=\"dataframe\">\n",
       "  <thead>\n",
       "    <tr style=\"text-align: right;\">\n",
       "      <th></th>\n",
       "      <th>LinearRegression</th>\n",
       "      <th>RandomForestRegressor</th>\n",
       "    </tr>\n",
       "  </thead>\n",
       "  <tbody>\n",
       "    <tr>\n",
       "      <th>accuracy_test</th>\n",
       "      <td>1.000000</td>\n",
       "      <td>0.993264</td>\n",
       "    </tr>\n",
       "    <tr>\n",
       "      <th>rmse_test</th>\n",
       "      <td>0.000308</td>\n",
       "      <td>0.097369</td>\n",
       "    </tr>\n",
       "    <tr>\n",
       "      <th>r2_test</th>\n",
       "      <td>1.000000</td>\n",
       "      <td>0.993264</td>\n",
       "    </tr>\n",
       "    <tr>\n",
       "      <th>accuracy_train</th>\n",
       "      <td>1.000000</td>\n",
       "      <td>0.999543</td>\n",
       "    </tr>\n",
       "    <tr>\n",
       "      <th>rmse_train</th>\n",
       "      <td>0.000280</td>\n",
       "      <td>0.023980</td>\n",
       "    </tr>\n",
       "    <tr>\n",
       "      <th>r2_train</th>\n",
       "      <td>1.000000</td>\n",
       "      <td>0.999543</td>\n",
       "    </tr>\n",
       "  </tbody>\n",
       "</table>\n",
       "</div>"
      ],
      "text/plain": [
       "                LinearRegression  RandomForestRegressor\n",
       "accuracy_test           1.000000               0.993264\n",
       "rmse_test               0.000308               0.097369\n",
       "r2_test                 1.000000               0.993264\n",
       "accuracy_train          1.000000               0.999543\n",
       "rmse_train              0.000280               0.023980\n",
       "r2_train                1.000000               0.999543"
      ]
     },
     "execution_count": 384,
     "metadata": {},
     "output_type": "execute_result"
    }
   ],
   "source": [
    "metrics_data"
   ]
  },
  {
   "cell_type": "code",
   "execution_count": 385,
   "metadata": {},
   "outputs": [
    {
     "name": "stdout",
     "output_type": "stream",
     "text": [
      "mean absolute error =  7.43225792966333e-10\n",
      "Root Mean Square Error=  3.7428684771542635e-09\n",
      "Root Sqaure =  1.0\n",
      "Mape =  1.4612008436720516e-08\n",
      "1.0\n",
      "Accuracy testing : 1.000\n"
     ]
    }
   ],
   "source": [
    "# EXTRA TREE REGRESSOR\n",
    "#Train Data\n",
    "from sklearn.ensemble import ExtraTreesRegressor\n",
    "\n",
    "extr = ExtraTreesRegressor(n_estimators = 50, random_state = 123)\n",
    "\n",
    "X_train, X_test, y_train, y_test = train_test_split(X, y, test_size=0.2, random_state=101)\n",
    "\n",
    "extr.fit(X_train, y_train)\n",
    "from sklearn.metrics import accuracy_score\n",
    "prediction = extr.predict(X_train)\n",
    "r2_train = r2_score(y_train, prediction)\n",
    "mse = mean_squared_error(y_train, prediction)\n",
    "mae_train = mean_absolute_error(y_train, prediction)\n",
    "rmse_train = np.sqrt(mse)\n",
    "mape_train = np.mean ((np.abs((y_train - prediction) / y_train)) * 100)\n",
    "print(\"mean absolute error = \" , mae_train)\n",
    "print(\"Root Mean Square Error= \" , rmse_train)\n",
    "print(\"Root Sqaure = \" , r2_train)\n",
    "print(\"Mape = \" , mape_train)\n",
    "accuracy_train = extr.score(X_train, y_train)\n",
    "print(accuracy_train)\n",
    "model = sm.OLS(y_train,prediction)\n",
    "results = model.fit()\n",
    "results.summary()\n",
    "\n",
    "# Calculate and display accuracy\n",
    "\n",
    "print('Accuracy testing : {:.3f}'.format(extr.score(X_train, y_train)))"
   ]
  },
  {
   "cell_type": "code",
   "execution_count": 386,
   "metadata": {},
   "outputs": [
    {
     "name": "stdout",
     "output_type": "stream",
     "text": [
      "mean absolute error =  0.04293191091598328\n",
      "Root Mean Square Error=  0.08087852532613403\n",
      "Root Sqaure =  0.9953522494447291\n",
      "Mape =  1.0375268775888555\n",
      "0.9953522494447291\n",
      "Accuracy testing : 1.000\n"
     ]
    }
   ],
   "source": [
    "# EXTRA TREE REGRESSOR\n",
    "#Test Data\n",
    "from sklearn.ensemble import ExtraTreesRegressor\n",
    "\n",
    "extr = ExtraTreesRegressor(n_estimators = 50, random_state = 123)\n",
    "\n",
    "X_train, X_test, y_train, y_test = train_test_split(X, y, test_size=0.2, random_state=101)\n",
    "\n",
    "extr.fit(X_train, y_train)\n",
    "from sklearn.metrics import accuracy_score\n",
    "prediction = extr.predict(X_test)\n",
    "r2_test = r2_score(y_test, prediction)\n",
    "mse = mean_squared_error(y_test, prediction)\n",
    "mae_test = mean_absolute_error(y_test, prediction)\n",
    "rmse_test = np.sqrt(mse)\n",
    "mape_test = np.mean ((np.abs((y_test - prediction) / y_test)) * 100)\n",
    "print(\"mean absolute error = \" , mae_test)\n",
    "print(\"Root Mean Square Error= \" , rmse_test)\n",
    "print(\"Root Sqaure = \" ,  r2_test)\n",
    "print(\"Mape = \" , mape_test)\n",
    "accuracy_test = extr.score(X_test, y_test)\n",
    "print(accuracy_test)\n",
    "model = sm.OLS(y_test,prediction)\n",
    "# Calculate and display accuracy\n",
    "\n",
    "print('Accuracy testing : {:.3f}'.format(extr.score(X_train, y_train)))"
   ]
  },
  {
   "cell_type": "code",
   "execution_count": 387,
   "metadata": {},
   "outputs": [],
   "source": [
    "Extra_Tree = accuracy_test ,rmse_test ,r2_test, accuracy_train ,rmse_train,r2_train"
   ]
  },
  {
   "cell_type": "code",
   "execution_count": 388,
   "metadata": {},
   "outputs": [],
   "source": [
    "Extra_Tree = list(Extra_Tree)"
   ]
  },
  {
   "cell_type": "code",
   "execution_count": 389,
   "metadata": {},
   "outputs": [],
   "source": [
    "metrics2 = pd.DataFrame(Extra_Tree,index =['accuracy_test' ,'rmse_test' ,'r2_test','accuracy_train' ,'rmse_train','r2_train'],columns=['ExtraTreeRegressor'])"
   ]
  },
  {
   "cell_type": "code",
   "execution_count": 390,
   "metadata": {},
   "outputs": [],
   "source": [
    "metrics_data = metrics_data.merge(metrics2, left_index=True, right_index=True, how='inner')"
   ]
  },
  {
   "cell_type": "code",
   "execution_count": 391,
   "metadata": {},
   "outputs": [
    {
     "data": {
      "text/html": [
       "<div>\n",
       "<style scoped>\n",
       "    .dataframe tbody tr th:only-of-type {\n",
       "        vertical-align: middle;\n",
       "    }\n",
       "\n",
       "    .dataframe tbody tr th {\n",
       "        vertical-align: top;\n",
       "    }\n",
       "\n",
       "    .dataframe thead th {\n",
       "        text-align: right;\n",
       "    }\n",
       "</style>\n",
       "<table border=\"1\" class=\"dataframe\">\n",
       "  <thead>\n",
       "    <tr style=\"text-align: right;\">\n",
       "      <th></th>\n",
       "      <th>LinearRegression</th>\n",
       "      <th>RandomForestRegressor</th>\n",
       "      <th>ExtraTreeRegressor</th>\n",
       "    </tr>\n",
       "  </thead>\n",
       "  <tbody>\n",
       "    <tr>\n",
       "      <th>accuracy_test</th>\n",
       "      <td>1.000000</td>\n",
       "      <td>0.993264</td>\n",
       "      <td>9.953522e-01</td>\n",
       "    </tr>\n",
       "    <tr>\n",
       "      <th>rmse_test</th>\n",
       "      <td>0.000308</td>\n",
       "      <td>0.097369</td>\n",
       "      <td>8.087853e-02</td>\n",
       "    </tr>\n",
       "    <tr>\n",
       "      <th>r2_test</th>\n",
       "      <td>1.000000</td>\n",
       "      <td>0.993264</td>\n",
       "      <td>9.953522e-01</td>\n",
       "    </tr>\n",
       "    <tr>\n",
       "      <th>accuracy_train</th>\n",
       "      <td>1.000000</td>\n",
       "      <td>0.999543</td>\n",
       "      <td>1.000000e+00</td>\n",
       "    </tr>\n",
       "    <tr>\n",
       "      <th>rmse_train</th>\n",
       "      <td>0.000280</td>\n",
       "      <td>0.023980</td>\n",
       "      <td>3.742868e-09</td>\n",
       "    </tr>\n",
       "    <tr>\n",
       "      <th>r2_train</th>\n",
       "      <td>1.000000</td>\n",
       "      <td>0.999543</td>\n",
       "      <td>1.000000e+00</td>\n",
       "    </tr>\n",
       "  </tbody>\n",
       "</table>\n",
       "</div>"
      ],
      "text/plain": [
       "                LinearRegression  RandomForestRegressor  ExtraTreeRegressor\n",
       "accuracy_test           1.000000               0.993264        9.953522e-01\n",
       "rmse_test               0.000308               0.097369        8.087853e-02\n",
       "r2_test                 1.000000               0.993264        9.953522e-01\n",
       "accuracy_train          1.000000               0.999543        1.000000e+00\n",
       "rmse_train              0.000280               0.023980        3.742868e-09\n",
       "r2_train                1.000000               0.999543        1.000000e+00"
      ]
     },
     "execution_count": 391,
     "metadata": {},
     "output_type": "execute_result"
    }
   ],
   "source": [
    "metrics_data"
   ]
  },
  {
   "cell_type": "markdown",
   "metadata": {},
   "source": [
    "### Regulization"
   ]
  },
  {
   "cell_type": "markdown",
   "metadata": {},
   "source": [
    "### L2"
   ]
  },
  {
   "cell_type": "code",
   "execution_count": 245,
   "metadata": {},
   "outputs": [
    {
     "data": {
      "text/plain": [
       "0.997359540844881"
      ]
     },
     "execution_count": 245,
     "metadata": {},
     "output_type": "execute_result"
    }
   ],
   "source": [
    "from sklearn.linear_model import Ridge\n",
    "\n",
    "## training the model\n",
    "\n",
    "ridgeReg = Ridge(alpha=0.05, normalize=True)\n",
    "\n",
    "ridgeReg.fit(X_train,y_train)\n",
    "\n",
    "pred = ridgeReg.predict(X_test)\n",
    "\n",
    "ridgeReg.score(X_test,y_test)\n"
   ]
  },
  {
   "cell_type": "code",
   "execution_count": 246,
   "metadata": {},
   "outputs": [
    {
     "data": {
      "text/plain": [
       "Text(0.5,1,'Ridge Regression')"
      ]
     },
     "execution_count": 246,
     "metadata": {},
     "output_type": "execute_result"
    },
    {
     "data": {
      "image/png": "[encoded data removed]",
      "text/plain": [
       "<matplotlib.figure.Figure at 0x22923daf7f0>"
      ]
     },
     "metadata": {},
     "output_type": "display_data"
    }
   ],
   "source": [
    "y_predr = ridgeReg.predict(X)\n",
    "\n",
    "plt.scatter(y, y_predr)\n",
    "plt.xlabel(\"Happiness Score\")\n",
    "plt.ylabel(\"Predicted Happiness Score\")\n",
    "plt.title(\"Ridge Regression\")"
   ]
  },
  {
   "cell_type": "markdown",
   "metadata": {},
   "source": [
    "### L2"
   ]
  },
  {
   "cell_type": "code",
   "execution_count": 247,
   "metadata": {},
   "outputs": [
    {
     "data": {
      "text/plain": [
       "0.6945924322172851"
      ]
     },
     "execution_count": 247,
     "metadata": {},
     "output_type": "execute_result"
    }
   ],
   "source": [
    "from sklearn.linear_model import Lasso\n",
    "\n",
    "lassoReg = Lasso(alpha=0.03, normalize=True)\n",
    "\n",
    "lassoReg.fit(X_train,y_train)\n",
    "\n",
    "pred = lassoReg.predict(X_test)\n",
    "\n",
    "lassoReg.score(X_test,y_test)"
   ]
  },
  {
   "cell_type": "markdown",
   "metadata": {},
   "source": [
    "### Elastic Net"
   ]
  },
  {
   "cell_type": "code",
   "execution_count": 248,
   "metadata": {},
   "outputs": [
    {
     "data": {
      "text/plain": [
       "0.9788605606548964"
      ]
     },
     "execution_count": 248,
     "metadata": {},
     "output_type": "execute_result"
    }
   ],
   "source": [
    "from sklearn.linear_model import ElasticNet\n",
    "\n",
    "ENreg = ElasticNet(alpha=1, l1_ratio=0.5, normalize=False)\n",
    "\n",
    "ENreg.fit(X_train,y_train)\n",
    "\n",
    "pred_cv = ENreg.predict(X_test)\n",
    "\n",
    "ENreg.score(X_test,y_test)"
   ]
  },
  {
   "cell_type": "code",
   "execution_count": 249,
   "metadata": {},
   "outputs": [
    {
     "name": "stdout",
     "output_type": "stream",
     "text": [
      "Ridge Regression\n",
      "alpha\t RMSE_train\t RMSE_cv\n",
      "\n",
      "0.010\t 0.0012\t\t 0.0018\n",
      "0.418\t 0.0352\t\t 0.0466\n",
      "0.826\t 0.0548\t\t 0.0681\n",
      "1.234\t 0.0676\t\t 0.0807\n",
      "1.642\t 0.0766\t\t 0.0889\n",
      "2.050\t 0.0832\t\t 0.0947\n",
      "2.458\t 0.0884\t\t 0.0991\n",
      "2.866\t 0.0925\t\t 0.1025\n",
      "3.274\t 0.0958\t\t 0.1051\n",
      "3.682\t 0.0985\t\t 0.1073\n",
      "4.090\t 0.1009\t\t 0.1091\n",
      "4.498\t 0.1029\t\t 0.1107\n",
      "4.906\t 0.1046\t\t 0.1120\n",
      "5.313\t 0.1061\t\t 0.1131\n",
      "5.721\t 0.1075\t\t 0.1141\n",
      "6.129\t 0.1086\t\t 0.1150\n",
      "6.537\t 0.1097\t\t 0.1158\n",
      "6.945\t 0.1107\t\t 0.1165\n",
      "7.353\t 0.1115\t\t 0.1171\n",
      "7.761\t 0.1123\t\t 0.1177\n",
      "8.169\t 0.1130\t\t 0.1182\n",
      "8.577\t 0.1137\t\t 0.1186\n",
      "8.985\t 0.1143\t\t 0.1191\n",
      "9.393\t 0.1149\t\t 0.1195\n",
      "9.801\t 0.1154\t\t 0.1198\n",
      "10.209\t 0.1159\t\t 0.1202\n",
      "10.617\t 0.1163\t\t 0.1205\n",
      "11.025\t 0.1167\t\t 0.1208\n",
      "11.433\t 0.1171\t\t 0.1210\n",
      "11.841\t 0.1175\t\t 0.1213\n",
      "12.249\t 0.1178\t\t 0.1215\n",
      "12.657\t 0.1182\t\t 0.1218\n",
      "13.065\t 0.1185\t\t 0.1220\n",
      "13.473\t 0.1188\t\t 0.1222\n",
      "13.881\t 0.1190\t\t 0.1224\n",
      "14.289\t 0.1193\t\t 0.1225\n",
      "14.697\t 0.1195\t\t 0.1227\n",
      "15.104\t 0.1198\t\t 0.1229\n",
      "15.512\t 0.1200\t\t 0.1230\n",
      "15.920\t 0.1202\t\t 0.1232\n",
      "16.328\t 0.1204\t\t 0.1233\n",
      "16.736\t 0.1206\t\t 0.1234\n",
      "17.144\t 0.1208\t\t 0.1235\n",
      "17.552\t 0.1210\t\t 0.1237\n",
      "17.960\t 0.1212\t\t 0.1238\n",
      "18.368\t 0.1213\t\t 0.1239\n",
      "18.776\t 0.1215\t\t 0.1240\n",
      "19.184\t 0.1216\t\t 0.1241\n",
      "19.592\t 0.1218\t\t 0.1242\n",
      "20.000\t 0.1219\t\t 0.1243\n"
     ]
    }
   ],
   "source": [
    "print('Ridge Regression')\n",
    "print('alpha\\t RMSE_train\\t RMSE_cv\\n')\n",
    "alpha = np.linspace(.01,20,50)\n",
    "t_rmse = np.array([])\n",
    "cv_rmse = np.array([])\n",
    "\n",
    "for a in alpha:\n",
    "    ridge = Ridge(fit_intercept=True, alpha=a)  \n",
    "    # computing the RMSE on training data\n",
    "    ridge.fit(X,y)\n",
    "    y_pred = ridge.predict(X)\n",
    "    err = y_pred-y    \n",
    "    # Dot product of error vector with itself gives us the sum of squared errors\n",
    "    total_error = np.dot(err,err)\n",
    "    rmse_train = np.sqrt(total_error/len(y_pred))\n",
    "\n",
    "    # computing RMSE using 5-fold cross validation\n",
    "   # kf = KFold(len(X), n_folds=5)\n",
    "    kf = cross_validation.KFold(len(X), n_folds=3, shuffle=False, random_state=None)\n",
    "\n",
    "    xval_err = 0\n",
    "    for train, test in kf:\n",
    "        ridge.fit(X_train, y_train)\n",
    "        y_pred = ridge.predict(X_test)\n",
    "        err = y_pred - y_test\n",
    "        xval_err += np.dot(err,err)\n",
    "    rmse_cv = np.sqrt(xval_err/len(X))\n",
    "    \n",
    "    t_rmse = np.append(t_rmse, [rmse_train])\n",
    "    cv_rmse = np.append(cv_rmse, [rmse_cv])\n",
    "    print('{:.3f}\\t {:.4f}\\t\\t {:.4f}'.format(a,rmse_train,rmse_cv))"
   ]
  },
  {
   "cell_type": "code",
   "execution_count": 250,
   "metadata": {
    "scrolled": true
   },
   "outputs": [
    {
     "data": {
      "image/png": "[encoded data removed]",
      "text/plain": [
       "<matplotlib.figure.Figure at 0x22923dab9e8>"
      ]
     },
     "metadata": {},
     "output_type": "display_data"
    }
   ],
   "source": [
    "plt.plot(alpha, t_rmse, label='RMSE-Train')\n",
    "plt.plot(alpha, cv_rmse, label='RMSE_Cross_Val')\n",
    "plt.legend( ('Ridge RMSE-Train', 'Ridge RMSE_Cross_Val') )\n",
    "plt.ylabel('RMSE')\n",
    "plt.xlabel('Alpha')\n",
    "plt.show()"
   ]
  },
  {
   "cell_type": "markdown",
   "metadata": {},
   "source": [
    "### Cross Validation"
   ]
  },
  {
   "cell_type": "code",
   "execution_count": 251,
   "metadata": {},
   "outputs": [
    {
     "data": {
      "text/plain": [
       "0.9975780949570086"
      ]
     },
     "execution_count": 251,
     "metadata": {},
     "output_type": "execute_result"
    }
   ],
   "source": [
    "from sklearn.model_selection import cross_val_score\n",
    "from sklearn.ensemble import ExtraTreesRegressor\n",
    "accuracies = cross_val_score(ExtraTreesRegressor(), X=X_train, y=y_train,cv=5)\n",
    "accuracies.mean() "
   ]
  },
  {
   "cell_type": "code",
   "execution_count": 252,
   "metadata": {},
   "outputs": [
    {
     "data": {
      "text/plain": [
       "0.997549773882325"
      ]
     },
     "execution_count": 252,
     "metadata": {},
     "output_type": "execute_result"
    }
   ],
   "source": [
    "accuracies = cross_val_score(ExtraTreesRegressor(), X=X_train, y=y_train,cv=5)\n",
    "accuracies.mean() "
   ]
  },
  {
   "cell_type": "code",
   "execution_count": 253,
   "metadata": {},
   "outputs": [
    {
     "data": {
      "text/plain": [
       "0.9958358616856888"
      ]
     },
     "execution_count": 253,
     "metadata": {},
     "output_type": "execute_result"
    }
   ],
   "source": [
    "from sklearn.model_selection import cross_val_score\n",
    "from sklearn.ensemble import RandomForestRegressor\n",
    "accuracies = cross_val_score(RandomForestRegressor(), X=X_train, y=y_train,cv=5)\n",
    "accuracies.mean()  "
   ]
  },
  {
   "cell_type": "code",
   "execution_count": 254,
   "metadata": {},
   "outputs": [
    {
     "data": {
      "text/plain": [
       "0.9808496871803772"
      ]
     },
     "execution_count": 254,
     "metadata": {},
     "output_type": "execute_result"
    }
   ],
   "source": [
    "accuracies = cross_val_score(RandomForestRegressor(), X=X_test, y=y_test,cv=5)\n",
    "accuracies.mean()"
   ]
  },
  {
   "cell_type": "code",
   "execution_count": 255,
   "metadata": {},
   "outputs": [
    {
     "data": {
      "text/plain": [
       "0.9999999304556747"
      ]
     },
     "execution_count": 255,
     "metadata": {},
     "output_type": "execute_result"
    }
   ],
   "source": [
    "from sklearn.model_selection import cross_val_score\n",
    "from sklearn.linear_model import LinearRegression\n",
    "accuracies = cross_val_score(LinearRegression(), X=X_train, y=y_train,cv=5)\n",
    "accuracies.mean()  "
   ]
  },
  {
   "cell_type": "code",
   "execution_count": 256,
   "metadata": {},
   "outputs": [
    {
     "data": {
      "text/plain": [
       "0.999999916606237"
      ]
     },
     "execution_count": 256,
     "metadata": {},
     "output_type": "execute_result"
    }
   ],
   "source": [
    "accuracies = cross_val_score(LinearRegression(), X=X_test, y=y_test,cv=5)\n",
    "accuracies.mean() "
   ]
  },
  {
   "cell_type": "code",
   "execution_count": 257,
   "metadata": {},
   "outputs": [],
   "source": [
    "from sklearn.model_selection import KFold"
   ]
  },
  {
   "cell_type": "code",
   "execution_count": 258,
   "metadata": {
    "scrolled": true
   },
   "outputs": [
    {
     "name": "stdout",
     "output_type": "stream",
     "text": [
      "[  0   1   2   3   4   5   7   8   9  10  12  13  15  16  17  19  20  21\n",
      "  22  23  24  25  26  27  28  29  30  31  32  33  34  35  36  37  38  39\n",
      "  40  41  42  43  44  45  46  48  49  50  51  52  53  54  56  57  58  59\n",
      "  60  61  62  65  67  69  70  71  72  73  74  75  76  77  78  79  81  82\n",
      "  83  84  85  86  87  88  89  90  91  93  94  95  96  97  98  99 100 101\n",
      " 102 103 104 105 107 108 109 110 111 112 113 114 115 116 118 119 120 121\n",
      " 122 124 125 126 127 128 129 130 131 132 134 135 136 137 138 139 140 141\n",
      " 142 143 144 145 146 147 148 149 150 151 152 154 155 156 157 158 159 160\n",
      " 161 162 163 164 165 166 167 168 169 170 171 172 173 174 175 176 177 178\n",
      " 179 181 182 183 184 185 186 187 189 190 191 192 193 194 195 196 197 198\n",
      " 199 200 201 203 204 206 207 208 210 211 212 213 215 216 217 218 219 220\n",
      " 222 223 224 225 226 227 228 229 230 231 232 233 234 235 236 237 238 239\n",
      " 240 241 242 243 244 245 246 247 248 249 250 252 253 254 255 257 258 259\n",
      " 260 261 263 264 265 267 269 270 271 272 273 274 275 276 277 278 279 280\n",
      " 281 282 283 284 285 286 288 291 292 293 294 295 296 297 298 299 300 301\n",
      " 302 303 304 305 306 307 308 309 310 311 312 313 314 315 316 317 319 320\n",
      " 321 322 323 324 325 326 327 328 329 330 331 332 333 334 335 337 338 339\n",
      " 340 341 342 343 344 345 346 349 350 351 352 353 354 355 356 357 358 359\n",
      " 360 361 362 363 364 365 370 371 372 373 374 375 376 377 378 380 381 382\n",
      " 383 384 385 386 387 388 389 390 391 392 393 394 395 397 398 399 400 401\n",
      " 402 403 404 405 406 407 408 409 410 411 412 414 415 416 417 418 419 420\n",
      " 422 423 424 425 426 427 428 429 430 431 432 433 434 435 437 438 439 440\n",
      " 441 442 443 444 445 446 447 448 449 450 451 453 454 455 456 457 458 459\n",
      " 460 461 462 463 464 465 466 467 468] \n",
      " [  6  11  14  18  47  55  63  64  66  68  80  92 106 117 123 133 153 180\n",
      " 188 202 205 209 214 221 251 256 262 266 268 287 289 290 318 336 347 348\n",
      " 366 367 368 369 379 396 413 421 436 452 469] \n",
      "\n",
      "\n",
      "[  0   1   2   3   4   5   6   7   8   9  10  11  12  13  14  15  16  17\n",
      "  18  19  20  21  22  23  25  26  27  28  29  30  31  32  34  35  36  37\n",
      "  38  39  40  41  42  43  44  46  47  48  49  50  51  52  53  54  55  56\n",
      "  57  58  59  60  62  63  64  65  66  67  68  69  71  72  73  74  75  76\n",
      "  77  78  79  80  81  83  84  85  86  87  88  90  91  92  93  94  95  96\n",
      "  97  98  99 101 102 103 104 105 106 107 108 109 110 111 112 113 114 115\n",
      " 116 117 118 119 121 122 123 124 125 126 127 128 130 131 132 133 134 135\n",
      " 136 137 139 141 142 143 144 145 146 147 148 149 150 151 152 153 154 155\n",
      " 156 157 158 159 161 163 164 165 166 167 168 169 170 171 173 174 176 177\n",
      " 178 179 180 181 182 183 184 185 187 188 190 191 192 194 195 196 197 198\n",
      " 199 200 201 202 203 204 205 207 208 209 210 211 213 214 215 216 217 218\n",
      " 219 220 221 222 223 224 225 226 227 228 229 230 231 232 233 234 235 236\n",
      " 237 240 241 242 243 244 245 246 248 249 250 251 252 253 254 255 256 258\n",
      " 259 260 261 262 263 264 266 267 268 269 270 271 273 274 275 276 277 278\n",
      " 279 281 282 283 284 286 287 288 289 290 291 292 293 294 295 296 297 298\n",
      " 299 300 304 306 307 308 309 310 311 312 313 314 315 316 317 318 319 321\n",
      " 322 323 324 325 326 327 328 329 330 331 332 333 334 335 336 337 338 339\n",
      " 340 341 342 343 344 345 346 347 348 349 350 352 353 354 355 356 359 360\n",
      " 361 362 363 365 366 367 368 369 370 371 373 374 375 376 377 378 379 380\n",
      " 381 382 383 384 385 387 388 390 392 393 394 395 396 397 398 399 400 401\n",
      " 402 403 404 405 406 407 408 409 410 411 412 413 414 415 416 417 418 419\n",
      " 420 421 422 423 424 425 426 428 430 431 432 433 434 435 436 437 438 439\n",
      " 441 442 443 444 445 446 447 448 449 451 452 453 454 455 456 457 458 459\n",
      " 460 461 462 464 465 466 467 468 469] \n",
      " [ 24  33  45  61  70  82  89 100 120 129 138 140 160 162 172 175 186 189\n",
      " 193 206 212 238 239 247 257 265 272 280 285 301 302 303 305 320 351 357\n",
      " 358 364 372 386 389 391 427 429 440 450 463] \n",
      "\n",
      "\n",
      "[  0   1   2   3   4   5   6   7   9  10  11  12  14  15  16  17  18  19\n",
      "  20  21  22  23  24  26  27  28  29  30  31  32  33  35  36  37  38  39\n",
      "  40  41  44  45  46  47  48  49  50  51  52  53  54  55  56  57  58  59\n",
      "  60  61  63  64  65  66  67  68  69  70  71  73  74  75  77  78  79  80\n",
      "  81  82  85  86  87  88  89  90  91  92  93  94  95  96  97  98  99 100\n",
      " 101 104 106 107 109 110 111 112 113 114 115 116 117 118 119 120 121 122\n",
      " 123 125 126 127 128 129 130 131 132 133 135 136 137 138 140 141 143 144\n",
      " 145 147 148 149 150 151 152 153 154 155 156 157 158 159 160 161 162 164\n",
      " 165 167 168 169 170 171 172 174 175 176 177 178 179 180 181 182 183 185\n",
      " 186 187 188 189 190 193 194 195 196 197 198 199 201 202 203 204 205 206\n",
      " 207 208 209 212 213 214 215 216 217 218 220 221 222 223 224 225 227 230\n",
      " 231 232 233 234 235 236 237 238 239 240 241 242 243 244 245 246 247 248\n",
      " 249 250 251 252 253 255 256 257 258 259 260 261 262 264 265 266 267 268\n",
      " 269 270 272 273 274 275 276 277 278 279 280 281 283 284 285 286 287 288\n",
      " 289 290 291 292 293 294 295 296 297 298 299 300 301 302 303 304 305 306\n",
      " 307 308 309 310 311 312 313 314 315 316 317 318 319 320 321 322 323 324\n",
      " 325 326 327 328 329 330 331 332 333 334 335 336 337 338 339 341 342 343\n",
      " 344 345 347 348 349 350 351 352 353 354 355 356 357 358 359 360 361 362\n",
      " 363 364 365 366 367 368 369 370 371 372 373 374 375 376 377 378 379 380\n",
      " 381 382 383 384 385 386 387 388 389 390 391 392 393 394 396 397 398 400\n",
      " 401 402 403 404 405 406 407 408 409 410 411 412 413 415 416 417 418 419\n",
      " 420 421 422 423 425 426 427 428 429 430 431 432 433 434 435 436 437 438\n",
      " 439 440 441 442 443 445 446 447 448 449 450 451 452 453 455 456 457 458\n",
      " 460 461 463 464 465 466 467 468 469] \n",
      " [  8  13  25  34  42  43  62  72  76  83  84 102 103 105 108 124 134 139\n",
      " 142 146 163 166 173 184 191 192 200 210 211 219 226 228 229 254 263 271\n",
      " 282 340 346 395 399 414 424 444 454 459 462] \n",
      "\n",
      "\n",
      "[  0   2   3   4   5   6   7   8   9  10  11  13  14  15  16  17  18  19\n",
      "  20  21  22  23  24  25  26  27  28  29  30  31  32  33  34  35  36  37\n",
      "  39  40  41  42  43  44  45  47  48  49  50  51  52  53  54  55  56  57\n",
      "  58  59  61  62  63  64  65  66  67  68  69  70  71  72  73  74  75  76\n",
      "  77  78  79  80  81  82  83  84  85  86  87  89  90  91  92  94  95  97\n",
      "  98 100 101 102 103 105 106 107 108 109 110 111 113 114 115 116 117 118\n",
      " 119 120 121 122 123 124 125 126 127 129 131 132 133 134 135 136 137 138\n",
      " 139 140 141 142 143 144 145 146 147 148 149 150 151 153 155 156 158 159\n",
      " 160 161 162 163 164 165 166 167 168 170 171 172 173 174 175 176 177 178\n",
      " 179 180 181 182 183 184 185 186 187 188 189 190 191 192 193 194 196 197\n",
      " 198 199 200 201 202 204 205 206 207 208 209 210 211 212 213 214 215 217\n",
      " 218 219 221 222 223 224 226 227 228 229 230 231 232 233 234 235 236 237\n",
      " 238 239 240 241 242 243 244 245 246 247 248 249 250 251 252 253 254 255\n",
      " 256 257 258 259 260 261 262 263 264 265 266 267 268 269 270 271 272 273\n",
      " 275 277 279 280 281 282 283 284 285 286 287 288 289 290 291 292 293 294\n",
      " 295 296 297 298 299 301 302 303 305 306 307 308 309 310 311 313 314 315\n",
      " 316 317 318 320 321 322 323 324 327 328 329 330 331 332 333 334 335 336\n",
      " 339 340 341 342 343 344 345 346 347 348 349 350 351 352 353 354 355 356\n",
      " 357 358 359 360 361 363 364 366 367 368 369 370 371 372 373 375 376 377\n",
      " 378 379 380 381 382 383 384 385 386 387 388 389 391 392 393 394 395 396\n",
      " 399 400 401 403 404 406 407 408 409 411 412 413 414 415 416 417 418 420\n",
      " 421 422 423 424 426 427 428 429 430 431 432 433 434 435 436 437 438 439\n",
      " 440 443 444 445 446 447 448 449 450 451 452 453 454 456 457 458 459 460\n",
      " 461 462 463 464 465 466 467 468 469] \n",
      " [  1  12  38  46  60  88  93  96  99 104 112 128 130 152 154 157 169 195\n",
      " 203 216 220 225 274 276 278 300 304 312 319 325 326 337 338 362 365 374\n",
      " 390 397 398 402 405 410 419 425 441 442 455] \n",
      "\n",
      "\n",
      "[  0   1   2   3   4   5   6   7   8   9  10  11  12  13  14  15  18  19\n",
      "  21  22  23  24  25  26  27  28  29  30  31  32  33  34  35  36  37  38\n",
      "  40  41  42  43  44  45  46  47  48  49  50  51  52  53  54  55  56  57\n",
      "  58  59  60  61  62  63  64  66  67  68  70  72  73  74  75  76  77  78\n",
      "  79  80  81  82  83  84  85  86  87  88  89  90  92  93  94  95  96  97\n",
      "  98  99 100 102 103 104 105 106 107 108 109 111 112 113 114 115 116 117\n",
      " 118 119 120 121 122 123 124 125 126 127 128 129 130 131 132 133 134 135\n",
      " 136 138 139 140 141 142 143 145 146 148 149 150 151 152 153 154 155 156\n",
      " 157 158 160 161 162 163 164 165 166 168 169 171 172 173 174 175 176 177\n",
      " 178 179 180 181 182 183 184 185 186 187 188 189 190 191 192 193 194 195\n",
      " 196 197 198 199 200 201 202 203 205 206 207 208 209 210 211 212 214 215\n",
      " 216 217 218 219 220 221 222 224 225 226 227 228 229 230 231 233 234 235\n",
      " 236 237 238 239 240 241 242 243 245 246 247 249 250 251 252 253 254 255\n",
      " 256 257 258 259 260 262 263 264 265 266 267 268 271 272 273 274 275 276\n",
      " 277 278 279 280 281 282 283 284 285 287 288 289 290 291 292 293 294 295\n",
      " 296 297 298 299 300 301 302 303 304 305 306 307 308 309 311 312 313 315\n",
      " 316 318 319 320 321 322 323 325 326 327 328 329 330 331 332 334 335 336\n",
      " 337 338 339 340 343 344 346 347 348 349 350 351 352 354 355 357 358 359\n",
      " 360 361 362 363 364 365 366 367 368 369 370 371 372 373 374 375 377 379\n",
      " 380 381 383 384 385 386 387 389 390 391 392 393 395 396 397 398 399 400\n",
      " 402 403 404 405 406 407 409 410 411 412 413 414 415 416 417 418 419 420\n",
      " 421 422 423 424 425 427 428 429 430 431 433 434 435 436 437 438 439 440\n",
      " 441 442 443 444 445 446 447 448 449 450 451 452 453 454 455 456 458 459\n"
     ]
    },
    {
     "name": "stdout",
     "output_type": "stream",
     "text": [
      " 460 461 462 463 464 465 467 468 469] \n",
      " [ 16  17  20  39  65  69  71  91 101 110 137 144 147 159 167 170 204 213\n",
      " 223 232 244 248 261 269 270 286 310 314 317 324 333 341 342 345 353 356\n",
      " 376 378 382 388 394 401 408 426 432 457 466] \n",
      "\n",
      "\n",
      "[  0   1   2   3   4   5   6   7   8   9  10  11  12  13  14  15  16  17\n",
      "  18  20  21  22  24  25  26  27  29  30  31  32  33  34  36  38  39  40\n",
      "  41  42  43  44  45  46  47  49  50  51  52  53  54  55  56  57  58  59\n",
      "  60  61  62  63  64  65  66  67  68  69  70  71  72  73  74  75  76  77\n",
      "  78  79  80  81  82  83  84  85  86  87  88  89  91  92  93  94  95  96\n",
      "  97  98  99 100 101 102 103 104 105 106 107 108 109 110 112 114 115 117\n",
      " 119 120 121 122 123 124 125 126 127 128 129 130 131 133 134 135 136 137\n",
      " 138 139 140 141 142 143 144 145 146 147 148 149 150 151 152 153 154 155\n",
      " 156 157 158 159 160 161 162 163 164 165 166 167 168 169 170 171 172 173\n",
      " 174 175 176 178 179 180 181 183 184 186 187 188 189 190 191 192 193 194\n",
      " 195 196 197 198 199 200 201 202 203 204 205 206 207 208 209 210 211 212\n",
      " 213 214 215 216 217 218 219 220 221 222 223 224 225 226 227 228 229 230\n",
      " 231 232 234 236 237 238 239 240 242 243 244 247 248 249 250 251 252 254\n",
      " 255 256 257 259 260 261 262 263 264 265 266 268 269 270 271 272 273 274\n",
      " 276 278 279 280 281 282 283 284 285 286 287 288 289 290 291 292 293 294\n",
      " 296 297 300 301 302 303 304 305 306 308 310 311 312 313 314 315 316 317\n",
      " 318 319 320 321 322 323 324 325 326 327 328 330 331 332 333 335 336 337\n",
      " 338 339 340 341 342 343 345 346 347 348 349 350 351 352 353 356 357 358\n",
      " 359 360 361 362 364 365 366 367 368 369 370 371 372 373 374 376 377 378\n",
      " 379 380 381 382 383 385 386 387 388 389 390 391 392 393 394 395 396 397\n",
      " 398 399 401 402 403 404 405 406 407 408 409 410 411 412 413 414 416 417\n",
      " 418 419 420 421 422 423 424 425 426 427 429 431 432 434 435 436 437 438\n",
      " 439 440 441 442 443 444 445 446 447 449 450 452 454 455 456 457 458 459\n",
      " 460 462 463 464 465 466 467 468 469] \n",
      " [ 19  23  28  35  37  48  90 111 113 116 118 132 177 182 185 233 235 241\n",
      " 245 246 253 258 267 275 277 295 298 299 307 309 329 334 344 354 355 363\n",
      " 375 384 400 415 428 430 433 448 451 453 461] \n",
      "\n",
      "\n",
      "[  0   1   3   6   8   9  11  12  13  14  15  16  17  18  19  20  21  22\n",
      "  23  24  25  27  28  30  31  33  34  35  37  38  39  40  42  43  44  45\n",
      "  46  47  48  49  50  51  52  53  54  55  56  58  59  60  61  62  63  64\n",
      "  65  66  67  68  69  70  71  72  73  75  76  78  79  80  82  83  84  85\n",
      "  86  87  88  89  90  91  92  93  94  95  96  97  98  99 100 101 102 103\n",
      " 104 105 106 107 108 109 110 111 112 113 114 116 117 118 119 120 122 123\n",
      " 124 125 126 127 128 129 130 131 132 133 134 136 137 138 139 140 141 142\n",
      " 144 145 146 147 148 149 150 151 152 153 154 157 158 159 160 161 162 163\n",
      " 164 165 166 167 168 169 170 171 172 173 174 175 176 177 180 181 182 183\n",
      " 184 185 186 187 188 189 190 191 192 193 194 195 196 197 198 199 200 201\n",
      " 202 203 204 205 206 207 209 210 211 212 213 214 215 216 217 219 220 221\n",
      " 222 223 224 225 226 228 229 230 231 232 233 234 235 236 237 238 239 240\n",
      " 241 243 244 245 246 247 248 250 251 252 253 254 255 256 257 258 260 261\n",
      " 262 263 264 265 266 267 268 269 270 271 272 273 274 275 276 277 278 279\n",
      " 280 282 285 286 287 288 289 290 291 292 294 295 296 298 299 300 301 302\n",
      " 303 304 305 306 307 308 309 310 311 312 313 314 315 316 317 318 319 320\n",
      " 321 322 324 325 326 328 329 330 331 333 334 335 336 337 338 340 341 342\n",
      " 343 344 345 346 347 348 350 351 352 353 354 355 356 357 358 359 360 361\n",
      " 362 363 364 365 366 367 368 369 370 371 372 373 374 375 376 377 378 379\n",
      " 380 381 382 384 385 386 387 388 389 390 391 393 394 395 396 397 398 399\n",
      " 400 401 402 403 405 406 408 409 410 412 413 414 415 416 419 420 421 422\n",
      " 423 424 425 426 427 428 429 430 431 432 433 434 435 436 437 438 439 440\n",
      " 441 442 443 444 445 446 448 450 451 452 453 454 455 456 457 458 459 460\n",
      " 461 462 463 464 465 466 467 468 469] \n",
      " [  2   4   5   7  10  26  29  32  36  41  57  74  77  81 115 121 135 143\n",
      " 155 156 178 179 208 218 227 242 249 259 281 283 284 293 297 323 327 332\n",
      " 339 349 383 392 404 407 411 417 418 447 449] \n",
      "\n",
      "\n",
      "[  0   1   2   3   4   5   6   7   8  10  11  12  13  14  16  17  18  19\n",
      "  20  21  22  23  24  25  26  28  29  30  32  33  34  35  36  37  38  39\n",
      "  41  42  43  44  45  46  47  48  49  50  51  52  54  55  56  57  58  59\n",
      "  60  61  62  63  64  65  66  68  69  70  71  72  73  74  75  76  77  80\n",
      "  81  82  83  84  85  87  88  89  90  91  92  93  94  95  96  98  99 100\n",
      " 101 102 103 104 105 106 107 108 109 110 111 112 113 114 115 116 117 118\n",
      " 120 121 122 123 124 126 128 129 130 132 133 134 135 136 137 138 139 140\n",
      " 142 143 144 145 146 147 149 151 152 153 154 155 156 157 158 159 160 161\n",
      " 162 163 164 165 166 167 168 169 170 172 173 174 175 176 177 178 179 180\n",
      " 181 182 183 184 185 186 187 188 189 190 191 192 193 194 195 197 198 199\n",
      " 200 201 202 203 204 205 206 207 208 209 210 211 212 213 214 216 217 218\n",
      " 219 220 221 222 223 225 226 227 228 229 231 232 233 235 237 238 239 240\n",
      " 241 242 243 244 245 246 247 248 249 250 251 252 253 254 255 256 257 258\n",
      " 259 261 262 263 264 265 266 267 268 269 270 271 272 274 275 276 277 278\n",
      " 279 280 281 282 283 284 285 286 287 288 289 290 292 293 294 295 297 298\n",
      " 299 300 301 302 303 304 305 306 307 309 310 311 312 313 314 317 318 319\n",
      " 320 322 323 324 325 326 327 328 329 331 332 333 334 335 336 337 338 339\n",
      " 340 341 342 343 344 345 346 347 348 349 351 352 353 354 355 356 357 358\n",
      " 359 360 362 363 364 365 366 367 368 369 370 371 372 373 374 375 376 378\n",
      " 379 380 381 382 383 384 385 386 387 388 389 390 391 392 393 394 395 396\n",
      " 397 398 399 400 401 402 403 404 405 407 408 410 411 412 413 414 415 416\n",
      " 417 418 419 420 421 422 424 425 426 427 428 429 430 432 433 434 436 437\n",
      " 438 439 440 441 442 444 446 447 448 449 450 451 452 453 454 455 456 457\n",
      " 459 461 462 463 464 466 467 468 469] \n",
      " [  9  15  27  31  40  53  67  78  79  86  97 119 125 127 131 141 148 150\n",
      " 171 196 215 224 230 234 236 260 273 291 296 308 315 316 321 330 350 361\n",
      " 377 406 409 423 431 435 443 445 458 460 465] \n",
      "\n",
      "\n",
      "[  0   1   2   4   5   6   7   8   9  10  11  12  13  14  15  16  17  18\n",
      "  19  20  21  23  24  25  26  27  28  29  30  31  32  33  34  35  36  37\n",
      "  38  39  40  41  42  43  44  45  46  47  48  49  52  53  55  56  57  58\n",
      "  60  61  62  63  64  65  66  67  68  69  70  71  72  74  76  77  78  79\n",
      "  80  81  82  83  84  86  87  88  89  90  91  92  93  94  96  97  99 100\n",
      " 101 102 103 104 105 106 108 109 110 111 112 113 115 116 117 118 119 120\n",
      " 121 122 123 124 125 126 127 128 129 130 131 132 133 134 135 136 137 138\n",
      " 139 140 141 142 143 144 146 147 148 149 150 152 153 154 155 156 157 159\n",
      " 160 161 162 163 164 166 167 168 169 170 171 172 173 174 175 177 178 179\n",
      " 180 182 183 184 185 186 188 189 191 192 193 194 195 196 197 200 201 202\n",
      " 203 204 205 206 208 209 210 211 212 213 214 215 216 218 219 220 221 223\n",
      " 224 225 226 227 228 229 230 232 233 234 235 236 238 239 241 242 243 244\n",
      " 245 246 247 248 249 251 252 253 254 256 257 258 259 260 261 262 263 265\n",
      " 266 267 268 269 270 271 272 273 274 275 276 277 278 280 281 282 283 284\n",
      " 285 286 287 288 289 290 291 293 294 295 296 297 298 299 300 301 302 303\n",
      " 304 305 306 307 308 309 310 311 312 313 314 315 316 317 318 319 320 321\n",
      " 322 323 324 325 326 327 329 330 332 333 334 336 337 338 339 340 341 342\n",
      " 343 344 345 346 347 348 349 350 351 353 354 355 356 357 358 359 360 361\n",
      " 362 363 364 365 366 367 368 369 372 373 374 375 376 377 378 379 382 383\n",
      " 384 385 386 387 388 389 390 391 392 393 394 395 396 397 398 399 400 401\n",
      " 402 404 405 406 407 408 409 410 411 413 414 415 416 417 418 419 421 422\n",
      " 423 424 425 426 427 428 429 430 431 432 433 434 435 436 439 440 441 442\n",
      " 443 444 445 446 447 448 449 450 451 452 453 454 455 456 457 458 459 460\n",
      " 461 462 463 464 465 466 467 468 469] \n",
      " [  3  22  50  51  54  59  73  75  85  95  98 107 114 145 151 158 165 176\n",
      " 181 187 190 198 199 207 217 222 231 237 240 250 255 264 279 292 328 331\n",
      " 335 352 370 371 380 381 403 412 420 437 438] \n",
      "\n",
      "\n",
      "[  1   2   3   4   5   6   7   8   9  10  11  12  13  14  15  16  17  18\n",
      "  19  20  22  23  24  25  26  27  28  29  31  32  33  34  35  36  37  38\n",
      "  39  40  41  42  43  45  46  47  48  50  51  53  54  55  57  59  60  61\n",
      "  62  63  64  65  66  67  68  69  70  71  72  73  74  75  76  77  78  79\n",
      "  80  81  82  83  84  85  86  88  89  90  91  92  93  95  96  97  98  99\n",
      " 100 101 102 103 104 105 106 107 108 110 111 112 113 114 115 116 117 118\n",
      " 119 120 121 123 124 125 127 128 129 130 131 132 133 134 135 137 138 139\n",
      " 140 141 142 143 144 145 146 147 148 150 151 152 153 154 155 156 157 158\n",
      " 159 160 162 163 165 166 167 169 170 171 172 173 175 176 177 178 179 180\n",
      " 181 182 184 185 186 187 188 189 190 191 192 193 195 196 198 199 200 202\n",
      " 203 204 205 206 207 208 209 210 211 212 213 214 215 216 217 218 219 220\n",
      " 221 222 223 224 225 226 227 228 229 230 231 232 233 234 235 236 237 238\n",
      " 239 240 241 242 244 245 246 247 248 249 250 251 253 254 255 256 257 258\n",
      " 259 260 261 262 263 264 265 266 267 268 269 270 271 272 273 274 275 276\n",
      " 277 278 279 280 281 282 283 284 285 286 287 289 290 291 292 293 295 296\n",
      " 297 298 299 300 301 302 303 304 305 307 308 309 310 312 314 315 316 317\n",
      " 318 319 320 321 323 324 325 326 327 328 329 330 331 332 333 334 335 336\n",
      " 337 338 339 340 341 342 344 345 346 347 348 349 350 351 352 353 354 355\n",
      " 356 357 358 361 362 363 364 365 366 367 368 369 370 371 372 374 375 376\n",
      " 377 378 379 380 381 382 383 384 386 388 389 390 391 392 394 395 396 397\n",
      " 398 399 400 401 402 403 404 405 406 407 408 409 410 411 412 413 414 415\n",
      " 417 418 419 420 421 423 424 425 426 427 428 429 430 431 432 433 435 436\n",
      " 437 438 440 441 442 443 444 445 447 448 449 450 451 452 453 454 455 457\n"
     ]
    },
    {
     "name": "stdout",
     "output_type": "stream",
     "text": [
      " 458 459 460 461 462 463 465 466 469] \n",
      " [  0  21  30  44  49  52  56  58  87  94 109 122 126 136 149 161 164 168\n",
      " 174 183 194 197 201 243 252 288 294 306 311 313 322 343 359 360 373 385\n",
      " 387 393 416 422 434 439 446 456 464 467 468] \n",
      "\n",
      "\n"
     ]
    }
   ],
   "source": [
    "kf_total = cross_validation.KFold(len(X), n_folds=10, shuffle=True, random_state=4)\n",
    "for train, test in kf_total:\n",
    "    print (train, '\\n', test, '\\n\\n')"
   ]
  },
  {
   "cell_type": "markdown",
   "metadata": {},
   "source": [
    "### Bias-Variance Trade-Off"
   ]
  },
  {
   "cell_type": "code",
   "execution_count": 259,
   "metadata": {},
   "outputs": [
    {
     "data": {
      "text/plain": [
       "<module 'matplotlib.pyplot' from 'C:\\\\Users\\\\mehta\\\\Anaconda3\\\\lib\\\\site-packages\\\\matplotlib\\\\pyplot.py'>"
      ]
     },
     "execution_count": 259,
     "metadata": {},
     "output_type": "execute_result"
    },
    {
     "data": {
      "image/png": "[encoded data removed]",
      "text/plain": [
       "<matplotlib.figure.Figure at 0x22923db9128>"
      ]
     },
     "metadata": {},
     "output_type": "display_data"
    },
    {
     "data": {
      "image/png": "[encoded data removed]",
      "text/plain": [
       "<matplotlib.figure.Figure at 0x22921f7ea58>"
      ]
     },
     "metadata": {},
     "output_type": "display_data"
    }
   ],
   "source": [
    "import numpy as np\n",
    "import matplotlib.pyplot as plt\n",
    "from sklearn.datasets import load_digits\n",
    "from sklearn.model_selection import learning_curve\n",
    "from sklearn.model_selection import ShuffleSplit\n",
    "from sklearn.ensemble import ExtraTreesRegressor\n",
    "from sklearn.linear_model import LinearRegression\n",
    "def plot_learning_curve(estimator, title, X, y, ylim=None, cv=None,\n",
    "                       n_jobs=1, train_sizes=np.linspace(.1, 1.0, 5)):\n",
    "    plt.figure()\n",
    "    plt.title(title)\n",
    "    if ylim is not None:\n",
    "        plt.ylim(*ylim)\n",
    "    plt.xlabel(\"Training examples\")\n",
    "    plt.ylabel(\"Score\")\n",
    "    train_sizes, train_scores, test_scores = learning_curve(\n",
    "       estimator, X, y, cv=cv, n_jobs=n_jobs, train_sizes=train_sizes)\n",
    "    train_scores_mean = np.mean(train_scores, axis=1)\n",
    "    train_scores_std = np.std(train_scores, axis=1)\n",
    "    test_scores_mean = np.mean(test_scores, axis=1)\n",
    "    test_scores_std = np.std(test_scores, axis=1)\n",
    "    plt.grid()\n",
    "\n",
    "    plt.fill_between(train_sizes, train_scores_mean - train_scores_std,\n",
    "                    train_scores_mean + train_scores_std, alpha=0.1,\n",
    "                    color=\"r\")\n",
    "    plt.fill_between(train_sizes, test_scores_mean - test_scores_std,\n",
    "                    test_scores_mean + test_scores_std, alpha=0.1, color=\"g\")\n",
    "    plt.plot(train_sizes, train_scores_mean, 'o-', color=\"r\",\n",
    "            label=\"Training score\")\n",
    "    plt.plot(train_sizes, test_scores_mean, 'o-', color=\"g\",\n",
    "            label=\"Cross-validation score\")\n",
    "\n",
    "    plt.legend(loc=\"best\")\n",
    "    return plt\n",
    "\n",
    "\n",
    "digits = load_digits()\n",
    "\n",
    "title = \"Learning Curves (Extra Tree Forest)\"\n",
    "# Cross validation with 100 iterations to get smoother mean test and train\n",
    "# score curves, each time with 20% data randomly selected as a validation set.\n",
    "cv = ShuffleSplit(n_splits=100, test_size=0.2, random_state=0)\n",
    "\n",
    "estimator = ExtraTreesRegressor()\n",
    "plot_learning_curve(estimator, title, X, y, cv=cv, n_jobs=4)\n",
    "\n",
    "\n",
    "title = \"Learning Curves (Linear Regression)\"\n",
    "# Cross validation with 100 iterations to get smoother mean test and train\n",
    "# score curves, each time with 20% data randomly selected as a validation set.\n",
    "cv = ShuffleSplit(n_splits=100, test_size=0.2, random_state=0)\n",
    "\n",
    "estimator = LinearRegression()\n",
    "plot_learning_curve(estimator, title, X, y, cv=cv, n_jobs=4)"
   ]
  },
  {
   "cell_type": "markdown",
   "metadata": {},
   "source": [
    "### Clustering Algorithms\n"
   ]
  },
  {
   "cell_type": "code",
   "execution_count": 264,
   "metadata": {},
   "outputs": [
    {
     "name": "stdout",
     "output_type": "stream",
     "text": [
      "Collecting plotly\n",
      "  Downloading https://files.pythonhosted.org/packages/a7/3d/4dcdbafc9d5c01f468d41999cd9ab733f38e9ea4e4bea5a62841fedf5f0e/plotly-2.5.1.tar.gz (24.9MB)\n",
      "Requirement already satisfied: decorator>=4.0.6 in c:\\users\\mehta\\anaconda3\\lib\\site-packages (from plotly)\n",
      "Requirement already satisfied: nbformat>=4.2 in c:\\users\\mehta\\anaconda3\\lib\\site-packages (from plotly)\n",
      "Requirement already satisfied: pytz in c:\\users\\mehta\\anaconda3\\lib\\site-packages (from plotly)\n",
      "Requirement already satisfied: requests in c:\\users\\mehta\\anaconda3\\lib\\site-packages (from plotly)\n",
      "Requirement already satisfied: six in c:\\users\\mehta\\anaconda3\\lib\\site-packages (from plotly)\n",
      "Requirement already satisfied: ipython_genutils in c:\\users\\mehta\\anaconda3\\lib\\site-packages (from nbformat>=4.2->plotly)\n",
      "Requirement already satisfied: traitlets>=4.1 in c:\\users\\mehta\\anaconda3\\lib\\site-packages (from nbformat>=4.2->plotly)\n",
      "Requirement already satisfied: jsonschema!=2.5.0,>=2.4 in c:\\users\\mehta\\anaconda3\\lib\\site-packages (from nbformat>=4.2->plotly)\n",
      "Requirement already satisfied: jupyter_core in c:\\users\\mehta\\anaconda3\\lib\\site-packages (from nbformat>=4.2->plotly)\n",
      "Requirement already satisfied: chardet<3.1.0,>=3.0.2 in c:\\users\\mehta\\anaconda3\\lib\\site-packages (from requests->plotly)\n",
      "Requirement already satisfied: idna<2.7,>=2.5 in c:\\users\\mehta\\anaconda3\\lib\\site-packages (from requests->plotly)\n",
      "Requirement already satisfied: urllib3<1.23,>=1.21.1 in c:\\users\\mehta\\anaconda3\\lib\\site-packages (from requests->plotly)\n",
      "Requirement already satisfied: certifi>=2017.4.17 in c:\\users\\mehta\\anaconda3\\lib\\site-packages (from requests->plotly)\n",
      "Building wheels for collected packages: plotly\n",
      "  Running setup.py bdist_wheel for plotly: started\n",
      "  Running setup.py bdist_wheel for plotly: finished with status 'done'\n",
      "  Stored in directory: C:\\Users\\mehta\\AppData\\Local\\pip\\Cache\\wheels\\33\\be\\39\\f82c0f53ea29777fdc29afaf7bfad87442488a280662d355fb\n",
      "Successfully built plotly\n",
      "Installing collected packages: plotly\n",
      "Successfully installed plotly-2.5.1\n"
     ]
    },
    {
     "name": "stderr",
     "output_type": "stream",
     "text": [
      "You are using pip version 9.0.1, however version 10.0.1 is available.\n",
      "You should consider upgrading via the 'python -m pip install --upgrade pip' command.\n"
     ]
    }
   ],
   "source": [
    "!pip install plotly"
   ]
  },
  {
   "cell_type": "code",
   "execution_count": 269,
   "metadata": {},
   "outputs": [],
   "source": [
    "from sklearn import cluster, mixture # For clustering \n",
    "import types\n",
    "import plotly.graph_objs as go\n",
    "from plotly.offline import download_plotlyjs, init_notebook_mode, plot, iplot"
   ]
  },
  {
   "cell_type": "code",
   "execution_count": 275,
   "metadata": {},
   "outputs": [],
   "source": [
    "from sklearn.cluster import KMeans\n",
    "\n",
    "# Number of clusters\n",
    "kmeans = KMeans(n_clusters=3)\n",
    "# Fitting the input data\n",
    "kmeans = kmeans.fit(X)\n",
    "# Getting the cluster labels\n",
    "labels = kmeans.predict(X)\n",
    "# Centroid values\n",
    "centroids = kmeans.cluster_centers_"
   ]
  },
  {
   "cell_type": "code",
   "execution_count": 277,
   "metadata": {},
   "outputs": [
    {
     "name": "stdout",
     "output_type": "stream",
     "text": [
      "[[1.80870641e+00 5.25398675e-01 7.40111833e-01 3.23031121e-01\n",
      "  2.38959742e-01 1.31341935e+02 3.47704317e-01 1.08548153e-01\n",
      "  2.01598065e+03]\n",
      " [2.42308114e+00 1.27779047e+00 1.20500877e+00 5.05930715e-01\n",
      "  2.74133132e-01 2.69937107e+01 7.64316638e-01 2.00253815e-01\n",
      "  2.01600000e+03]\n",
      " [2.03818862e+00 9.70991358e-01 1.02018713e+00 3.77027041e-01\n",
      "  2.12996027e-01 7.94871795e+01 6.22849145e-01 9.41403457e-02\n",
      "  2.01600000e+03]]\n"
     ]
    }
   ],
   "source": [
    "print(centroids)"
   ]
  },
  {
   "cell_type": "code",
   "execution_count": 278,
   "metadata": {},
   "outputs": [
    {
     "data": {
      "text/html": [
       "<script>requirejs.config({paths: { 'plotly': ['https://cdn.plot.ly/plotly-latest.min']},});if(!window.Plotly) {{require(['plotly'],function(plotly) {window.Plotly=plotly;});}}</script>"
      ],
      "text/vnd.plotly.v1+html": [
       "<script>requirejs.config({paths: { 'plotly': ['https://cdn.plot.ly/plotly-latest.min']},});if(!window.Plotly) {{require(['plotly'],function(plotly) {window.Plotly=plotly;});}}</script>"
      ]
     },
     "metadata": {},
     "output_type": "display_data"
    }
   ],
   "source": [
    "import plotly.plotly as py\n",
    "import plotly.graph_objs as go\n",
    "from plotly.offline import download_plotlyjs, init_notebook_mode, plot, iplot\n",
    "init_notebook_mode(connected=True)\n",
    "%matplotlib inline\n",
    "sns.set_context('poster')\n",
    "sns.set_color_codes()"
   ]
  },
  {
   "cell_type": "code",
   "execution_count": 279,
   "metadata": {},
   "outputs": [],
   "source": [
    "plot_kwds = {'alpha' : 0.25, 's' : 80, 'linewidths':0}"
   ]
  },
  {
   "cell_type": "code",
   "execution_count": 280,
   "metadata": {},
   "outputs": [],
   "source": [
    "n_clusters=6"
   ]
  },
  {
   "cell_type": "code",
   "execution_count": 287,
   "metadata": {},
   "outputs": [
    {
     "data": {
      "text/plain": [
       "Index(['Country', 'Dystopia_Residual', 'Economy', 'Family', 'Freedom',\n",
       "       'Generosity', 'Happiness_Rank', 'Happiness_Score', 'Health', 'Trust',\n",
       "       'Year'],\n",
       "      dtype='object')"
      ]
     },
     "execution_count": 287,
     "metadata": {},
     "output_type": "execute_result"
    }
   ],
   "source": [
    "data.columns"
   ]
  },
  {
   "cell_type": "code",
   "execution_count": 293,
   "metadata": {},
   "outputs": [
    {
     "data": {
      "text/html": [
       "<div>\n",
       "<style scoped>\n",
       "    .dataframe tbody tr th:only-of-type {\n",
       "        vertical-align: middle;\n",
       "    }\n",
       "\n",
       "    .dataframe tbody tr th {\n",
       "        vertical-align: top;\n",
       "    }\n",
       "\n",
       "    .dataframe thead th {\n",
       "        text-align: right;\n",
       "    }\n",
       "</style>\n",
       "<table border=\"1\" class=\"dataframe\">\n",
       "  <thead>\n",
       "    <tr style=\"text-align: right;\">\n",
       "      <th></th>\n",
       "      <th>Country</th>\n",
       "    </tr>\n",
       "  </thead>\n",
       "  <tbody>\n",
       "    <tr>\n",
       "      <th>0</th>\n",
       "      <td>Norway</td>\n",
       "    </tr>\n",
       "    <tr>\n",
       "      <th>1</th>\n",
       "      <td>Denmark</td>\n",
       "    </tr>\n",
       "    <tr>\n",
       "      <th>2</th>\n",
       "      <td>Iceland</td>\n",
       "    </tr>\n",
       "    <tr>\n",
       "      <th>3</th>\n",
       "      <td>Switzerland</td>\n",
       "    </tr>\n",
       "    <tr>\n",
       "      <th>4</th>\n",
       "      <td>Finland</td>\n",
       "    </tr>\n",
       "    <tr>\n",
       "      <th>5</th>\n",
       "      <td>Netherlands</td>\n",
       "    </tr>\n",
       "    <tr>\n",
       "      <th>6</th>\n",
       "      <td>Canada</td>\n",
       "    </tr>\n",
       "    <tr>\n",
       "      <th>7</th>\n",
       "      <td>New Zealand</td>\n",
       "    </tr>\n",
       "    <tr>\n",
       "      <th>8</th>\n",
       "      <td>Sweden</td>\n",
       "    </tr>\n",
       "    <tr>\n",
       "      <th>9</th>\n",
       "      <td>Australia</td>\n",
       "    </tr>\n",
       "    <tr>\n",
       "      <th>10</th>\n",
       "      <td>Israel</td>\n",
       "    </tr>\n",
       "    <tr>\n",
       "      <th>11</th>\n",
       "      <td>Costa Rica</td>\n",
       "    </tr>\n",
       "    <tr>\n",
       "      <th>12</th>\n",
       "      <td>Austria</td>\n",
       "    </tr>\n",
       "    <tr>\n",
       "      <th>13</th>\n",
       "      <td>United States</td>\n",
       "    </tr>\n",
       "    <tr>\n",
       "      <th>14</th>\n",
       "      <td>Ireland</td>\n",
       "    </tr>\n",
       "    <tr>\n",
       "      <th>15</th>\n",
       "      <td>Germany</td>\n",
       "    </tr>\n",
       "    <tr>\n",
       "      <th>16</th>\n",
       "      <td>Belgium</td>\n",
       "    </tr>\n",
       "    <tr>\n",
       "      <th>17</th>\n",
       "      <td>Luxembourg</td>\n",
       "    </tr>\n",
       "    <tr>\n",
       "      <th>18</th>\n",
       "      <td>United Kingdom</td>\n",
       "    </tr>\n",
       "    <tr>\n",
       "      <th>19</th>\n",
       "      <td>Chile</td>\n",
       "    </tr>\n",
       "    <tr>\n",
       "      <th>20</th>\n",
       "      <td>United Arab Emirates</td>\n",
       "    </tr>\n",
       "    <tr>\n",
       "      <th>21</th>\n",
       "      <td>Brazil</td>\n",
       "    </tr>\n",
       "    <tr>\n",
       "      <th>22</th>\n",
       "      <td>Czech Republic</td>\n",
       "    </tr>\n",
       "    <tr>\n",
       "      <th>23</th>\n",
       "      <td>Argentina</td>\n",
       "    </tr>\n",
       "    <tr>\n",
       "      <th>24</th>\n",
       "      <td>Mexico</td>\n",
       "    </tr>\n",
       "    <tr>\n",
       "      <th>25</th>\n",
       "      <td>Singapore</td>\n",
       "    </tr>\n",
       "    <tr>\n",
       "      <th>26</th>\n",
       "      <td>Malta</td>\n",
       "    </tr>\n",
       "    <tr>\n",
       "      <th>27</th>\n",
       "      <td>Uruguay</td>\n",
       "    </tr>\n",
       "    <tr>\n",
       "      <th>28</th>\n",
       "      <td>Guatemala</td>\n",
       "    </tr>\n",
       "    <tr>\n",
       "      <th>29</th>\n",
       "      <td>Panama</td>\n",
       "    </tr>\n",
       "    <tr>\n",
       "      <th>...</th>\n",
       "      <td>...</td>\n",
       "    </tr>\n",
       "    <tr>\n",
       "      <th>128</th>\n",
       "      <td>Myanmar</td>\n",
       "    </tr>\n",
       "    <tr>\n",
       "      <th>129</th>\n",
       "      <td>Georgia</td>\n",
       "    </tr>\n",
       "    <tr>\n",
       "      <th>130</th>\n",
       "      <td>Malawi</td>\n",
       "    </tr>\n",
       "    <tr>\n",
       "      <th>131</th>\n",
       "      <td>Sri Lanka</td>\n",
       "    </tr>\n",
       "    <tr>\n",
       "      <th>132</th>\n",
       "      <td>Cameroon</td>\n",
       "    </tr>\n",
       "    <tr>\n",
       "      <th>133</th>\n",
       "      <td>Bulgaria</td>\n",
       "    </tr>\n",
       "    <tr>\n",
       "      <th>134</th>\n",
       "      <td>Egypt</td>\n",
       "    </tr>\n",
       "    <tr>\n",
       "      <th>135</th>\n",
       "      <td>Yemen</td>\n",
       "    </tr>\n",
       "    <tr>\n",
       "      <th>136</th>\n",
       "      <td>Angola</td>\n",
       "    </tr>\n",
       "    <tr>\n",
       "      <th>137</th>\n",
       "      <td>Mali</td>\n",
       "    </tr>\n",
       "    <tr>\n",
       "      <th>138</th>\n",
       "      <td>Congo (Brazzaville)</td>\n",
       "    </tr>\n",
       "    <tr>\n",
       "      <th>139</th>\n",
       "      <td>Comoros</td>\n",
       "    </tr>\n",
       "    <tr>\n",
       "      <th>140</th>\n",
       "      <td>Uganda</td>\n",
       "    </tr>\n",
       "    <tr>\n",
       "      <th>141</th>\n",
       "      <td>Senegal</td>\n",
       "    </tr>\n",
       "    <tr>\n",
       "      <th>142</th>\n",
       "      <td>Gabon</td>\n",
       "    </tr>\n",
       "    <tr>\n",
       "      <th>143</th>\n",
       "      <td>Niger</td>\n",
       "    </tr>\n",
       "    <tr>\n",
       "      <th>144</th>\n",
       "      <td>Cambodia</td>\n",
       "    </tr>\n",
       "    <tr>\n",
       "      <th>145</th>\n",
       "      <td>Tanzania</td>\n",
       "    </tr>\n",
       "    <tr>\n",
       "      <th>146</th>\n",
       "      <td>Madagascar</td>\n",
       "    </tr>\n",
       "    <tr>\n",
       "      <th>147</th>\n",
       "      <td>Central African Republic</td>\n",
       "    </tr>\n",
       "    <tr>\n",
       "      <th>148</th>\n",
       "      <td>Chad</td>\n",
       "    </tr>\n",
       "    <tr>\n",
       "      <th>149</th>\n",
       "      <td>Guinea</td>\n",
       "    </tr>\n",
       "    <tr>\n",
       "      <th>150</th>\n",
       "      <td>Ivory Coast</td>\n",
       "    </tr>\n",
       "    <tr>\n",
       "      <th>151</th>\n",
       "      <td>Burkina Faso</td>\n",
       "    </tr>\n",
       "    <tr>\n",
       "      <th>152</th>\n",
       "      <td>Afghanistan</td>\n",
       "    </tr>\n",
       "    <tr>\n",
       "      <th>153</th>\n",
       "      <td>Rwanda</td>\n",
       "    </tr>\n",
       "    <tr>\n",
       "      <th>154</th>\n",
       "      <td>Benin</td>\n",
       "    </tr>\n",
       "    <tr>\n",
       "      <th>155</th>\n",
       "      <td>Syria</td>\n",
       "    </tr>\n",
       "    <tr>\n",
       "      <th>156</th>\n",
       "      <td>Burundi</td>\n",
       "    </tr>\n",
       "    <tr>\n",
       "      <th>157</th>\n",
       "      <td>Togo</td>\n",
       "    </tr>\n",
       "  </tbody>\n",
       "</table>\n",
       "<p>470 rows × 1 columns</p>\n",
       "</div>"
      ],
      "text/plain": [
       "                      Country\n",
       "0                      Norway\n",
       "1                     Denmark\n",
       "2                     Iceland\n",
       "3                 Switzerland\n",
       "4                     Finland\n",
       "5                 Netherlands\n",
       "6                      Canada\n",
       "7                 New Zealand\n",
       "8                      Sweden\n",
       "9                   Australia\n",
       "10                     Israel\n",
       "11                 Costa Rica\n",
       "12                    Austria\n",
       "13              United States\n",
       "14                    Ireland\n",
       "15                    Germany\n",
       "16                    Belgium\n",
       "17                 Luxembourg\n",
       "18             United Kingdom\n",
       "19                      Chile\n",
       "20       United Arab Emirates\n",
       "21                     Brazil\n",
       "22             Czech Republic\n",
       "23                  Argentina\n",
       "24                     Mexico\n",
       "25                  Singapore\n",
       "26                      Malta\n",
       "27                    Uruguay\n",
       "28                  Guatemala\n",
       "29                     Panama\n",
       "..                        ...\n",
       "128                   Myanmar\n",
       "129                   Georgia\n",
       "130                    Malawi\n",
       "131                 Sri Lanka\n",
       "132                  Cameroon\n",
       "133                  Bulgaria\n",
       "134                     Egypt\n",
       "135                     Yemen\n",
       "136                    Angola\n",
       "137                      Mali\n",
       "138       Congo (Brazzaville)\n",
       "139                   Comoros\n",
       "140                    Uganda\n",
       "141                   Senegal\n",
       "142                     Gabon\n",
       "143                     Niger\n",
       "144                  Cambodia\n",
       "145                  Tanzania\n",
       "146                Madagascar\n",
       "147  Central African Republic\n",
       "148                      Chad\n",
       "149                    Guinea\n",
       "150               Ivory Coast\n",
       "151              Burkina Faso\n",
       "152               Afghanistan\n",
       "153                    Rwanda\n",
       "154                     Benin\n",
       "155                     Syria\n",
       "156                   Burundi\n",
       "157                      Togo\n",
       "\n",
       "[470 rows x 1 columns]"
      ]
     },
     "execution_count": 293,
     "metadata": {},
     "output_type": "execute_result"
    }
   ],
   "source": [
    "dataset=data.iloc[:,:1]\n",
    "dataset"
   ]
  },
  {
   "cell_type": "code",
   "execution_count": 291,
   "metadata": {},
   "outputs": [
    {
     "data": {
      "text/plain": [
       "Index(['Country'], dtype='object')"
      ]
     },
     "execution_count": 291,
     "metadata": {},
     "output_type": "execute_result"
    }
   ],
   "source": [
    "dataset.columns"
   ]
  },
  {
   "cell_type": "code",
   "execution_count": 289,
   "metadata": {},
   "outputs": [
    {
     "ename": "ValueError",
     "evalue": "could not convert string to float: 'Togo'",
     "output_type": "error",
     "traceback": [
      "\u001b[1;31m---------------------------------------------------------------------------\u001b[0m",
      "\u001b[1;31mValueError\u001b[0m                                Traceback (most recent call last)",
      "\u001b[1;32m<ipython-input-289-cd49715e8aad>\u001b[0m in \u001b[0;36m<module>\u001b[1;34m()\u001b[0m\n\u001b[0;32m      1\u001b[0m \u001b[1;32mfrom\u001b[0m \u001b[0msklearn\u001b[0m\u001b[1;33m.\u001b[0m\u001b[0mpreprocessing\u001b[0m \u001b[1;32mimport\u001b[0m \u001b[0mStandardScaler\u001b[0m\u001b[1;33m\u001b[0m\u001b[0m\n\u001b[0;32m      2\u001b[0m \u001b[0mss\u001b[0m \u001b[1;33m=\u001b[0m \u001b[0mStandardScaler\u001b[0m\u001b[1;33m(\u001b[0m\u001b[1;33m)\u001b[0m\u001b[1;33m\u001b[0m\u001b[0m\n\u001b[1;32m----> 3\u001b[1;33m \u001b[0mdataset\u001b[0m\u001b[1;33m=\u001b[0m\u001b[0mss\u001b[0m\u001b[1;33m.\u001b[0m\u001b[0mfit_transform\u001b[0m\u001b[1;33m(\u001b[0m\u001b[0mdataset\u001b[0m\u001b[1;33m)\u001b[0m\u001b[1;33m\u001b[0m\u001b[0m\n\u001b[0m",
      "\u001b[1;32m~\\Anaconda3\\lib\\site-packages\\sklearn\\base.py\u001b[0m in \u001b[0;36mfit_transform\u001b[1;34m(self, X, y, **fit_params)\u001b[0m\n\u001b[0;32m    515\u001b[0m         \u001b[1;32mif\u001b[0m \u001b[0my\u001b[0m \u001b[1;32mis\u001b[0m \u001b[1;32mNone\u001b[0m\u001b[1;33m:\u001b[0m\u001b[1;33m\u001b[0m\u001b[0m\n\u001b[0;32m    516\u001b[0m             \u001b[1;31m# fit method of arity 1 (unsupervised transformation)\u001b[0m\u001b[1;33m\u001b[0m\u001b[1;33m\u001b[0m\u001b[0m\n\u001b[1;32m--> 517\u001b[1;33m             \u001b[1;32mreturn\u001b[0m \u001b[0mself\u001b[0m\u001b[1;33m.\u001b[0m\u001b[0mfit\u001b[0m\u001b[1;33m(\u001b[0m\u001b[0mX\u001b[0m\u001b[1;33m,\u001b[0m \u001b[1;33m**\u001b[0m\u001b[0mfit_params\u001b[0m\u001b[1;33m)\u001b[0m\u001b[1;33m.\u001b[0m\u001b[0mtransform\u001b[0m\u001b[1;33m(\u001b[0m\u001b[0mX\u001b[0m\u001b[1;33m)\u001b[0m\u001b[1;33m\u001b[0m\u001b[0m\n\u001b[0m\u001b[0;32m    518\u001b[0m         \u001b[1;32melse\u001b[0m\u001b[1;33m:\u001b[0m\u001b[1;33m\u001b[0m\u001b[0m\n\u001b[0;32m    519\u001b[0m             \u001b[1;31m# fit method of arity 2 (supervised transformation)\u001b[0m\u001b[1;33m\u001b[0m\u001b[1;33m\u001b[0m\u001b[0m\n",
      "\u001b[1;32m~\\Anaconda3\\lib\\site-packages\\sklearn\\preprocessing\\data.py\u001b[0m in \u001b[0;36mfit\u001b[1;34m(self, X, y)\u001b[0m\n\u001b[0;32m    588\u001b[0m         \u001b[1;31m# Reset internal state before fitting\u001b[0m\u001b[1;33m\u001b[0m\u001b[1;33m\u001b[0m\u001b[0m\n\u001b[0;32m    589\u001b[0m         \u001b[0mself\u001b[0m\u001b[1;33m.\u001b[0m\u001b[0m_reset\u001b[0m\u001b[1;33m(\u001b[0m\u001b[1;33m)\u001b[0m\u001b[1;33m\u001b[0m\u001b[0m\n\u001b[1;32m--> 590\u001b[1;33m         \u001b[1;32mreturn\u001b[0m \u001b[0mself\u001b[0m\u001b[1;33m.\u001b[0m\u001b[0mpartial_fit\u001b[0m\u001b[1;33m(\u001b[0m\u001b[0mX\u001b[0m\u001b[1;33m,\u001b[0m \u001b[0my\u001b[0m\u001b[1;33m)\u001b[0m\u001b[1;33m\u001b[0m\u001b[0m\n\u001b[0m\u001b[0;32m    591\u001b[0m \u001b[1;33m\u001b[0m\u001b[0m\n\u001b[0;32m    592\u001b[0m     \u001b[1;32mdef\u001b[0m \u001b[0mpartial_fit\u001b[0m\u001b[1;33m(\u001b[0m\u001b[0mself\u001b[0m\u001b[1;33m,\u001b[0m \u001b[0mX\u001b[0m\u001b[1;33m,\u001b[0m \u001b[0my\u001b[0m\u001b[1;33m=\u001b[0m\u001b[1;32mNone\u001b[0m\u001b[1;33m)\u001b[0m\u001b[1;33m:\u001b[0m\u001b[1;33m\u001b[0m\u001b[0m\n",
      "\u001b[1;32m~\\Anaconda3\\lib\\site-packages\\sklearn\\preprocessing\\data.py\u001b[0m in \u001b[0;36mpartial_fit\u001b[1;34m(self, X, y)\u001b[0m\n\u001b[0;32m    610\u001b[0m         \"\"\"\n\u001b[0;32m    611\u001b[0m         X = check_array(X, accept_sparse=('csr', 'csc'), copy=self.copy,\n\u001b[1;32m--> 612\u001b[1;33m                         warn_on_dtype=True, estimator=self, dtype=FLOAT_DTYPES)\n\u001b[0m\u001b[0;32m    613\u001b[0m \u001b[1;33m\u001b[0m\u001b[0m\n\u001b[0;32m    614\u001b[0m         \u001b[1;31m# Even in the case of `with_mean=False`, we update the mean anyway\u001b[0m\u001b[1;33m\u001b[0m\u001b[1;33m\u001b[0m\u001b[0m\n",
      "\u001b[1;32m~\\Anaconda3\\lib\\site-packages\\sklearn\\utils\\validation.py\u001b[0m in \u001b[0;36mcheck_array\u001b[1;34m(array, accept_sparse, dtype, order, copy, force_all_finite, ensure_2d, allow_nd, ensure_min_samples, ensure_min_features, warn_on_dtype, estimator)\u001b[0m\n\u001b[0;32m    431\u001b[0m                                       force_all_finite)\n\u001b[0;32m    432\u001b[0m     \u001b[1;32melse\u001b[0m\u001b[1;33m:\u001b[0m\u001b[1;33m\u001b[0m\u001b[0m\n\u001b[1;32m--> 433\u001b[1;33m         \u001b[0marray\u001b[0m \u001b[1;33m=\u001b[0m \u001b[0mnp\u001b[0m\u001b[1;33m.\u001b[0m\u001b[0marray\u001b[0m\u001b[1;33m(\u001b[0m\u001b[0marray\u001b[0m\u001b[1;33m,\u001b[0m \u001b[0mdtype\u001b[0m\u001b[1;33m=\u001b[0m\u001b[0mdtype\u001b[0m\u001b[1;33m,\u001b[0m \u001b[0morder\u001b[0m\u001b[1;33m=\u001b[0m\u001b[0morder\u001b[0m\u001b[1;33m,\u001b[0m \u001b[0mcopy\u001b[0m\u001b[1;33m=\u001b[0m\u001b[0mcopy\u001b[0m\u001b[1;33m)\u001b[0m\u001b[1;33m\u001b[0m\u001b[0m\n\u001b[0m\u001b[0;32m    434\u001b[0m \u001b[1;33m\u001b[0m\u001b[0m\n\u001b[0;32m    435\u001b[0m         \u001b[1;32mif\u001b[0m \u001b[0mensure_2d\u001b[0m\u001b[1;33m:\u001b[0m\u001b[1;33m\u001b[0m\u001b[0m\n",
      "\u001b[1;31mValueError\u001b[0m: could not convert string to float: 'Togo'"
     ]
    }
   ],
   "source": [
    "from sklearn.preprocessing import StandardScaler\n",
    "ss = StandardScaler()\n",
    "dataset=ss.fit_transform(dataset)"
   ]
  },
  {
   "cell_type": "code",
   "execution_count": null,
   "metadata": {},
   "outputs": [],
   "source": []
  }
 ],
 "metadata": {
  "kernelspec": {
   "display_name": "Python 3",
   "language": "python",
   "name": "python3"
  },
  "language_info": {
   "codemirror_mode": {
    "name": "ipython",
    "version": 3
   },
   "file_extension": ".py",
   "mimetype": "text/x-python",
   "name": "python",
   "nbconvert_exporter": "python",
   "pygments_lexer": "ipython3",
   "version": "3.6.4"
  }
 },
 "nbformat": 4,
 "nbformat_minor": 2
}
